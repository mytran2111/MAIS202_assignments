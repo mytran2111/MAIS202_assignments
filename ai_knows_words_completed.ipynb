{
  "nbformat": 4,
  "nbformat_minor": 0,
  "metadata": {
    "colab": {
      "name": "ai_knows_words_completed.ipynb",
      "provenance": [],
      "collapsed_sections": []
    },
    "kernelspec": {
      "display_name": "Python 3",
      "name": "python3"
    }
  },
  "cells": [
    {
      "cell_type": "markdown",
      "metadata": {
        "id": "MaepMfVuF3Bx"
      },
      "source": [
        "Code modified from a scikit-learn tutorial on text classification with 20 Newsgroups: https://scikit-learn.org/stable/tutorial/text_analytics/working_with_text_data.html"
      ]
    },
    {
      "cell_type": "code",
      "metadata": {
        "id": "hYcOvodPevLC"
      },
      "source": [
        "from sklearn.datasets import fetch_20newsgroups"
      ],
      "execution_count": null,
      "outputs": []
    },
    {
      "cell_type": "markdown",
      "metadata": {
        "id": "iIHyHPU5GArJ"
      },
      "source": [
        "Load the 20 Newsgroups training set. There are twenty categories in total (listed in the comment)."
      ]
    },
    {
      "cell_type": "code",
      "metadata": {
        "colab": {
          "base_uri": "https://localhost:8080/"
        },
        "id": "W_clMJuFoFAA",
        "outputId": "ceca9594-cba0-4cca-df55-2166b9a7e98a"
      },
      "source": [
        "'''\r\n",
        "categories = [\"comp.graphics\", \"comp.os.ms-windows.misc\", \"comp.sys.ibm.pc.hardware\",\r\n",
        "              \"comp.sys.mac.hardware\", \"comp.windows.x\", \"rec.autos\", \"rec.motorcycles\",\r\n",
        "              \"rec.sport.baseball\", \"rec.sport.hockey\", \"sci.crypt\", \"sci.electronics\",\r\n",
        "              \"sci.med\", \"sci.space\", \"misc.forsale\", \"talk.politics.misc\",\r\n",
        "              \"talk.politics.guns\", \"talk.politics.mideast\", \"talk.religion.misc\",\r\n",
        "              \"alt.atheism\", \"soc.religion.christian\"]\r\n",
        "'''\r\n",
        "\r\n",
        "#Load the training set\r\n",
        "twenty_train = fetch_20newsgroups(subset=\"train\",\r\n",
        "                                  categories=None, shuffle=True, random_state=42)\r\n",
        "\r\n",
        "print(twenty_train.target_names)\r\n",
        "print(len(twenty_train.data))"
      ],
      "execution_count": null,
      "outputs": [
        {
          "output_type": "stream",
          "text": [
            "['alt.atheism', 'comp.graphics', 'comp.os.ms-windows.misc', 'comp.sys.ibm.pc.hardware', 'comp.sys.mac.hardware', 'comp.windows.x', 'misc.forsale', 'rec.autos', 'rec.motorcycles', 'rec.sport.baseball', 'rec.sport.hockey', 'sci.crypt', 'sci.electronics', 'sci.med', 'sci.space', 'soc.religion.christian', 'talk.politics.guns', 'talk.politics.mideast', 'talk.politics.misc', 'talk.religion.misc']\n",
            "11314\n"
          ],
          "name": "stdout"
        }
      ]
    },
    {
      "cell_type": "markdown",
      "metadata": {
        "id": "dnXoaNN7GO-l"
      },
      "source": [
        "According to the scikit-learn documentation, the variable `twenty_train` is a dictionary-like object, which notably[link text](https://) contains:\r\n",
        "\r\n",
        "\r\n",
        "*   `data`: A list where each entry holds the text for each document\r\n",
        "*   `target`: The list of target labels (the labels are in the form of indices)\r\n",
        "*   `target_names`: A list of the names of the target classes (the indices of this array match up with the labels in `target`)\r\n",
        "\r\n",
        "\r\n"
      ]
    },
    {
      "cell_type": "code",
      "metadata": {
        "colab": {
          "base_uri": "https://localhost:8080/"
        },
        "id": "3x4nibHpoU21",
        "outputId": "688a3365-dce0-4128-f5fd-4a04ad882334"
      },
      "source": [
        "print(twenty_train.data[0]) #Text of the first document\r\n",
        "print(twenty_train.target[0]) #Label of the first document (as an index)\r\n",
        "print(twenty_train.target_names[twenty_train.target[0]]) #Label (in text form)"
      ],
      "execution_count": null,
      "outputs": [
        {
          "output_type": "stream",
          "text": [
            "From: lerxst@wam.umd.edu (where's my thing)\n",
            "Subject: WHAT car is this!?\n",
            "Nntp-Posting-Host: rac3.wam.umd.edu\n",
            "Organization: University of Maryland, College Park\n",
            "Lines: 15\n",
            "\n",
            " I was wondering if anyone out there could enlighten me on this car I saw\n",
            "the other day. It was a 2-door sports car, looked to be from the late 60s/\n",
            "early 70s. It was called a Bricklin. The doors were really small. In addition,\n",
            "the front bumper was separate from the rest of the body. This is \n",
            "all I know. If anyone can tellme a model name, engine specs, years\n",
            "of production, where this car is made, history, or whatever info you\n",
            "have on this funky looking car, please e-mail.\n",
            "\n",
            "Thanks,\n",
            "- IL\n",
            "   ---- brought to you by your neighborhood Lerxst ----\n",
            "\n",
            "\n",
            "\n",
            "\n",
            "\n",
            "7\n",
            "rec.autos\n"
          ],
          "name": "stdout"
        }
      ]
    },
    {
      "cell_type": "markdown",
      "metadata": {
        "id": "FO8k1LpvIZAf"
      },
      "source": [
        "We now get word counts for our text documents by using sklearn's `CountVectorizer`. It holds the word counts in a sparse matrix (since the vocbulary is large and the vast majority of entries in each row will be zero)."
      ]
    },
    {
      "cell_type": "code",
      "metadata": {
        "colab": {
          "base_uri": "https://localhost:8080/"
        },
        "id": "i5NbOmWhpWG-",
        "outputId": "f1b5d71e-ee76-439a-ee5a-c02889e2ad82"
      },
      "source": [
        "from sklearn.feature_extraction.text import CountVectorizer\r\n",
        "count_vect = CountVectorizer() #Initialize CountVectorizer object\r\n",
        "X_train = count_vect.fit_transform(twenty_train.data) #Apply to data\r\n",
        "X_train.shape #(number of instances, vocabulary size)"
      ],
      "execution_count": null,
      "outputs": [
        {
          "output_type": "execute_result",
          "data": {
            "text/plain": [
              "(11314, 130107)"
            ]
          },
          "metadata": {
            "tags": []
          },
          "execution_count": 4
        }
      ]
    },
    {
      "cell_type": "markdown",
      "metadata": {
        "id": "WQlXAXTZLZqV"
      },
      "source": [
        "**First attempt: We train a Naive Bayes model on our counts from the training set.**"
      ]
    },
    {
      "cell_type": "code",
      "metadata": {
        "id": "HKXsLOpyuPXd"
      },
      "source": [
        "from sklearn.naive_bayes import MultinomialNB\r\n",
        "clf = MultinomialNB().fit(X_train, twenty_train.target) #Training happens here"
      ],
      "execution_count": null,
      "outputs": []
    },
    {
      "cell_type": "markdown",
      "metadata": {
        "id": "5M87u_HXLjdd"
      },
      "source": [
        "Let's test out Naive Bayes on sample inputs."
      ]
    },
    {
      "cell_type": "code",
      "metadata": {
        "colab": {
          "base_uri": "https://localhost:8080/"
        },
        "id": "optB6lCnucVa",
        "outputId": "968d9736-48e7-4e77-a7db-dd96044f4ac7"
      },
      "source": [
        "docs_new = [\"I just scored a home run.\", \"That's a nice set of wheels.\"]\r\n",
        "X_new_counts = count_vect.transform(docs_new)\r\n",
        "\r\n",
        "predicted = clf.predict(X_new_counts)\r\n",
        "\r\n",
        "for doc, category in zip(docs_new, predicted): \r\n",
        "  print(\"TEXT: %r \\t PREDICTION: %s\" % (doc, twenty_train.target_names[category]))"
      ],
      "execution_count": null,
      "outputs": [
        {
          "output_type": "stream",
          "text": [
            "TEXT: 'I just scored a home run.' \t PREDICTION: rec.sport.baseball\n",
            "TEXT: \"That's a nice set of wheels.\" \t PREDICTION: rec.autos\n"
          ],
          "name": "stdout"
        }
      ]
    },
    {
      "cell_type": "markdown",
      "metadata": {
        "id": "c4nzFtOJL6TZ"
      },
      "source": [
        "Let's see how our model does on the test set. Normally, if we wanted to make manual adjustments to our model, we would first use a validation set. For simplicity (and due to time constraints), we skip that step."
      ]
    },
    {
      "cell_type": "code",
      "metadata": {
        "colab": {
          "base_uri": "https://localhost:8080/"
        },
        "id": "YLHDsxxabSEJ",
        "outputId": "c21a1b41-da49-4e3a-a6e3-4b62edeba9f7"
      },
      "source": [
        "import numpy as np\r\n",
        "\r\n",
        "#Bring in the test set\r\n",
        "twenty_test = fetch_20newsgroups(subset='test', shuffle=True, random_state=42)\r\n",
        "docs_test = twenty_test.data\r\n",
        "X_test = count_vect.transform(twenty_test.data)\r\n",
        "predicted = clf.predict(X_test)\r\n",
        "np.mean(predicted == twenty_test.target)"
      ],
      "execution_count": null,
      "outputs": [
        {
          "output_type": "execute_result",
          "data": {
            "text/plain": [
              "0.7728359001593202"
            ]
          },
          "metadata": {
            "tags": []
          },
          "execution_count": 7
        }
      ]
    },
    {
      "cell_type": "markdown",
      "metadata": {
        "id": "K3Egiiw9MipP"
      },
      "source": [
        "77% accuracy is really impressive, especially when we consider that there are 20 classes!"
      ]
    },
    {
      "cell_type": "markdown",
      "metadata": {
        "id": "xfGTRK4RMwN8"
      },
      "source": [
        "To get a better idea of where our model is struggling the most, we can print out a more detailed report which includes precision, recall, and a confusion matrix."
      ]
    },
    {
      "cell_type": "code",
      "metadata": {
        "colab": {
          "base_uri": "https://localhost:8080/"
        },
        "id": "jL3uXQljb-fq",
        "outputId": "a85276a6-9543-4d1e-b426-943a401d6e9b"
      },
      "source": [
        "from sklearn import metrics\r\n",
        "print(metrics.classification_report(twenty_test.target, predicted,\r\n",
        "                                    target_names=twenty_test.target_names))\r\n",
        "\r\n",
        "metrics.confusion_matrix(twenty_test.target, predicted)"
      ],
      "execution_count": null,
      "outputs": [
        {
          "output_type": "stream",
          "text": [
            "                          precision    recall  f1-score   support\n",
            "\n",
            "             alt.atheism       0.79      0.77      0.78       319\n",
            "           comp.graphics       0.67      0.74      0.70       389\n",
            " comp.os.ms-windows.misc       0.20      0.00      0.01       394\n",
            "comp.sys.ibm.pc.hardware       0.56      0.77      0.65       392\n",
            "   comp.sys.mac.hardware       0.84      0.75      0.79       385\n",
            "          comp.windows.x       0.65      0.84      0.73       395\n",
            "            misc.forsale       0.93      0.65      0.77       390\n",
            "               rec.autos       0.87      0.91      0.89       396\n",
            "         rec.motorcycles       0.96      0.92      0.94       398\n",
            "      rec.sport.baseball       0.96      0.87      0.91       397\n",
            "        rec.sport.hockey       0.93      0.96      0.95       399\n",
            "               sci.crypt       0.67      0.95      0.78       396\n",
            "         sci.electronics       0.79      0.66      0.72       393\n",
            "                 sci.med       0.87      0.82      0.85       396\n",
            "               sci.space       0.83      0.89      0.86       394\n",
            "  soc.religion.christian       0.70      0.96      0.81       398\n",
            "      talk.politics.guns       0.69      0.91      0.79       364\n",
            "   talk.politics.mideast       0.85      0.94      0.89       376\n",
            "      talk.politics.misc       0.58      0.63      0.60       310\n",
            "      talk.religion.misc       0.89      0.33      0.49       251\n",
            "\n",
            "                accuracy                           0.77      7532\n",
            "               macro avg       0.76      0.76      0.75      7532\n",
            "            weighted avg       0.76      0.77      0.75      7532\n",
            "\n"
          ],
          "name": "stdout"
        },
        {
          "output_type": "execute_result",
          "data": {
            "text/plain": [
              "array([[245,   0,   0,   1,   0,   1,   0,   0,   1,   0,   2,   1,   1,\n",
              "          2,   2,  41,   2,  11,   5,   4],\n",
              "       [  1, 287,   0,  12,   4,  31,   1,   0,   0,   1,   0,  26,   5,\n",
              "          2,   8,   2,   2,   1,   6,   0],\n",
              "       [  2,  55,   1, 134,  13, 112,   2,   0,   1,   3,   1,  31,   4,\n",
              "          4,   8,   5,   2,   1,  14,   1],\n",
              "       [  0,  11,   1, 300,  15,  11,   3,   5,   0,   0,   1,  11,  23,\n",
              "          0,   5,   0,   1,   2,   3,   0],\n",
              "       [  0,  12,   1,  22, 289,   5,   3,   5,   1,   1,   0,  14,  10,\n",
              "          3,   3,   1,   4,   2,   9,   0],\n",
              "       [  1,  25,   2,  11,   1, 332,   0,   0,   0,   0,   0,  13,   0,\n",
              "          2,   4,   1,   2,   1,   0,   0],\n",
              "       [  0,   6,   0,  35,  17,   3, 253,  16,   4,   1,   4,   6,  16,\n",
              "          7,   6,   2,   5,   4,   5,   0],\n",
              "       [  0,   1,   0,   2,   0,   0,   4, 360,   3,   2,   2,   3,   0,\n",
              "          0,   4,   0,   4,   2,   9,   0],\n",
              "       [  0,   0,   0,   1,   0,   0,   2,  13, 365,   0,   0,   4,   0,\n",
              "          0,   0,   1,   3,   4,   5,   0],\n",
              "       [  1,   1,   0,   0,   1,   1,   0,   6,   0, 345,  16,   0,   0,\n",
              "          0,   5,   6,   2,   2,  11,   0],\n",
              "       [  0,   0,   0,   0,   0,   0,   0,   0,   0,   2, 385,   1,   0,\n",
              "          1,   1,   3,   1,   2,   3,   0],\n",
              "       [  0,   3,   0,   0,   0,   2,   1,   2,   0,   0,   0, 377,   2,\n",
              "          1,   1,   0,   2,   1,   4,   0],\n",
              "       [  0,  14,   0,  17,   5,   5,   0,   5,   1,   0,   1,  58, 261,\n",
              "         11,   6,   2,   1,   3,   3,   0],\n",
              "       [  7,   6,   0,   2,   0,   0,   1,   1,   0,   2,   1,   4,   5,\n",
              "        325,   3,  16,   1,   7,  15,   0],\n",
              "       [  1,   4,   0,   0,   0,   4,   0,   1,   0,   0,   0,   1,   2,\n",
              "          4, 351,   5,   2,   3,  16,   0],\n",
              "       [  3,   2,   0,   0,   0,   1,   0,   0,   0,   0,   1,   0,   0,\n",
              "          2,   2, 382,   0,   1,   0,   4],\n",
              "       [  0,   0,   0,   1,   0,   0,   1,   0,   3,   0,   0,   6,   0,\n",
              "          1,   0,   2, 330,   6,  13,   1],\n",
              "       [  1,   1,   0,   0,   0,   2,   0,   0,   0,   1,   0,   3,   0,\n",
              "          2,   0,   3,   2, 354,   7,   0],\n",
              "       [  1,   0,   0,   0,   0,   0,   0,   1,   0,   0,   0,   4,   0,\n",
              "          2,  10,   5,  87,   5, 195,   0],\n",
              "       [ 47,   2,   0,   0,   0,   0,   0,   0,   0,   0,   1,   2,   0,\n",
              "          3,   3,  70,  22,   5,  12,  84]])"
            ]
          },
          "metadata": {
            "tags": []
          },
          "execution_count": 8
        }
      ]
    },
    {
      "cell_type": "markdown",
      "metadata": {
        "id": "PjJx_niIS_mG"
      },
      "source": [
        "**Second attempt: Let's see what we can do with a different model. We will repeat what we have done above with the support vector machine (SVM) model.**"
      ]
    },
    {
      "cell_type": "code",
      "metadata": {
        "id": "3ejqgBSsUVZf"
      },
      "source": [
        "from sklearn.linear_model import SGDClassifier\r\n",
        "clf = SGDClassifier().fit(X_train, twenty_train.target) #Training happens here"
      ],
      "execution_count": null,
      "outputs": []
    },
    {
      "cell_type": "code",
      "metadata": {
        "id": "ZcS7LNMpTTyv",
        "colab": {
          "base_uri": "https://localhost:8080/"
        },
        "outputId": "8b0912ea-5773-4b26-c4dd-76d1d7349343"
      },
      "source": [
        "docs_new = [\"I just scored a home run.\", \"That's a nice set of wheels.\"]\r\n",
        "X_new_counts = count_vect.transform(docs_new)\r\n",
        "\r\n",
        "predicted = clf.predict(X_new_counts)\r\n",
        "\r\n",
        "for doc, category in zip(docs_new, predicted): \r\n",
        "  print(\"TEXT: %r \\t PREDICTION: %s\" % (doc, twenty_train.target_names[category]))"
      ],
      "execution_count": null,
      "outputs": [
        {
          "output_type": "stream",
          "text": [
            "TEXT: 'I just scored a home run.' \t PREDICTION: rec.sport.baseball\n",
            "TEXT: \"That's a nice set of wheels.\" \t PREDICTION: misc.forsale\n"
          ],
          "name": "stdout"
        }
      ]
    },
    {
      "cell_type": "code",
      "metadata": {
        "id": "roF-vCz2TUmH",
        "colab": {
          "base_uri": "https://localhost:8080/"
        },
        "outputId": "4743e7ab-7136-420a-8443-6e1f7b7e7423"
      },
      "source": [
        "import numpy as np\r\n",
        "\r\n",
        "#Bring in the test set\r\n",
        "twenty_test = fetch_20newsgroups(subset='test', shuffle=True, random_state=42)\r\n",
        "docs_test = twenty_test.data\r\n",
        "X_test = count_vect.transform(twenty_test.data)\r\n",
        "predicted = clf.predict(X_test)\r\n",
        "np.mean(predicted == twenty_test.target)"
      ],
      "execution_count": null,
      "outputs": [
        {
          "output_type": "execute_result",
          "data": {
            "text/plain": [
              "0.766728624535316"
            ]
          },
          "metadata": {
            "tags": []
          },
          "execution_count": 11
        }
      ]
    },
    {
      "cell_type": "code",
      "metadata": {
        "id": "U1ONiEapTYat",
        "colab": {
          "base_uri": "https://localhost:8080/"
        },
        "outputId": "6dd82ce9-200b-4755-90ee-685f1c9a3d60"
      },
      "source": [
        "from sklearn import metrics\r\n",
        "print(metrics.classification_report(twenty_test.target, predicted,\r\n",
        "                                    target_names=twenty_test.target_names))\r\n",
        "\r\n",
        "metrics.confusion_matrix(twenty_test.target, predicted)"
      ],
      "execution_count": null,
      "outputs": [
        {
          "output_type": "stream",
          "text": [
            "                          precision    recall  f1-score   support\n",
            "\n",
            "             alt.atheism       0.73      0.72      0.73       319\n",
            "           comp.graphics       0.59      0.73      0.65       389\n",
            " comp.os.ms-windows.misc       0.66      0.55      0.60       394\n",
            "comp.sys.ibm.pc.hardware       0.61      0.64      0.63       392\n",
            "   comp.sys.mac.hardware       0.68      0.79      0.73       385\n",
            "          comp.windows.x       0.81      0.68      0.74       395\n",
            "            misc.forsale       0.79      0.80      0.80       390\n",
            "               rec.autos       0.77      0.86      0.81       396\n",
            "         rec.motorcycles       0.93      0.91      0.92       398\n",
            "      rec.sport.baseball       0.87      0.86      0.86       397\n",
            "        rec.sport.hockey       0.94      0.90      0.92       399\n",
            "               sci.crypt       0.82      0.90      0.86       396\n",
            "         sci.electronics       0.71      0.66      0.68       393\n",
            "                 sci.med       0.81      0.73      0.77       396\n",
            "               sci.space       0.91      0.85      0.88       394\n",
            "  soc.religion.christian       0.82      0.86      0.84       398\n",
            "      talk.politics.guns       0.60      0.87      0.71       364\n",
            "   talk.politics.mideast       0.93      0.81      0.86       376\n",
            "      talk.politics.misc       0.81      0.53      0.64       310\n",
            "      talk.religion.misc       0.63      0.54      0.58       251\n",
            "\n",
            "                accuracy                           0.77      7532\n",
            "               macro avg       0.77      0.76      0.76      7532\n",
            "            weighted avg       0.77      0.77      0.77      7532\n",
            "\n"
          ],
          "name": "stdout"
        },
        {
          "output_type": "execute_result",
          "data": {
            "text/plain": [
              "array([[230,   7,   0,   3,   3,   1,   1,   0,   1,   0,   1,   5,   3,\n",
              "          4,   5,  19,   7,   4,   2,  23],\n",
              "       [  5, 283,  13,   6,  15,  20,   3,   3,   3,   4,   0,   7,  12,\n",
              "          4,   0,   2,   3,   2,   1,   3],\n",
              "       [  0,  35, 218,  56,  22,  18,   2,   7,   1,   3,   0,   8,   6,\n",
              "          3,   1,   1,   6,   1,   3,   3],\n",
              "       [  0,  17,  22, 252,  35,   3,  15,   4,   1,   1,   0,   8,  25,\n",
              "          3,   0,   0,   5,   0,   1,   0],\n",
              "       [  1,  11,  12,  18, 306,   0,   6,   4,   0,   6,   0,   0,  13,\n",
              "          3,   0,   0,   5,   0,   0,   0],\n",
              "       [  1,  44,  30,   8,   5, 270,   4,   4,   2,   2,   2,   3,   6,\n",
              "          4,   1,   3,   2,   1,   2,   1],\n",
              "       [  1,   4,   5,   9,  12,   0, 313,  13,   2,   1,   4,   2,  12,\n",
              "          5,   2,   2,   3,   0,   0,   0],\n",
              "       [  1,   4,   4,   4,   3,   1,  12, 341,   7,   2,   0,   1,   9,\n",
              "          2,   1,   0,   2,   0,   2,   0],\n",
              "       [  1,   3,   0,   1,   1,   0,   4,  12, 361,   2,   2,   1,   2,\n",
              "          0,   0,   1,   3,   0,   2,   2],\n",
              "       [  2,   0,   0,   3,   4,   2,   6,   2,   3, 342,  12,   1,   1,\n",
              "          5,   0,   1,  10,   2,   0,   1],\n",
              "       [  0,   2,   1,   3,   2,   0,   2,   2,   0,   7, 359,   5,   0,\n",
              "          2,   1,   0,  12,   0,   0,   1],\n",
              "       [  0,   4,   2,   3,   3,   4,   3,   2,   1,   2,   0, 355,   3,\n",
              "          1,   0,   0,  11,   0,   2,   0],\n",
              "       [  0,  14,   8,  31,  16,   2,   9,   8,   1,   3,   0,  19, 260,\n",
              "          7,   4,   3,   6,   0,   1,   1],\n",
              "       [  7,  13,   5,   5,   7,   6,   4,  17,   1,   3,   0,   0,   8,\n",
              "        288,   4,   8,   7,   2,   4,   7],\n",
              "       [  2,  17,   1,   2,   6,   2,   1,   3,   0,   0,   0,   3,   1,\n",
              "         11, 333,   0,   7,   2,   1,   2],\n",
              "       [ 16,   2,   3,   4,   0,   1,   1,   0,   0,   4,   1,   0,   3,\n",
              "          2,   2, 341,   5,   1,   1,  11],\n",
              "       [  0,   5,   2,   2,   2,   1,   3,   2,   3,   0,   0,   7,   0,\n",
              "          4,   1,   1, 318,   2,   4,   7],\n",
              "       [ 15,   2,   0,   1,   3,   1,   2,   9,   0,   6,   0,   3,   3,\n",
              "          0,   3,   2,  12, 304,   7,   3],\n",
              "       [  3,   3,   1,   2,   4,   1,   1,   7,   0,   4,   0,   4,   0,\n",
              "          2,   6,   3,  86,   2, 165,  16],\n",
              "       [ 28,   8,   1,   1,   3,   0,   2,   1,   0,   3,   0,   1,   1,\n",
              "          6,   3,  27,  19,   5,   6, 136]])"
            ]
          },
          "metadata": {
            "tags": []
          },
          "execution_count": 12
        }
      ]
    }
  ]
}