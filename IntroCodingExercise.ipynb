{
  "nbformat": 4,
  "nbformat_minor": 0,
  "metadata": {
    "colab": {
      "name": "IntroCodingExercise.ipynb",
      "provenance": [],
      "collapsed_sections": [],
      "include_colab_link": true
    },
    "kernelspec": {
      "name": "python3",
      "display_name": "Python 3"
    }
  },
  "cells": [
    {
      "cell_type": "markdown",
      "metadata": {
        "id": "view-in-github",
        "colab_type": "text"
      },
      "source": [
        "<a href=\"https://colab.research.google.com/github/mytran2111/ML_course_assignments/blob/main/IntroCodingExercise.ipynb\" target=\"_parent\"><img src=\"https://colab.research.google.com/assets/colab-badge.svg\" alt=\"Open In Colab\"/></a>"
      ]
    },
    {
      "cell_type": "markdown",
      "metadata": {
        "id": "BrOU6Q5yLB7l"
      },
      "source": [
        "# MAIS 202 Fall 2020 Coding Exercise"
      ]
    },
    {
      "cell_type": "markdown",
      "metadata": {
        "id": "GWmXA7Y2CpXm"
      },
      "source": [
        "[Application](http://tiny.cc/mais202-w2020-app)\n",
        "\n",
        "[Course Syllabus](http://tiny.cc/mais202-w2020-syllabus)"
      ]
    },
    {
      "cell_type": "markdown",
      "metadata": {
        "id": "ndY3n2f3GDGU"
      },
      "source": [
        "## Instructions\n",
        " Make a copy of this notebook into your personal Google Drive account.\n",
        "Make sure to make this notebook public by 11:59 pm, September 9th, 2020 in order to be evaluated.\n",
        "If you have any questions regarding this challenge, please reach out to us through our [Facebook Page](https://www.facebook.com/McGillAI/)."
      ]
    },
    {
      "cell_type": "markdown",
      "metadata": {
        "id": "j6hnKFVl_q1Y"
      },
      "source": [
        "## Questions\n",
        "* [Part 1](#scrollTo=QYskRrWJEwZH)\n",
        "* [Part 2 Task 1](#scrollTo=yl9IKD31K-J0)\n",
        "* [Part 2 Task 2](#scrollTo=t_xY3228qPmP)"
      ]
    },
    {
      "cell_type": "markdown",
      "metadata": {
        "id": "ihcWx8XBBrpY"
      },
      "source": [
        "## Part 1"
      ]
    },
    {
      "cell_type": "markdown",
      "metadata": {
        "id": "nq51RVvoBtUc"
      },
      "source": [
        "This part asks you to analyze a dataset using libraries.\n",
        "To learn more about movies grosses, we have provided you with two csv's: `movies_data.csv` and `genre_data.csv`.\n",
        "The urls to the files are\n",
        "```\n",
        "https://raw.githubusercontent.com/williamykzhang/MAIS_CE/master/genre_data.csv\n",
        "```\n",
        "and\n",
        "```\n",
        "https://raw.githubusercontent.com/williamykzhang/MAIS_CE/master/movies_data.csv\n",
        "```\n",
        "The file `movies_data.csv` contains information about movies such as their title, imdb rating, length, rank, rating, studio, worldwide gross, and year in a comma seperated format as shown below.\n",
        "![CSV example 1](https://user-images.githubusercontent.com/10730760/71313653-b9478880-2409-11ea-8745-a58909dcbd0f.png)\n",
        "\n",
        "The file `genre_data.csv` contains the genre for each movie in the `movies_data.csv` file, as shown below.\n",
        "![CSV example 2](https://user-images.githubusercontent.com/10730760/71313662-d3816680-2409-11ea-94c7-6795663ef8e3.png)\n",
        "\n",
        "Your challenge is as follows:\n",
        "\n",
        "1. In the provided cell, load the datasets from their urls, parse the information and determine the average worldwide gross for each of the genres using the **pandas** library. https://pandas.pydata.org/.\n",
        "2. Plot the results onto a graph using the **matplotlib** library. https://matplotlib.org/.\n",
        "\n",
        "**Note.** You are not allowed to use other libraries, and you are required to write all the code in the following cell. You are also not allowed to run bash commands. You must use the libraries we ask you to use.\n",
        "\n"
      ]
    },
    {
      "cell_type": "code",
      "metadata": {
        "id": "QYskRrWJEwZH",
        "colab": {
          "base_uri": "https://localhost:8080/",
          "height": 753
        },
        "outputId": "1e15dc68-6e8b-4888-c560-7839d2a4e8ee"
      },
      "source": [
        "##############################################################\n",
        "#                                                            #\n",
        "import pandas\n",
        "import matplotlib.pyplot as plt\n",
        "\n",
        "movie_data = pandas.read_csv('https://raw.githubusercontent.com/williamykzhang/MAIS_CE/master/movies_data.csv')\n",
        "genre_data = pandas.read_csv('https://raw.githubusercontent.com/williamykzhang/MAIS_CE/master/genre_data.csv')\n",
        "# Create list of columns needed\n",
        "columns_selected = ['title', 'worldwide_gross']\n",
        "\n",
        "# Change the string with $ to type float \n",
        "movie_data['worldwide_gross'] = movie_data['worldwide_gross'].replace('[\\$,]', '', regex=True).astype(float)\n",
        "#Merge two table\n",
        "merge_table = movie_data[columns_selected].merge(genre_data)\n",
        "grouped_table = merge_table.groupby('Main_Genre', as_index=False)[['worldwide_gross']].mean()\n",
        "\n",
        "#Plotting\n",
        "print(grouped_table.to_string())\n",
        "grouped_table.plot.bar(x='Main_Genre', y='worldwide_gross', title='Average worldwide gross', legend=False, figsize=(16, 6))\n",
        "\n",
        "\n",
        "\n",
        "\n",
        "\n",
        "\n",
        "#                                                            #\n",
        "##############################################################"
      ],
      "execution_count": null,
      "outputs": [
        {
          "output_type": "stream",
          "text": [
            "   Main_Genre  worldwide_gross\n",
            "0      Action     3.865555e+08\n",
            "1   Adventure     5.450808e+08\n",
            "2   Animation     5.269178e+08\n",
            "3      Comedy     3.766985e+08\n",
            "4       Crime     2.073900e+08\n",
            "5       Drama     2.752192e+08\n",
            "6      Family     2.315848e+08\n",
            "7     Fantasy     6.691673e+08\n",
            "8     History     2.522713e+08\n",
            "9      Horror     1.761020e+08\n",
            "10      Music     2.181311e+08\n",
            "11    Romance     2.653120e+08\n",
            "12     Sci-Fi     5.172855e+08\n",
            "13      Sport     9.804416e+07\n",
            "14   Thriller     3.563895e+08\n",
            "15        War     1.699709e+08\n"
          ],
          "name": "stdout"
        },
        {
          "output_type": "execute_result",
          "data": {
            "text/plain": [
              "<matplotlib.axes._subplots.AxesSubplot at 0x7fb1047fbe80>"
            ]
          },
          "metadata": {
            "tags": []
          },
          "execution_count": 9
        },
        {
          "output_type": "display_data",
          "data": {
            "image/png": "[encoded data removed]",
            "text/plain": [
              "<Figure size 1152x432 with 1 Axes>"
            ]
          },
          "metadata": {
            "tags": [],
            "needs_background": "light"
          }
        }
      ]
    },
    {
      "cell_type": "markdown",
      "metadata": {
        "id": "OJ9JDKpBFjMP"
      },
      "source": [
        "The output of the cell should be similar to the results shown below.\n",
        "\n",
        "\n",
        "![results1](https://raw.githubusercontent.com/williamykzhang/MAIS_CE/master/picture_2.png)\n",
        "![results2](https://raw.githubusercontent.com/williamykzhang/MAIS_CE/master/picture_3.png)"
      ]
    },
    {
      "cell_type": "markdown",
      "metadata": {
        "id": "-VmgvHMbLJtD"
      },
      "source": [
        "## Part 2"
      ]
    },
    {
      "cell_type": "markdown",
      "metadata": {
        "id": "XmKUKjJZnQJm"
      },
      "source": [
        "For the second half of the coding challenge, you are not allowed to use libraries.\n",
        "More specifically, you are not allowed to use imported code from the standard library nor from external libraries."
      ]
    },
    {
      "cell_type": "markdown",
      "metadata": {
        "id": "hNjqnOCknIOM"
      },
      "source": [
        "### First Task"
      ]
    },
    {
      "cell_type": "markdown",
      "metadata": {
        "id": "wL4DFYslLPgM"
      },
      "source": [
        "Your first task is to write a helper function `to_grade_point` which converts a grade out of 100 into a `tuple` whose first entry is a string representing the letter grade and whose second entry is a float representing the Grade Points.\n",
        "\n",
        "\n",
        "![Letter Grade Table](https://i.ibb.co/WnvbXL1/table.png)\n",
        "\n",
        "\n",
        "**Note.** Inputs are assumed to be valid. That is, inputs will be integers from 0 to 100 inclusive."
      ]
    },
    {
      "cell_type": "code",
      "metadata": {
        "id": "yl9IKD31K-J0"
      },
      "source": [
        "##############################################################\n",
        "#                                                            #\n",
        "#  Please write all of your code for this task in this cell  #\n",
        "#                                         #\n",
        "\n",
        "def to_grade_point(grade):\n",
        "  scale = [(59, ('F', 0.0)), (64, ('C+', 2.3)), (69, ('B-', 2.7)), (74, ('B', 3.0)), (79, ('B+', 3.3)), (84, ('A-', 3.7)), (100, ('A', 4.0))]\n",
        "  for s in scale:\n",
        "      if grade <= s[0]:\n",
        "          return s[1]\n",
        "##############################################################"
      ],
      "execution_count": null,
      "outputs": []
    },
    {
      "cell_type": "markdown",
      "metadata": {
        "id": "zYwXZLWQiSp4"
      },
      "source": [
        "You can test your code with the following snippet.\n",
        "If your code is correct, you should see\n",
        "\n",
        "![Example Code 1](https://i.ibb.co/4F9mP9Y/code1.png)"
      ]
    },
    {
      "cell_type": "code",
      "metadata": {
        "id": "MpZEmQ6WiPNY",
        "colab": {
          "base_uri": "https://localhost:8080/",
          "height": 153
        },
        "outputId": "e714df49-5931-42bc-d24f-ed49afcef620"
      },
      "source": [
        "for grade in [0, 99, 80, 85, 84, 60, 59, 74]:\n",
        "  print(\"{} -> {}\".format(grade, to_grade_point(grade)))"
      ],
      "execution_count": null,
      "outputs": [
        {
          "output_type": "stream",
          "text": [
            "0 -> ('F', 0.0)\n",
            "99 -> ('A', 4.0)\n",
            "80 -> ('A-', 3.7)\n",
            "85 -> ('A', 4.0)\n",
            "84 -> ('A-', 3.7)\n",
            "60 -> ('C+', 2.3)\n",
            "59 -> ('F', 0.0)\n",
            "74 -> ('B', 3.0)\n"
          ],
          "name": "stdout"
        }
      ]
    },
    {
      "cell_type": "markdown",
      "metadata": {
        "id": "4h1sMQu_nk6a"
      },
      "source": [
        "### Second Task"
      ]
    },
    {
      "cell_type": "markdown",
      "metadata": {
        "id": "HE0IwJBNnrbG"
      },
      "source": [
        "Your second task is to write a class named `GradeRecords` with a certain specification.\n",
        "This part will use the helper function defined in the first part so make sure to do that first.\n",
        "\n",
        "A `GradeRecords` object has the following attributes:\n",
        "* `term`, a string representing the current semester;\n",
        "* `grades`, a `list` object containing `tuples`, where the first entry of each tuple is a string representing the code of the class, the second entry of each tuple is the grade out of 100, and the third entry is the number of credits for this course. `grades` can be initialized (see below) as an empty list.\n",
        "* `num_courses` an `int` which contains the number of courses in the record. This can be initialized as 0.\n",
        "\n",
        "\n",
        "**Note.** You are not allowed to add more attributes.\n",
        "\n",
        "Furthermore, a `GradeRecords` object has the following methods:\n",
        "* an initialization method which takes as input the current term and initializes the three attributes;\n",
        "* `add_course`, a method which takes a string representing the course code, an int for the grade out of 100 and the number of credits. The method adds a new tuple to `grades`.\n",
        "* `get_best_courses`, a method which takes no parameters and outputs a list of course codes with the best grades. For instance, if the best grade is a 'B', it will output all course codes with a 'B', i.e. all courses codes with a grade between 70 and 74 (inclusive). You are required to use the helper function defined in the first part.\n",
        "* `get_GPA`, a method which outputs the Grade Point Average for the semester, assuming all classes all weighted by the number of credits. You are required to use the helper function from the first task. Round it to one decimal place.\n",
        "* `to_dict`, a method which returns a dict whose keys are the class codes and whose corresponding values are the letter grades. Once again, you must use the helper function from the first task.\n",
        "\n",
        "**Note.** All inputs are assumed to be valid. Particularly, you may assume there won't be duplicate class codes."
      ]
    },
    {
      "cell_type": "code",
      "metadata": {
        "id": "t_xY3228qPmP"
      },
      "source": [
        "##############################################################\n",
        "#                                                            #\n",
        "#  Please write all of your code for this task in this cell  #                     \n",
        "\n",
        "class GradeRecords:\n",
        "    grades = []\n",
        "    num_courses = 0\n",
        "    def __init__(self, term):\n",
        "        self.term = term\n",
        "        \n",
        "    def add_course(self, course_code, grade, credit):\n",
        "        self.grades.append((course_code, grade, credit))\n",
        "        self.num_courses = len(self.grades)\n",
        "    \n",
        "    def get_best_courses(self):\n",
        "        best_list = []\n",
        "        course_grade = []\n",
        "        for i in self.grades:\n",
        "            course_grade.append((i[0],to_grade_point(i[1])[1]))\n",
        "        max_list = []\n",
        "        for i in course_grade:\n",
        "            max_list.append(i[1])\n",
        "        max_value = max(max_list)\n",
        "        for i in course_grade:\n",
        "            if max_value == i[1]:\n",
        "                best_list.append(i[0])\n",
        "        return best_list\n",
        "    \n",
        "    def get_GPA(self):\n",
        "        gpa = 0\n",
        "        total_credit = 0\n",
        "        for i in self.grades:\n",
        "            gpa += i[2] * to_grade_point(i[1])[1]\n",
        "            total_credit += i[2]\n",
        "        gpa = gpa / total_credit\n",
        "        gpa = round(gpa,1)\n",
        "        return gpa\n",
        "\n",
        "    def to_dict(self):\n",
        "      grade_dict = {}\n",
        "      for i in self.grades:\n",
        "          grade_dict[i[0]] = to_grade_point(i[1])[0]\n",
        "      return grade_dict\n",
        "##############################################################"
      ],
      "execution_count": null,
      "outputs": []
    },
    {
      "cell_type": "markdown",
      "metadata": {
        "id": "CHoqh6O6qP6F"
      },
      "source": [
        "You can test your code with the following snippet. If your code is correct you should see\n",
        "\n",
        "![code example 2](https://i.ibb.co/xCPCWyy/code2.png)"
      ]
    },
    {
      "cell_type": "code",
      "metadata": {
        "id": "AUcO4WNB7mDa",
        "colab": {
          "base_uri": "https://localhost:8080/",
          "height": 238
        },
        "outputId": "63fdb2b5-994e-4ebf-d858-0977fb7dffee"
      },
      "source": [
        "gr = GradeRecords(\"Fall 2019\")\n",
        "print(\"First batch\")\n",
        "print(\"Term: {}\".format(gr.term))\n",
        "\n",
        "gr.add_course(\"COMP 202\", 83, 3)\n",
        "gr.add_course(\"CLAS 203\", 75, 3)\n",
        "gr.add_course(\"LING 360\", 81, 3)\n",
        "\n",
        "print(\"Number of courses: {}\".format(gr.num_courses))\n",
        "print(\"Best courses: {}\".format(gr.get_best_courses()))\n",
        "print(\"GPA: {}\".format(gr.get_GPA()))\n",
        "print(\"Dictionary: {}\".format(gr.to_dict()))\n",
        "\n",
        "print() \n",
        "\n",
        "print(\"Second batch\")\n",
        "print(\"Term: {}\".format(gr.term))\n",
        "\n",
        "gr.add_course(\"COMP 551\", 67, 4)\n",
        "gr.add_course(\"HIST 318\", 88, 3)\n",
        "\n",
        "print(\"Number of courses: {}\".format(gr.num_courses))\n",
        "print(\"Best courses: {}\".format(gr.get_best_courses()))\n",
        "print(\"GPA: {}\".format(gr.get_GPA()))\n",
        "print(\"Dictionary: {}\".format(gr.to_dict()))"
      ],
      "execution_count": null,
      "outputs": [
        {
          "output_type": "stream",
          "text": [
            "First batch\n",
            "Term: Fall 2019\n",
            "Number of courses: 3\n",
            "Best courses: ['COMP 202', 'LING 360']\n",
            "GPA: 3.6\n",
            "Dictionary: {'COMP 202': 'A-', 'CLAS 203': 'B+', 'LING 360': 'A-'}\n",
            "\n",
            "Second batch\n",
            "Term: Fall 2019\n",
            "Number of courses: 5\n",
            "Best courses: ['HIST 318']\n",
            "GPA: 3.4\n",
            "Dictionary: {'COMP 202': 'A-', 'CLAS 203': 'B+', 'LING 360': 'A-', 'COMP 551': 'B-', 'HIST 318': 'A'}\n"
          ],
          "name": "stdout"
        }
      ]
    }
  ]
}