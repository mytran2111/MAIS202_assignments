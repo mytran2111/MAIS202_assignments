{
  "nbformat": 4,
  "nbformat_minor": 0,
  "metadata": {
    "colab": {
      "name": "Assignment2.ipynb",
      "provenance": [],
      "collapsed_sections": [
        "1LAqa9be_3vR",
        "W6CdJGpjcK2r"
      ]
    },
    "kernelspec": {
      "name": "python3",
      "display_name": "Python 3"
    }
  },
  "cells": [
    {
      "cell_type": "markdown",
      "metadata": {
        "id": "gpWWCpEXiEda"
      },
      "source": [
        "# Assignment 2 ― Classification"
      ]
    },
    {
      "cell_type": "markdown",
      "metadata": {
        "id": "r9UW_dipiFw9"
      },
      "source": [
        "## 0. Introduction\n",
        "\n",
        "In this second assigment, we will explore another cornerstone of machine learning: supervised classification. We will be specifically classifying IMDB movie reviews by their positive (1) or negative (-1) score. To do this, we will first pre-process the raw data by cleaning and turning each review into a vector. Then, we will explore and fine-tune our use of the following learning algorithms for classification: naive Bayes classifiers, support vector machines, and random forests. \n",
        "\n",
        "* [Question 1.1](#scrollTo=m0QxxH3KngAg)\n",
        "* [Question 2.1](#scrollTo=6VWSBN37uXod)\n",
        "* [Question 2.2](#scrollTo=CuW0ahvaJtOt)\n",
        "* [Question 2.3](#scrollTo=co54Ubd5QJDN)\n",
        "* [Question 3.1](#scrollTo=fN-dse1NBQnk)\n",
        "* [Question 3.2](#scrollTo=wfCjr-JrEJya)\n",
        "* [Question 3.3](#scrollTo=l1iGVZtkE5fF)\n",
        "* [Question 4.1](#scrollTo=YKLBuWjmAKoJ)\n",
        "* [Question 5.1](#scrollTo=Myn-42J9ACsH)\n",
        "* [Question 5.2](#scrollTo=1LAqa9be_3vR)\n",
        "* [Question 6.1](#scrollTo=C144CYOeYPca) [Optional] \n",
        "* [Question 6.2](#scrollTo=rnIbpGe-Z52z) [Optional] \n",
        "* [Question 6.3](#scrollTo=W6CdJGpjcK2r) [Optional] \n",
        "\n",
        "\n",
        "\n",
        "$% latex commands for later use$\n",
        "$\\newcommand{\\R}{\\mathbb{R}}$\n",
        "$\\newcommand{\\B}{\\mathbb{B}}$\n",
        "$\\newcommand{\\argmax}{\\operatorname*{arg\\ max}}$\n",
        "$\\newcommand{\\given}{\\; \\vert \\;}$\n",
        "\n"
      ]
    },
    {
      "cell_type": "markdown",
      "metadata": {
        "id": "1GJHuG6PnQ-N"
      },
      "source": [
        "## 1. Importing Libraries and Data\n",
        "\n",
        "For this assignment, we will be using a dataset of IMDB reviews. The data consists of a csv file where the first column is a string containing a user review and the second column specifies whether the review was positve (1) o negative (-1). First, we will import any libraries that we might use.\n",
        "\n",
        "**Note:** You may use any library you would like unless specified otherwise. "
      ]
    },
    {
      "cell_type": "code",
      "metadata": {
        "id": "81LFo0NUUIJA"
      },
      "source": [
        "import csv\n",
        "import random\n",
        "\n",
        "import string \n",
        "from collections import Counter\n",
        "from sklearn.metrics import accuracy_score\n",
        "from sklearn.svm import LinearSVC\n",
        "from sklearn.ensemble import RandomForestClassifier\n",
        "import numpy as np\n",
        "import pandas as pd\n",
        "import math\n",
        "import matplotlib.pyplot as plt"
      ],
      "execution_count": null,
      "outputs": []
    },
    {
      "cell_type": "markdown",
      "metadata": {
        "id": "m0QxxH3KngAg"
      },
      "source": [
        "### Question 1.1 Importing Libraries\n",
        "\n",
        "Keep on adding in the section below any modules you use as you are completing the assignment."
      ]
    },
    {
      "cell_type": "markdown",
      "metadata": {
        "id": "053rRiUAnsxQ"
      },
      "source": [
        "Let's download the dataset:"
      ]
    },
    {
      "cell_type": "code",
      "metadata": {
        "id": "p4NfIOH0UXUq",
        "colab": {
          "base_uri": "https://localhost:8080/",
          "height": 204
        },
        "outputId": "00cd8027-c7c5-47fc-b936-7c1771741ef5"
      },
      "source": [
        "!wget https://raw.githubusercontent.com/McGillAISociety/BootcampAssignmentDatasets/master/data/assignment2/train_reviews.csv"
      ],
      "execution_count": null,
      "outputs": [
        {
          "output_type": "stream",
          "text": [
            "--2020-10-24 17:11:52--  https://raw.githubusercontent.com/McGillAISociety/BootcampAssignmentDatasets/master/data/assignment2/train_reviews.csv\n",
            "Resolving raw.githubusercontent.com (raw.githubusercontent.com)... 151.101.0.133, 151.101.64.133, 151.101.128.133, ...\n",
            "Connecting to raw.githubusercontent.com (raw.githubusercontent.com)|151.101.0.133|:443... connected.\n",
            "HTTP request sent, awaiting response... 200 OK\n",
            "Length: 33333854 (32M) [text/plain]\n",
            "Saving to: ‘train_reviews.csv’\n",
            "\n",
            "train_reviews.csv   100%[===================>]  31.79M  40.1MB/s    in 0.8s    \n",
            "\n",
            "2020-10-24 17:11:53 (40.1 MB/s) - ‘train_reviews.csv’ saved [33333854/33333854]\n",
            "\n"
          ],
          "name": "stdout"
        }
      ]
    },
    {
      "cell_type": "markdown",
      "metadata": {
        "id": "Q6P_kDBXtpgw"
      },
      "source": [
        "And create a function to print a review:"
      ]
    },
    {
      "cell_type": "code",
      "metadata": {
        "id": "L-fshObCUX1-"
      },
      "source": [
        "def print_review(review, score):\n",
        "  print('--------------- Review with score of {} ---------------'.format(score))\n",
        "  print(review)\n",
        "  print('------------------------------------------------------')\n",
        "  print()"
      ],
      "execution_count": null,
      "outputs": []
    },
    {
      "cell_type": "markdown",
      "metadata": {
        "id": "2V_U9-Iwt0IP"
      },
      "source": [
        "Let's load the data and see what the first 10 reviews look like:\n"
      ]
    },
    {
      "cell_type": "code",
      "metadata": {
        "id": "87qWNsF7U3QO",
        "colab": {
          "base_uri": "https://localhost:8080/",
          "height": 717
        },
        "outputId": "ae892bf9-2acb-4312-d222-6388b87a2faa"
      },
      "source": [
        "with open('train_reviews.csv') as csv_file:\n",
        "  csv_reader = csv.reader(csv_file)\n",
        "  colnames = next(csv_reader)  # skip column names\n",
        "  data = list(csv_reader)\n",
        "\n",
        "for review, score in random.sample(data, 10):\n",
        "  print_review(review, score)"
      ],
      "execution_count": null,
      "outputs": [
        {
          "output_type": "stream",
          "text": [
            "--------------- Review with score of 1 ---------------\n",
            "Man With the Gun is pretty much forgotten now, but caused a minor storm of media interest back in 1955 when Robert Mitchum turned down both Jett Rink in Giant (which had actually been written for him and which was subsequently substantially reworked) and Charles Laughton's intended version of The Naked and the Dead to make it instead. Despite some obvious production problems and some harsh lighting that occasionally renders both Mitch and Jan Sterling in unflattering tones, it's a terrific dark western that more than stands comparison with his earlier Blood on the Moon as his 'town tamer' sets to work on a town that never had the chance to grow up before getting run down by the local badmen before turning out to  possibly  be almost as bad as the men he dispatches. Certainly his way of dealing with news of a death in the family  burning a saloon to the ground and goading its manager into trying to kill him  doesn't inspire much confidence in his stability. As well as a good script and a surprisingly good supporting turn from the usually irritating but here well cast Henry Hull, it also boasts a strikingly good early Alex North score, which even includes an early workout for one of his tormented emotional cues that would later turn up in Spartacus.\n",
            "------------------------------------------------------\n",
            "\n",
            "--------------- Review with score of -1 ---------------\n",
            "This movie was absolute torture. First of all, it's a whopping 4+ hours long! True, the Kargil war may have had several points that were captured and fought for, but every single one of those battles need not have been shown. So maybe this is a documentary, not a commercial film as advertised. Sure didn't seem like it, as enough background information was not given and there were some flaws. The battle sequences were so poorly executed. I am terribly disappointed from the man who gave well done sequences in Border. Each battle was the exact same as the previous. It was so predictable. (This might be a spoiler.) The whole army marches uphill, five or so soldiers curse five thousand times each (they also use the same cussword every time), one of the lead actors is shot, someone yells for a stretcher, the actor says, \"No, don't get a stretcher. That will take 6 men from the battalion,\" and then an actor dies. That exact same thing happens over and over and over again. Oh, and the songs are so bad and so long. The cast of the movie is too big for its own good. Despite such a long movie, none of the characters were well developed. The actresses had the most miniscule roles. They all are dressed and portrayed to be the same. Two of them were weeping synchronized. It was so comical. They moved their hands and heads at the exact same time and then bit their dupatta together.<br /><br />The list just goes on and on. I know I'm still forgetting something . Anyways, I think I have bashed the film enough that you get the picture.\n",
            "------------------------------------------------------\n",
            "\n",
            "--------------- Review with score of 1 ---------------\n",
            "Why a stupid, boring, crappy overrated film series like \"Star Wars\" gets all the hype, and a truly amazing film like this one goes completely un-noticed.. is beyond me... This movie will really open your eyes to the dark, disturbing, sad, and scary world we live in...<br /><br />Unlike the boring \"Elephant\", this movie isn't one of those \"just a typical day until someome pulls the trigger\" movies.. this movie focuses more on what happens AFTER the event...<br /><br />Deana, played by the very hot and very talented Erika Christensen, is a happy and healthy straight-A student with great friends and a great life... until... she is injured on the day of the shooting, by being shot in the head.. Luckily she is not killed, but is severely injured and has to be in the hospital for a while, causing her to be in a lot of emotional pain, in addition to the physical...<br /><br />Meanwhile, Alicia, played by the also very gorgeous and talented Busy Phillips, is a nasty, cold-hearted, rebellious, anti-social goth girl who doesn't have a single positive trait on her... and she is unharmed when the shooting happens.. because it turns out, she was FRIENDS with the shooter and knew he was going to do what he did... which causes her to be brought into the police station and be asked some questions.. When she refuses to tell the cops if she knew the shooting was going to happen, they constantly come by her house to try to convince her to say something... and she still doesn't, so the principal of the school makes her attend a funeral of one of the dead students, and after she walks out on that... the principal decides enough is enough, and forces her to go visit Deana in the hospital.. Of course she refuses this too, but the principal says that if Alicia doesn't do this, the cops are going to continue to try to get her to say something.. and so she actually goes to see her...<br /><br />The lonely, traumatized, and both physically and emotionally wounded Deana is more than happy to have someone visit her, but of course, Alicia is anything BUT happy to be seeing her.. Deana attempts to give her a friendly welcome, but of course, Alicia responds with nothing but harsh and hurtful comments and a harsh statement on how she is only here because she is being forced, and has no intention of being friendly with her at all. But sooner or later, that intention will change... (and that's all I'll say :) This is truly one of the most moving movies ever, as well as one of the most dark and disturbing.. Actually, I think I would tie this with \"American History X\" as equally disturbing and moving at the same time...<br /><br />WARNING: Watch this movie at your own risk!! It contains VERY graphic scenes and images! EXCELLENT and criminally under-appreciated movie! I feel so ashamed that I'm pretty much the only one that knows about it!\n",
            "------------------------------------------------------\n",
            "\n",
            "--------------- Review with score of -1 ---------------\n",
            "I had VERY low expectations for this alleged \"re-imagining\" of the original -- and they weren't even met! What were they thinking? (Answer: They weren't.) Please don't waste your time on this Hollywood trash fest. Clip your nails, balance your checkbook, do anything besides watch this. Remember: If you rent stuff like this, it will only ensure they make more.\n",
            "------------------------------------------------------\n",
            "\n",
            "--------------- Review with score of 1 ---------------\n",
            "I saw this little Belgian gem two days after seeing 'American Teen'. Make no mistake about it, adolescence is a roller coaster ride, be it American or European. 'Naissance des Pieuvres' (or as it is being called in the U.S. 'Water Lillies')is a tale of a young 15 year old girl (played by Pauline Acquart,who at times resembles a young Scarlett Johansson)acts the cool, withdrawn girl who wants to be on the school swim team, just to be close to another attractive girl (Adele Haenel). It's more than obvious that Marie is more than attracted to Floriane. Figuring among all of this is Marie's rather plump, unattractive friend, Anne, who just wants a boyfriend like any other girl her age. Along the way,we are shown the usual array of teen pastimes (broken hearts,shop lifting,alcohol and/or drug use,casual sex,etc.). This is a quiet little film that takes time to work it's way into your system (Michael Bay fans,take note:the pacing here is s-l-o-w,so steer clear),but if you have no problem with this, Water Lillies is a charmer. No rating here,but would pull down a hard \"R\", due to language,nudity,adult situations.\n",
            "------------------------------------------------------\n",
            "\n",
            "--------------- Review with score of -1 ---------------\n",
            "Two years before he wrote and directed \"Arthur\", Steve Gordon had a minor hit with his screenplay for this crackpot comedic vehicle for Henry Winkler, then TV's \"The Fonz\". A 1950s college thespian (and all-around jerk) woos a co-ed and gets married without any employment prospects on the horizon; to make ends meet, he turns to the flamboyant world of wrestling, eventually becoming a \"Gorgeous George\"-like celebrity. Turning likable Winkler into an obnoxious goof-off probably sounded like an interesting idea at the time (and a sure way to separate him from his television alter-ego), but the jokes and situations are often wrong-headed and mean, staged rather sloppily by director Carl Reiner. Particularly crude is a wincing bit involving Hervé Villechaize (of \"Fantasy Island\") putting the moves on Polly Holliday (Flo from \"Alice\"). As Henry's beloved, Kim Darby looks a little out of her element--particularly when surrounded by all these TV hams--rendering the romance aspect of the script inconsequential. *1/2 from ****\n",
            "------------------------------------------------------\n",
            "\n",
            "--------------- Review with score of 1 ---------------\n",
            "I first saw this mini-series a number of years ago on British television and was immediately captivated by the story. This rather surprised me as I am not a great fan of either 'Jane Eyre' or 'Wuthering Heights'; I consider the heroine of the former to be a self-righteous bore, and the latter piece of work as overblown claptrap.<br /><br />'The Tenant of Wildfell Hall', like the aforementioned works, is also somewhat depressing in parts. However, the darker parts of the film were offset by the excitement of Helen's escape, the breathtakingly wild and beautiful landscape of Yorkshire, and the sexual magnetism of Toby Stephens.<br /><br />This film successfully portrays the frustratingly restrictive lifestyle of all women of the time. At best they suffered from a form of minor domestic tyranny as portrayed by the treatment of the womenfolk in the Markham household. At the other end of the scale, there is the unfortunate Helen who is married to a wealthy man of high estate, but is exposed to brutality and humiliation alternating with long periods of neglect. She runs away and experiences a brief moment of freedom but, as a women of mystery living alone in a rural community, she inevitably becomes the subject of spiteful gossip and speculation.<br /><br />Tara Fitzgerald is excellent as the long-suffering Helen Markham. Not only incredibly beautiful (in spite of that terribly unflattering hairstyle) with the most amazing cheekbones, she is also more than capable of playing the central role in the film. Tara is dignified and aloof while, at the same time, allowing us to see that Helen is still dangerously vulnerable. Rupert Graves IS the depraved, yet curiously attractive Arthur Huntingdon - after seeing him, I could never imagine another actor playing that part. Pam Ferris deserves special mention for her role as Gilbert's indulgent mother, as does the actress who played his sister Rose, and Simon Carter who is the uncharitable vicar with a taste for the Good Things in Life. Finally, I could watch this film for Toby Stephens alone; he is so good-looking,rugged, sexy, sensitive (but not in a nauseatingly sentimental way). I am not even sure if he is a good actor as my hormones prevent me from judging him objectively!<br /><br />If there is a fault with the film it is the use of flashbacks which I felt both interfered with the flow of the story and made it slightly confusing. Other people, who have watched this film with me, also had problems with this, and I found I had to explain to them that certain scenes were in fact retrospective.<br /><br />I am extremely grateful for the people responsible for making this film. Not only did I puchase the video (a rare occurrence), but it led me to buy Anne Bronte's superb novel. Naturally, this was better than the film, but only by a narrow margin. I recommend that anyone interested should watch the film and then read the book in that order.<br /><br />\n",
            "------------------------------------------------------\n",
            "\n",
            "--------------- Review with score of -1 ---------------\n",
            "Although I am generally a proponent of the well-made film, I do not limit myself to films which escape those boundaries, and more often than not I do enjoy and admire films that successfully \"break the rules.\" And it is quite true that director Pasolini breaks the rules of established cinema. But it is also my opinion that he does not break them successfully or to any actual point.<br /><br />Pasolini's work is visually jarring, but this is less a matter of what is actually on the screen than how it is filmed, and the jumpiness of his films seem less a matter of artistic choice than the result of amateur cinematography. This is true of DECAMERON. Pasolini often preferred to use non-actors, and while many directors have done so with remarkable result, under Pasolini's direction his non-actors tend to remain non-actors. This is also true of DECAMERON. Pasolini quite often includes images designed to shock, offend, or otherwise disconcert the audience. Such elements can often be used with startling effect, but in Pasolini's hands such elements seldom seem to actually contribute anything to the film. This is also true of DECAMERON.<br /><br />I have been given to understand there are many people who like, even admire Pasolini's films. Even so, I have never actually met any of them, and I have never been able to read anything about Pasolini or his works that made the reason for such liking or admiration comprehensible to me. Judging him from his works alone, I am of the opinion that he was essentially an amateurish director who did not \"break the rules\" so much by choice as by lack of skill--and who was initially applauded by the intelligentsia of his day for \" existential boldness,\" thereby simply confirming him in bad habits as a film maker. I find his work tedious, unimpressive, and pretentious. And this, too, is true of DECAMERON. It is also, sadly, true of virtually every Pasolini film it has been my misfortune to endure.\n",
            "------------------------------------------------------\n",
            "\n",
            "--------------- Review with score of -1 ---------------\n",
            "I didn't know this was a silent movie with narration. I don't care for silent movies - the corny humor, flickering lighting and film, etc. I'm sure that attributes to the low score I assigned it. It was about chapter 8 before I found any interest in this story and had I had popcorn I may have thrown it at the screen. Maybe this appeals to the sci-fi crowd? The only thing missing was a zombie scene and a brain transplant. I went with two other people on a Friday night and there were a total of 6 people in the entire theater. Isabella Rosselinni narrated this movie - the one enjoyable aspect of the movie. No one left commenting how much they enjoyed this nor appreciated the unusual approach to telling this story. I cannot recommend this movie.\n",
            "------------------------------------------------------\n",
            "\n",
            "--------------- Review with score of -1 ---------------\n",
            "The plot is plausible but banal, i.e., beautiful and neglected wife of wealthy and powerful man has a fling with a psychotic hunk, then tries to cover it up as the psycho stalks and blackmails her. But, what develops from there is stupefyingly illogical. Despite the resources that are available to the usual couple who has money and influence, our privileged hero and heroine appear to have only one domestic, their attorney and local police (who say they can do nothing) at their disposal while they grapple with suspense and terror. They have no private security staff (only a fancy security system that they mishandle), household or grounds staff, chauffeurs, etc. Not even, apparently, the funds to hire private round-the-clock nurses to care for the hero when he suffers life-threatening injuries, leaving man and wife alone and vulnerable in their mansion. Our heroine is portrayed as having the brains of a doorknob and our hero, a tycoon, behaves in the most unlikely and irrational manner. The production is an insult to viewers who wasted their time with this drivel and a crime for having wasted the talents of veteran actors Oliva Hussey and Don Murray (what were they thinking?). And, shame on Lifetime TV for insulting the intelligence of its audience for this insipid offering.\n",
            "------------------------------------------------------\n",
            "\n"
          ],
          "name": "stdout"
        }
      ]
    },
    {
      "cell_type": "markdown",
      "metadata": {
        "id": "D7qKVCAst-kv"
      },
      "source": [
        "## 2. Preprocessing\n",
        " We will be converting our data into a binary bag-of-words representation (Google \"binary bag-of-words\"). To do this, we will perform two steps beforehand."
      ]
    },
    {
      "cell_type": "markdown",
      "metadata": {
        "id": "6VWSBN37uXod"
      },
      "source": [
        "### Question 2.1 Cleaning the train data\n",
        "Create a function called `clean`, which takes a string and then:\n",
        "\n",
        " 1. lower-case all words \n",
        " 2. only keeps letters and spaces\n",
        " \n",
        "\n",
        " We also need to get rid of [HTML tags](https://www.javatpoint.com/html-tags) as they do not hold valuable information for classifying the review. A quick Google search on removing HTML tags with `regular expressions` will show you how to do this! \n",
        "  \n",
        "  For example, the following review...\n",
        "  \n",
        "  >`This was the WORST movie I have EVER SEEN!! <br/>`\n",
        "  \n",
        "  ...will be cleaned to become:\n",
        "  \n",
        "  >`this was the worst movie i have ever seen`\n",
        "  \n",
        "   Of course, you could do more pre-processing steps if you would like, such as lemmatization, stemming, etc... but TOTALLY OPTIONAL! "
      ]
    },
    {
      "cell_type": "code",
      "metadata": {
        "id": "rAje0IKVU2-c"
      },
      "source": [
        "def clean(review):\n",
        "  ### Start of Answer ###\n",
        "  allowed = set(string.ascii_letters + ' ')\n",
        "  review = review.lower()\n",
        "  review = ''.join(l for l in review if l in allowed)\n",
        "  return review\n",
        "  ### End of Answer ###\n"
      ],
      "execution_count": null,
      "outputs": []
    },
    {
      "cell_type": "markdown",
      "metadata": {
        "id": "DwT4zB4RIodc"
      },
      "source": [
        "Test your function with this example string"
      ]
    },
    {
      "cell_type": "code",
      "metadata": {
        "id": "GBnmJ_jIU27c",
        "colab": {
          "base_uri": "https://localhost:8080/",
          "height": 34
        },
        "outputId": "e0c04eb8-6bc6-4fc6-f12e-48c6776a0ba8"
      },
      "source": [
        "print(clean(\"This was the WORST movie I have EVER SEEN!! <br/> \"))"
      ],
      "execution_count": null,
      "outputs": [
        {
          "output_type": "stream",
          "text": [
            "this was the worst movie i have ever seen br \n"
          ],
          "name": "stdout"
        }
      ]
    },
    {
      "cell_type": "markdown",
      "metadata": {
        "id": "nZ3csQCzI27I"
      },
      "source": [
        "Now, we'll use the function to clean the whole dataset. We'll also turn the scores from strings to integers while we're at it."
      ]
    },
    {
      "cell_type": "code",
      "metadata": {
        "id": "jRkQWUIvYfnO"
      },
      "source": [
        "X_train = []\n",
        "y_train = []\n",
        "for review, score in data:\n",
        "  X_train.append(clean(review))\n",
        "  y_train.append(int(score))"
      ],
      "execution_count": null,
      "outputs": []
    },
    {
      "cell_type": "markdown",
      "metadata": {
        "id": "CuW0ahvaJtOt"
      },
      "source": [
        "### Question 2.2 Picking features\n",
        "\n",
        "We now need to turn each review into vectors. We will pick the 10,000 most recurring words in the train set as features\n",
        "\n",
        "Using those 10,000 features, create a function called `vectorize` which will take a string as an input, and convert it to a vector using the binary bag of words representation.\n",
        "\n",
        "For example, the string `\"This movie made me cry\"` will become a vector of size 10,000 with 5 elements being 1 (assuming each word is part of the 10,000 most common) and 9995 being 0, that it, is i will look something like\n",
        "\n",
        " > `[0, 0, ..., 0, 1, 0, ..., 0, 1, 0..., 0, 1, 0, ..., 0, 1, 0 ..., 0, 1, 0, ..., 0, 0]`\n",
        " \n",
        " In order to accomplish this task, you will\n",
        " \n",
        " 1. write a `get_vocab` function which takes as an argument a list of (cleaned) reviews and the vocabulary size and outputs the a list of size `vocab_size` containing the most common words.\n",
        " 2. write a `vectorize` function which takes as an argument a review and the vocabulary and turns the review into its binary bag of words representation.\n",
        " 3. use the `vectorize` function to create a new variable called `X_train_vect` which will contain the bag-of-words representation of each data point contained in the `X_train` variable rather than its string representation.\n",
        "\n",
        "**Warning**: the last step may take up to 15 minutes depending on your implementation. Despite the execution speed not being evaluated in this assignment, do try your best to have fast and efficient code!"
      ]
    },
    {
      "cell_type": "code",
      "metadata": {
        "id": "Oa0E04tFYf6x"
      },
      "source": [
        "def get_vocab(reviews, vocab_size):\n",
        "  ### Answer starts here ##\n",
        "  word_str = str(reviews).split(\" \")\n",
        "  store_dict = dict(Counter(word_str))\n",
        "  store_dict = sorted(store_dict, key = store_dict.get, reverse = True) \n",
        "  vocab_list = store_dict[:vocab_size]\n",
        "\n",
        "  \n",
        "  return vocab_list"
      ],
      "execution_count": null,
      "outputs": []
    },
    {
      "cell_type": "markdown",
      "metadata": {
        "id": "E38yzbclLXs3"
      },
      "source": [
        "Test your function with the following code. The `vocabulary` variable should have a length of 10,000 and the most common words should be \"the\", \"and\", \"a\", etc."
      ]
    },
    {
      "cell_type": "code",
      "metadata": {
        "id": "WD9Jz8zpYfru",
        "colab": {
          "base_uri": "https://localhost:8080/",
          "height": 71
        },
        "outputId": "80d59713-2f23-4a07-e641-fd93ce74b38c"
      },
      "source": [
        "num_features = 10000\n",
        "vocabulary = get_vocab(X_train, num_features)\n",
        "print(len(vocabulary))\n",
        "print(vocabulary)"
      ],
      "execution_count": null,
      "outputs": [
        {
          "output_type": "stream",
          "text": [
            "10000\n",
            "['the', 'and', 'a', 'of', 'to', 'is', 'in', 'it', 'this', 'i', 'that', 'br', 'was', '', 'as', 'for', 'with', 'but', 'movie', 'film', 'on', 'not', 'are', 'his', 'you', 'have', 'he', 'be', 'one', 'its', 'at', 'all', 'by', 'an', 'they', 'who', 'from', 'so', 'like', 'her', 'or', 'just', 'about', 'has', 'if', 'out', 'some', 'there', 'what', 'good', 'more', 'very', 'when', 'she', 'even', 'my', 'no', 'up', 'would', 'which', 'only', 'really', 'time', 'story', 'their', 'were', 'had', 'see', 'can', 'me', 'than', 'we', 'much', 'been', 'get', 'will', 'well', 'into', 'also', 'because', 'other', 'do', 'people', 'great', 'bad', 'how', 'most', 'first', 'him', 'dont', 'then', 'made', 'make', 'could', 'movies', 'films', 'way', 'any', 'them', 'too', 'after', 'characters', 'think', 'watch', 'many', 'two', 'being', 'character', 'seen', 'never', 'little', 'acting', 'where', 'plot', 'best', 'love', 'did', 'know', 'show', 'life', 'does', 'ever', 'your', 'still', 'over', 'better', 'off', 'these', 'say', 'end', 'man', 'scene', 'while', 'here', 'why', 'such', 'scenes', 'go', 'should', 'something', 'through', 'back', 'those', \"'i\", 'doesnt', 'im', 'real', 'watching', 'years', 'thing', 'actors', 'didnt', 'though', 'now', 'new', 'another', 'actually', 'makes', 'nothing', 'before', 'find', 'few', 'work', 's', 'funny', 'old', 'look', 'going', 'same', 'every', 'lot', 'part', 'us', 'director', 'cant', 'thats', 'quite', 'cast', 'want', 'pretty', 'things', 'seems', 'again', 'young', \"'this\", 'got', 'around', 'fact', 'however', 'take', 'down', 'world', 'enough', 'give', 'both', 'between', 'may', 'big', 'thought', 'horror', 'original', 'own', 'without', 'gets', 'always', 'series', 'isnt', 'ive', 'long', 'right', 'saw', 'come', 'almost', 'times', 'least', 'point', 'role', 'whole', 'must', 'action', 'interesting', 'theres', 'bit', 'comedy', 'family', 'done', 'music', 'script', 'hes', 'might', 'last', 'anything', 'guy', 'feel', \"',\", 'far', 'minutes', 'since', 'probably', 'performance', 'am', 'kind', 'rather', 'worst', 'yet', 'away', 'sure', 'making', 'woman', 'each', 'girl', 'tv', 'found', 'played', 'our', 'fun', 'comes', 'believe', 'anyone', 'trying', 'having', 'course', 'especially', 'goes', 'looks', 'hard', 'although', 'shows', 'day', 'put', 'different', 'wasnt', 'place', 'main', 'maybe', 'reason', 'worth', 'set', 'book', 'looking', 'sense', 'everything', 'true', 'once', 'plays', 'someone', 'watched', 'ending', 'money', 'actor', 'job', 'seem', 'takes', 'said', 'three', 'screen', 'play', 'together', 'during', 'dvd', 'beautiful', 'effects', 'later', 'john', 'himself', 'left', 'version', 'everyone', 'instead', 'special', 'house', 'american', 'audience', 'night', 'seeing', 'excellent', 'idea', 'wife', 'nice', 'simply', 'shot', 'youre', 'read', 'high', 'black', 'completely', 'second', 'less', 'year', 'help', 'kids', 'used', 'war', 'poor', 'star', 'given', 'fan', 'else', 'father', 'try', 'death', 'need', 'rest', 'use', 'friends', 'home', 'short', 'performances', 'men', 'until', 'mind', 'truly', 'along', 'either', 'hollywood', 'enjoy', 'classic', 'half', 'boring', 'tell', 'dead', 'wrong', 'line', 'couple', 'production', 'women', 'came', 'remember', \"'the\", 'start', 'next', 'recommend', 'perhaps', 'understand', 'full', 'getting', 'stupid', 'wonderful', 'mean', 'keep', 'playing', 'moments', 'others', 'let', 'camera', 'episode', 'gives', 'small', 'awful', 'terrible', 'definitely', 'often', 'doing', 'sex', 'early', 'become', 'perfect', 'video', 'supposed', 'felt', 'finally', 'human', 'school', 'name', 'couldnt', 'liked', 'face', 'lines', 'dialogue', 'person', 'piece', 'top', 'itself', 'lost', 'case', 'stars', 'against', 'entire', 'absolutely', 'went', 'certainly', 'shes', 'live', 'title', 'sort', 'written', 'head', 'waste', 'budget', 'hope', 'problem', 'style', 'several', 'yes', 'evil', 'overall', 'loved', 'mr', 'becomes', 'id', 'picture', 'worse', 'boy', 'seemed', 'beginning', 'white', 'already', 'entertaining', 'wanted', 'care', 'based', 'example', 'dark', 'mother', 'killer', 'lives', 'guys', 'fans', 'throughout', 'cinema', 'direction', 'final', 'friend', 'unfortunately', 'despite', 'totally', 'turn', 'wont', 'wants', 'fine', 'girls', 'sound', 'children', 'youll', 'lead', 'guess', 'tries', 'called', 'drama', 'amazing', 'under', 'low', 'oh', 'laugh', 'writing', 'humor', 'turns', 'able', 'works', 'michael', 'theyre', 'behind', 'enjoyed', 'history', 'past', 'gave', 'favorite', 'starts', 'quality', 'son', 'kill', 'days', 'act', 'game', 'sometimes', 'side', 'town', 'viewer', 'parts', 'car', 'expect', 'actress', 'child', 'ones', 'obviously', 'horrible', 'eyes', 'directed', 'soon', 'thinking', 'themselves', 'stories', 'decent', 'heart', 'brilliant', 'flick', 'art', 'feeling', 'highly', 'late', 'run', 'myself', 'fight', 'took', 'says', 'blood', 'heard', 'cannot', 'except', 'close', 'city', 'genre', 'ill', 'leave', 'hand', 'killed', 'kid', 'stuff', 'police', 'wouldnt', 'matter', 'hell', 'moment', 'strong', 'hour', 'extremely', 'happens', 'particularly', 'lack', 'roles', 'attempt', 'obvious', 'told', 'involved', 'living', 'james', 'happened', 'wonder', 'including', 'complete', 'violence', 'save', 'voice', 'etc', 'coming', 'murder', 'chance', 'group', 'type', 'daughter', 'looked', 'itbr', 'simple', 'number', 'age', 'none', 'exactly', 'shown', 'score', 'anyway', 'slow', 'whose', 'god', 'happen', 'brother', 'ago', 'taken', 'interest', 'experience', 'alone', 'usually', 'please', 'serious', 'stop', 'across', 'somewhat', 'annoying', 'opening', 'cinematography', 'running', 'lets', 'known', 'finds', 'ends', 'usual', 'david', 'musical', 'song', 'wish', 'started', 'hours', 'hit', 'sad', 'huge', 'gore', 'relationship', 'mostly', 'released', 'jokes', 'saying', 'career', 'shots', 'change', 'reality', 'order', 'scary', 'taking', 'major', 'episodes', 'female', 'cut', 'ridiculous', 'talking', 'cool', 'english', \"it',\", 'novel', 'body', 'yourself', 'possible', 'hilarious', 'call', 'robert', 'seriously', 'directors', 'due', 'supporting', 'important', 'apparently', 'strange', 'clearly', 'knows', 'hero', 'knew', 'events', 'crap', 'husband', 'turned', 'opinion', 'power', 'basically', 'documentary', 'arent', 'songs', 'tells', 'single', 'british', 'local', 'level', 'easily', 'king', 'happy', 'room', 'view', 'talent', 'today', 'moviebr', 'word', 'bring', 'problems', 'rating', 'attention', 'modern', 'sequence', 'cheap', 'beyond', 'silly', 'sets', 'whether', 'words', 'whats', 'falls', 'light', 'jack', 'similar', 'television', 'ok', 'five', 'needs', 'appears', 'country', 'giving', 'romantic', 'comic', 'paul', 'upon', 'four', 'earth', 'predictable', 'talk', 'viewers', 'future', 'havent', 'george', 'richard', 'miss', 'within', 'feels', 'nearly', 'mention', 'filmbr', 'bunch', 'message', 'review', 'lady', 'lots', 'animation', 'storyline', 'add', 'actual', 'rock', 'theater', 'using', 'moving', 'above', 'named', 'middle', 'enjoyable', 'surprised', 'theme', 'points', 'disappointed', 'among', 'entertainment', 'herself', 'begins', 'writer', 'comments', 'mystery', 'stay', 'dull', 'showing', 'york', 'ways', 'typical', 'elements', 'easy', 'tried', 'certain', 'team', 'fantastic', 'fall', 'clear', 'near', 'thriller', 'hate', 'french', 'leads', 'ten', 'parents', 'straight', 'kept', 'famous', 'means', 'greatest', 'somehow', 'tale', 'dialog', 'working', 'sequel', 'buy', 'brought', 'release', 'class', 'red', 'peter', 'doubt', 'editing', 'general', 'sister', 'soundtrack', 'form', 'figure', 'effort', 'oscar', 'weak', 'feature', 'whos', 'filmed', 'season', 'tom', 'minute', 'particular', 'hear', 'check', 'gone', 'sorry', 'learn', 'eventually', 'material', 'realistic', 'youve', 'th', 'atmosphere', 'fast', 'decided', 'move', 'sequences', 'eye', 'reviews', \"'a\", 'third', 'possibly', 'avoid', 'became', 'premise', 'imagine', 'period', 'stand', 'deal', 'dance', 'sit', 'de', 'follow', 'lee', 'wait', 'forget', 'difficult', 'zombie', 'japanese', 'viewing', 'sexual', 'expected', 'space', 'poorly', 'indeed', 'writers', 'nor', 'lame', 'surprise', 'nature', 'leaves', 'die', 'whatever', 'rent', 'crime', 'suspense', \"movie',\", 'killing', 'subject', 'average', 'believable', 'stage', 'filmmakers', 'needed', 'screenplay', 'meets', 'truth', 'meet', 'begin', 'boys', 'dr', 'realize', 'forced', 'romance', 'joe', 'emotional', 'question', 'street', 'reading', 'otherwise', 'note', 'memorable', 'write', 'older', 'keeps', 'interested', 'earlier', 'baby', 'whom', 'weird', 'unless', 'situation', 'dramatic', 'footage', 'superb', 'towards', 'beauty', 'credits', 'features', 'disney', 'badly', 'sounds', 'brings', 'total', 'ask', 'previous', 'dog', 'plus', 'crazy', 'male', 'plenty', 'personal', 'hot', 'shame', 'comment', 'incredibly', 'worked', 'admit', 'directing', 'perfectly', 'deep', 'cheesy', 'unique', 'leading', 'result', 'free', 'quickly', 'development', 'society', 'meant', 'appear', 'open', 'hardly', 'creepy', 'brothers', 'return', 'various', 'america', 'casting', 'hands', 'create', 'apart', 'setting', 'laughs', 'effect', 'imdb', 'remake', 'battle', 'mark', 'background', 'b', 'christmas', 'forward', 'scifi', 'potential', 'monster', 'powerful', 'inside', 'portrayed', 'bill', 'outside', 'dream', 'manages', 'political', 'fails', 'attempts', 'fairly', 'expecting', 'business', 'ideas', 'twist', 'present', 'secret', 'la', 'fighting', 'missing', 'jane', 'pay', 'gay', 'fantasy', 'mess', 'fire', 'dumb', 'front', 'ben', 'married', 'unlike', 'air', 'nudity', 'rich', 'deserves', 'further', 'recently', 'box', 'joke', 'reasons', 'okay', 'plain', 'odd', 'acted', 'talented', 'match', 'agree', 'telling', 'william', 'pure', 'sadly', 'villain', 'western', 'cute', 'copy', 'break', 'success', 'incredible', 'girlfriend', 'decides', 'social', 'cop', 'doctor', 'large', 'masterpiece', 'crew', 'caught', 'members', 'waiting', 'sees', 'uses', 'mentioned', 'hold', 'slightly', 'suddenly', 'following', 'popular', 'compared', 'pace', 'wrote', 'ended', 'missed', 'neither', 'flat', 'public', 'wasted', 'kills', 'considering', 'spent', 'entirely', 'sweet', 'created', 'intelligent', 'rate', 'familiar', 'office', 'ultimately', 'clever', 'convincing', 'tension', 'era', 'cause', 'escape', 'visual', 'moves', 'party', 'biggest', 'basic', 'recent', 'consider', 'bored', 'laughing', 'successful', 'credit', 'audiences', 'scott', 'mary', 'fear', 'cartoon', 'violent', 'revenge', 'island', 'spend', 'positive', 'trouble', 'spirit', 'gun', 'dancing', 'appreciate', 'cover', 'speak', 'cold', 'filled', 'books', 'zombies', 'died', 'concept', 'former', 'younger', 'choice', 'science', 'singing', 'portrayal', 'water', 'produced', 'adult', 'common', 'werent', 'state', 'amount', 'solid', 'exciting', 'animated', 'walk', 'showed', 'focus', 'list', 'effective', 'band', 'bizarre', 'italian', 'fit', 'german', 'producers', 'runs', 'amusing', 'follows', 'value', 'language', 'van', 'considered', 'impressive', 'chemistry', 'impossible', 'decide', 'won', 'tone', 'depth', 'company', 'store', \"film',\", 'barely', 'pointless', 'cat', 'leaving', 'studio', 'control', 'changed', 'force', 'mad', 'win', 'prison', 'college', 'project', 'hair', 'starring', 'respect', 'likes', 'sick', 'shooting', 'aside', 'involving', 'situations', 'surprisingly', 'longer', 'failed', 'trip', 'honest', 'somewhere', 'slasher', 'charming', 'questions', 'tony', 'awesome', 'planet', 'literally', 'images', 'disturbing', 'bought', 'generally', 'fake', 'south', 'immediately', 'values', 'utterly', 'century', 'accent', 'glad', 'natural', 'ghost', 'touch', 'west', 'steve', 'pictures', 'ability', 'computer', 'aspect', 'sitting', 'magic', 'thanks', 'conclusion', 'explain', 'normal', 'adaptation', 'stick', 'jim', 'adventure', 'frank', 'fair', 'culture', 'catch', 'cult', 'appearance', 'tough', 'added', 'knowing', 'remains', 'camp', 'pathetic', 'rare', 'dad', 'trash', 'thinks', 'meaning', 'detective', 'army', 'appeal', 'alive', 'silent', 'personally', 'honestly', 'managed', 'humour', 'sam', 'terms', 'soldiers', 'military', 'equally', 'subtle', 'smith', 'sexy', 'loves', 'beautifully', 'attack', 'harry', 'twists', 'walking', 'naked', 'london', 'pick', 'likely', 'terrific', 'nowhere', 'thank', 'complex', 'dreams', 'journey', 'woods', 'purpose', 'genius', 'standard', 'excuse', 'comedies', 'touching', 'taste', 'wild', 'fully', 'nobody', 'lovely', 'thus', 'master', 'narrative', 'plan', 'cinematic', 'yeah', 'surely', 'central', 'constantly', 'issues', 'slowly', 'themes', 'mood', 'chase', 'innocent', 'channel', 'thrown', 'road', 'fiction', 'presented', 'week', 'brain', 'self', 'batman', 'youd', 'unbelievable', 'historical', 'mysterious', 'presence', 'painful', 'contains', 'outstanding', 'shoot', 'hoping', 'stunning', 'pass', 'marriage', 'impression', 'laughable', 'stands', 'club', 'costumes', 'animals', 'charles', 'critics', 'garbage', 'christopher', 'places', 'chris', 'makers', 'sent', 'bottom', 'besides', 'details', 'mistake', 'minor', 'edge', 'date', 'photography', 'aspects', 'charm', 'heavy', 'mainly', 'indian', 'stewart', 'boss', 'brief', 'makeup', 'law', 'door', 'color', 'feelings', 'spoilers', 'government', 'climax', 'support', 'vampire', 'throw', 'train', 'element', 'filming', 'justice', 'charlie', 'gang', 'exception', 'names', 'acts', 'scenery', 'suppose', 'festival', 'paris', 'soul', 'pieces', 'victims', 'puts', 'expectations', 'track', 'loud', 'falling', 'cry', 'manner', 'changes', 'disappointing', 'rated', 'drawn', 'smart', 'opportunity', 'finish', 'serial', 'emotions', 'tired', 'suggest', 'include', 'victim', 'speaking', 'hasnt', 'award', 'church', 'ride', \"'if\", 'hey', 'intended', 'fascinating', 'emotion', 'building', 'followed', 'blue', 'likable', 'twice', 'motion', 'appeared', 'confused', 'hotel', 'available', 'henry', 'compelling', 'developed', 'dies', 'image', 'million', 'ahead', 'approach', 'giant', 'laughed', 'lacks', 'kelly', 'green', 'mans', 'students', 'bother', 'impact', 'gorgeous', 'share', 'fellow', 'bruce', 'supposedly', 'everybody', 'fresh', 'merely', 'pain', 'wondering', 'proves', 'difference', 'bed', 'funniest', 'hurt', 'moral', 'trailer', 'shock', 'jerry', 'finding', 'bar', 'confusing', 'grade', 'drive', 'random', 'putting', 'billy', 'key', 'answer', 'system', 'happening', 'offer', 'lighting', \"'in\", 'mix', 'relationships', 'helps', 'creative', 'delivers', 'producer', 'provides', 'ms', 'christian', 'notice', 'mediocre', 'student', 'paid', 'numbers', 'adults', 'addition', 'noir', 'thoroughly', 'damn', 'drug', 'murders', 'timebr', 'event', 'negative', 'jones', 'becoming', 'reminded', 'lived', 'opera', 'fell', 'absolute', 'park', 'seemingly', 'offers', 'summer', 'flying', 'alien', 'st', 'born', 'boyfriend', 'disappointment', 'page', 'land', 'childhood', 'impressed', 'lover', 'tragedy', 'lose', 'zero', 'hospital', 'forever', 'williams', 'content', 'attractive', 'al', 'stuck', 'flaws', 'shouldnt', 'flicks', 'nasty', 'race', 'held', 'americans', 'extreme', 'agent', 'tragic', 'spot', 'adds', 'pull', 'hidden', 'artistic', 'imagination', 'recommended', 'asks', 'detail', 'intense', 'rented', 'rape', 'turning', 'therefore', 'ugly', 'faces', 'martin', 'ray', 'beat', 'standards', 'six', 'ii', 'step', 'games', 'folks', 'seconds', 'holes', 'super', 'affair', 'porn', 'alan', 'onto', 'favourite', 'davis', 'describe', 'teenage', 'filmmaker', 'arthur', 'spoiler', 'led', 'latter', 'actresses', 'picked', 'mom', 'afraid', 'redeeming', 'industry', 'shocking', 'count', 'angry', 'design', 'states', 'wooden', 'brian', 'allowed', 'ready', 'dirty', 'deliver', 'information', 'seven', 'struggle', 'carry', 'area', 'compare', \"'when\", 'includes', 'clich', 'queen', 'willing', 'personality', 'apartment', 'lord', 'moved', 'gem', 'location', 'helped', 'thin', 'chinese', 'ground', 'martial', 'bond', 'desperate', 'animal', 'soldier', 'wonderfully', 'news', 'forgotten', 'd', 'allen', 'deeply', 'don', 'wars', 'fashion', 'direct', 'grace', 'criminal', 'food', 'stephen', 'jason', 'quick', 'professional', 'member', 'captain', 'inspired', 'uncle', 'cops', 'trust', 'scientist', 'todays', 'castle', 'humans', 'began', 'listen', 'cgi', 'intelligence', 'mental', 'rarely', 'introduced', 'clothes', 'phone', 'independent', 'creature', 'collection', 'double', 'comedic', 'realized', 'wearing', 'plane', 'technical', 'worthy', 'physical', 'fox', 'energy', 'allow', 'provide', 'dying', \"time',\", 'theatre', 'necessary', 'unusual', 'apparent', 'desire', 'danny', 'commentary', 'stone', 'superior', 'ship', 'arts', 'tears', 'continue', \"'what\", 'nightmare', 'douglas', 'epic', 'drugs', 'limited', 'wall', 'accident', 'ring', 'sky', 'returns', 'bloody', 'holds', 'reminds', 'heroes', 'accept', 'witch', 'sight', 'suspect', 'powers', 'remarkable', \"'as\", 'filmmaking', 'station', 'treat', 'search', 'mouth', 'tim', 'scared', 'surprising', 'wedding', 'teacher', 'build', 'actions', 'hated', 'pleasure', 'intriguing', 'wanting', 'anymore', 'clichs', 'sat', 'brutal', 'asked', 'academy', 'machine', 'constant', 'unnecessary', 'russian', 'pacing', 'ie', 'finished', 'engaging', 'fred', 'bits', 'extra', 'grand', 'religious', 'according', 'skip', 'whatsoever', 'johnny', 'passion', 'process', 'vision', 'anybody', 'lies', 'disaster', 'andy', 'suicide', 'normally', 'gotten', 'blame', 'ed', 'absurd', 'toward', 'joan', 'monsters', 'growing', 'nicely', 'met', 'originally', 'artist', 'legend', 'suit', 'anywhere', 'deserve', 'joy', 'media', 'killers', 'instance', 'roll', 'ladies', 'explanation', 'jeff', 'unknown', 'villains', 'winning', 'sleep', 'kevin', 'quiet', 'dangerous', 'hadnt', \"'im\", 'capture', 'whilst', 'players', 'jump', 'heads', 'faith', 'pilot', 'higher', 'hopes', 'torture', 'creating', 'starting', 'somebody', 'cars', 'fail', 'responsible', 'lovers', 'guns', 'memory', 'dick', 'superman', 'teen', 'featuring', 'river', 'friendship', 'smile', 'accurate', 'adam', 'record', 'pulled', 'vs', 'saved', 'watchable', 'jesus', 'community', 'worlds', 'nick', 'european', 'jr', 'keeping', 'understanding', 'taylor', 'lowbudget', 'fights', 'heaven', 'reviewers', 'exist', 'prince', 'months', 'terribly', 'mixed', \"'it\", 'manage', 'treated', 'kinda', 'eddie', 'explained', \"one',\", 'dressed', 'hits', 'knowledge', 'numerous', 'radio', 'loving', 'thembr', 'peoples', 'jackson', 'officer', 'issue', 'england', 'player', 'tarzan', 'fat', 'finest', 'jean', 'bland', 'moon', 'lacking', 'discover', 'pop', 'private', 'memories', 'judge', 'unfunny', 'prove', 'psychological', 'vhs', 'eat', 'price', 'forces', 'whenever', 'weve', 'heres', 'horse', 'regular', 'gene', 'loose', 'screaming', 'driving', 'streets', 'mike', 'heroine', 'delightful', 'sign', 'opposite', 'ordinary', 'broken', 'bright', 'drunk', 'portray', 'japan', 'empty', 'loses', 'opens', 'loss', 'floor', 'included', 'field', 'spanish', 'deserved', 'dated', 'noticed', 'conflict', 'witty', 'cage', 'aware', 'bigger', 'skills', 'naturally', 'warning', 'cuts', 'pretentious', 'calls', 'discovered', 'saving', 'golden', 'continues', 'international', 'dealing', 'locations', 'essentially', 'talents', 'captured', 'breaks', 'partner', 'theyve', 'deals', 'visit', 'humorous', 'werewolf', 'fate', 'wind', 'blonde', 'ball', 'curious', 'gags', 'wow', 'morning', 'cable', 'miles', 'current', 'humanity', 'traditional', 'scream', 'soap', 'gold', 'length', 'morgan', 'jimmy', 'plots', 'realism', 'genuine', 'occasionally', 'connection', 'youth', 'allows', 'magnificent', 'visually', 'murdered', 'fathers', 'genuinely', \"'there\", 'debut', 'received', 'sean', 'learned', 'shallow', 'mine', 'frankly', 'kate', 'results', 'below', 'c', 'advice', 'satire', 'bank', 'behavior', 'concerned', 'gary', 'proved', 'anthony', 'grew', 'mrs', 'washington', 'mission', 'perspective', 'revealed', 'versions', 'kong', 'sing', 'blind', 'sucks', 'nonsense', 'bob', 'segment', 'unable', 'ultimate', 'lesson', 'sheer', 'santa', 'stock', 'welles', 'develop', 'rob', 'shop', 'context', 'keaton', 'visuals', 'cameo', 'meanwhile', 'steal', 'unexpected', 'himbr', 'vampires', 'corny', 'thisbr', 'albert', 'ford', 'owner', 'favor', 'underrated', 'national', 'study', 'survive', 'brilliantly', 'cross', 'reach', 'jennifer', 'references', 'sudden', 'formula', 'efforts', 'sea', 'village', 'finale', 'ann', 'discovers', 'singer', 'identity', 'awkward', 'harris', 'gonna', 'desert', 'program', 'logic', 'strength', 'remembered', 'standing', 'passed', 'majority', 'luck', \"'its\", 'crappy', 'grant', 'ice', 'types', 'window', 'candy', 'gangster', 'utter', 'creates', 'sisters', 'board', 'rubbish', 'wise', 'leader', 'dan', 'existence', 'delivered', 'stereotypes', 'spectacular', 'flashbacks', 'bet', 'lake', 'decade', 'caused', 'relate', 'gratuitous', 'reaction', 'r', 'graphic', 'ran', 'foreign', 'speed', 'meeting', 'awards', 'pair', 'eric', 'trek', 'daughters', 'painfully', 'insane', 'fault', 'edited', 'relief', 'robin', 'practically', 'travel', 'sake', 'lucky', 'foot', 'emotionally', 'pleasant', 'technology', 'boat', 'sucked', 'endless', 'overly', 'described', 'nevertheless', 'native', 'devil', 'author', 'families', 'assume', 'ancient', 'proper', 'combination', 'portrays', 'twenty', 'wide', 'decision', 'dreadful', 'feet', 'parody', 'site', 'freedom', 'seasons', 'test', 'attitude', 'portraying', 'eating', 'howard', 'sell', 'brown', 'president', 'vehicle', 'simon', 'steven', 'anime', 'hearing', 'learns', 'chosen', 'stopped', 'asking', 'marry', 'thomas', 'believes', 'allbr', 'post', 'capable', 'barbara', 'buddy', 'commercial', 'excited', 'aka', 'involves', 'range', 'choose', 'bear', \"this',\", 'executed', 'largely', 'luke', 'gory', 'ages', 'treatment', 'fill', 'recall', 'comparison', 'theatrical', 'hitler', 'produce', 'rules', 'failure', 'model', 'broadway', 'grow', 'lynch', 'wit', 'unrealistic', 'contrived', 'laughter', 'halloween', 'storybr', 'haunting', 'religion', 'classics', 'reviewer', 'product', 'kick', 'sheriff', 'round', 'wood', 'strongly', 'clue', 'drew', 'uk', 'daniel', 'ruined', 'contrast', 'rise', 'built', 'center', 'irritating', 'rescue', 'claim', 'onebr', 'depressing', 'suffering', 'parker', 'tape', 'rose', 'anna', 'entertained', 'sympathetic', 'individual', 'heck', 'appealing', 'levels', 'captures', 'losing', 'research', 'destroy', 'sports', 'handsome', 'chief', 'thatbr', 'protagonist', 'freddy', 'victor', 'extras', 'embarrassing', 'talks', 'tend', 'clean', 'hill', 'generation', 'joseph', 'patrick', 'hunter', 'hanging', 'chick', 'disgusting', 'matt', 'theaters', 'asian', 'evidence', 'fame', 'naive', 'grown', 'virtually', 'facts', 'football', 'bringing', 'sequels', 'voices', 'relatively', 'dry', 'exploitation', 'shakespeare', 'walks', 'hopefully', 'obsessed', 'evening', 'training', 'costume', 'matters', 'appropriate', 'thoughts', 'alex', 'woody', 'fits', 'priest', 'horribly', 'steals', 'convinced', 'scare', 'vote', 'mask', 'roy', 'spoil', 'haunted', 'cares', 'saturday', 'till', 'mebr', 'canadian', 'promise', 'teenagers', 'frame', 'safe', 'louis', 'ryan', 'initial', 'lousy', 'dogs', 'dubbed', 'correct', 'wellbr', 'send', 'yearold', 'jackie', \"'after\", 'united', 'halfway', 'teenager', 'insult', 'creatures', 'bomb', 'walter', 'oliver', 'influence', 'europe', 'holding', 'tiny', 'excitement', 'amateurish', 'pity', 'france', 'remain', 'fly', 'contemporary', 'psycho', 'depicted', 'texas', 'nancy', 'hide', 'unfortunate', 'f', 'cowboy', 'soft', 'angel', 'crowd', 'satisfying', 'germany', 'tedious', 'lawyer', 'touches', \"'first\", 'viewed', 'lower', 'bodies', 'baseball', 'flesh', 'anne', 'lewis', 'gordon', 'weekend', 'danger', 'presents', 'continuity', 'provided', 'serves', 'nominated', 'shocked', 'cash', 'max', 'witness', \"'ive\", 'reporter', 'cost', 'unlikely', 'suffers', 'marie', 'australian', 'structure', 'substance', 'closer', 'asleep', 'ruin', 'handled', 'circumstances', 'amateur', 'sons', 'brave', 'drag', 'roger', 'deaths', 'politics', 'fu', 'latest', 'source', 'accidentally', 'plans', 'surreal', 'wayne', 'repeated', 'supernatural', 'chose', 'warm', 'offensive', 'cinderella', 'fare', 'angles', 'display', 'sinatra', 'speaks', 'qualities', 'fool', 'seat', 'weeks', 'realizes', 'north', 'overthetop', 'claims', 'deadly', 'experiences', 'trilogy', 'previously', 'studios', 'convince', 'robot', 'cartoons', 'colors', 'pile', 'refreshing', 'artists', 'market', 'hunt', 'promising', 'adventures', 'target', 'harsh', 'africa', 'covered', 'bugs', 'winner', \"'well\", 'designed', 'accents', \"'my\", 'wouldve', 'draw', 'category', 'surprises', 'recognize', 'movement', 'mainstream', 'speech', 'edward', 'victoria', 'hall', 'lesbian', 'veteran', 'occasional', 'factor', 'believed', 'skin', 'degree', 'service', 'universal', 'directly', 'struggling', 'sympathy', 'guilty', 'minds', 'aliens', 'technically', 'walked', 'routine', 'propaganda', 'outbr', 'explains', 'professor', 'granted', 'kinds', 'downright', 'focused', 'storytelling', 'uninteresting', 'combined', 'highlight', 'nude', 'columbo', 'hat', 'rain', 'inner', 'friday', 'enter', 'committed', 'teens', 'breaking', 'massive', 'mistakes', 'j', 'invisible', 'twisted', 'offered', 'paper', 'narration', 'remotely', 'kim', 'section', 'donald', 'magical', 'gritty', 'sorts', 'ass', 'irish', 'multiple', 'spends', 'moore', 'lonely', 'princess', 'reveal', 'suspenseful', 'experienced', 'enemy', 'featured', 'express', 'welcome', 'print', 'atrocious', 'regret', 'sharp', 'exact', 'security', 'figured', 'herebr', 'abandoned', 'dollars', 'x', 'performed', 'surface', 'rental', 'legendary', 'figures', 'fictional', 'false', 'whoever', 'anger', 'insight', 'hong', 'waybr', 'variety', 'bothered', 'dozen', 'powell', 'hired', 'birth', 'passing', 'prime', 'universe', 'forest', 'pulls', 'fairy', 'conversation', 'peace', 'frightening', 'crying', 'abuse', 'stolen', 'paced', 'isbr', 'reveals', 'execution', 'rings', 'core', 'mountain', 'spy', 'path', 'theory', 'stays', 'ghosts', 'stayed', 'paint', 'drop', 'erotic', 'significant', 'cutting', 'hed', 'crash', 'von', 'required', 'darkness', 'urban', 'paying', 'blow', 'statement', 'terror', 'trapped', 'anderson', 'reputation', 'treasure', 'prior', 'grim', 'melodrama', 'subtitles', 'slapstick', 'focuses', 'gas', 'crude', 'bmovie', 'effectively', 'dean', 'russell', \"'one\", 'forgettable', 'mgm', 'eight', 'wilson', 'demons', 'quest', 'spite', 'lights', 'wear', 'rights', 'mere', 'african', 'jon', 'childrens', 'beach', 'clark', 'proud', 'forth', 'jobs', 'listening', 'scares', 'unconvincing', 'caine', 'facial', 'account', 'clichd', 'sir', 'necessarily', 'delivery', 'amazed', 'buying', 'bus', 'andor', 'heavily', 'desperately', 'emma', 'matrix', 'metal', 'changing', 'imagery', 'driven', 'grave', 'alice', 'rule', 'department', 'placed', 'sounded', 'mothers', 'sensitive', 'flashback', 'vietnam', 'reminiscent', 'code', 'murphy', 'aint', 'forgot', 'san', 'skill', 'closing', 'device', 'sunday', 'destroyed', 'campy', 'idiot', 'interview', 'scenario', 'belief', 'suffer', 'network', 'beloved', 'settings', 'novels', 'ron', 'examples', 'greater', 'ignore', 'helping', 'julia', 'stereotypical', 'mature', 'everywhere', 'position', 'views', 'driver', 'faithful', 'amazingly', 'angle', 'mexican', 'titanic', 'seek', 'cruel', 'revolution', 'deeper', 'bbc', 'thankfully', 'musicals', 'court', 'pitt', 'afternoon', 'california', 'brad', 'pacino', 'happiness', 'extraordinary', 'lifebr', 'fourth', 'initially', 'summary', 'regarding', 'understood', 'bourne', 'pregnant', 'teeth', 'burns', 'worthwhile', 'achieve', 'lifetime', 'endbr', 'couldve', 'criminals', 'league', 'prefer', 'depiction', 'rolling', 'blockbuster', 'dude', 'convey', 'complicated', 'dennis', 'beast', 'learning', 'cultural', 'mexico', 'picks', 'renting', 'kung', 'raw', 'scale', \"you',\", 'midnight', 'fabulous', 'sleeping', 'sitcom', 'notorious', 'inept', 'purely', 'table', 'sarah', 'honor', 'encounter', 'quirky', 'susan', 'rough', 'breathtaking', 'expert', 'indie', 'starred', 'jungle', 'prepared', 'murderer', 'cabin', 'freeman', 'underground', 'mildly', 'throwing', 'lisa', 'blah', 'critical', 'join', 'larry', 'calling', 'decades', 'drinking', 'via', 'throws', 'serve', 'disbelief', 'rip', 'touched', 'description', 'onbr', 'china', 'carries', 'adding', 'friendly', 'notable', 'bore', 'dress', 'raised', 'protect', 'basis', 'againbr', 'rachel', 'julie', 'blown', 'answers', 'subplot', 'leslie', 'favorites', 'dragon', 'productions', \"'\", 'introduction', 'intellectual', 'base', 'comical', 'extent', 'format', 'succeeds', 'brooks', 'fallen', 'wears', 'appreciated', 'caring', 'everyday', 'expression', 'entertain', 'ned', 'racist', 'arms', 'status', 'attempting', 'causes', 'regard', 'kiss', 'task', 'raise', 'truck', 'carried', 'carrying', 'amongst', 'shadow', 'flight', 'handle', 'enjoying', 'socalled', 'suck', 'funnier', 'bollywood', 'hoffman', 'strangely', 'criticism', 'alright', 'sword', 'inspiration', 'related', 'protagonists', 'cases', 'foster', 'u', 'ted', 'cell', 'embarrassed', 'junk', 'usa', 'sinister', 'lazy', 'writerdirector', 'praise', 'charge', 'johnson', 'locked', 'spoof', 'southern', 'lugosi', 'replaced', 'environment', 'weapons', 'determined', 'escapes', 'maria', 'gruesome', 'daily', 'choices', 'tales', 'ironic', 'claire', 'michelle', 'rogers', 'obnoxious', 'jessica', 'angels', 'ripoff', 'screening', 'ludicrous', 'shut', 'sleazy', 'blair', 'clips', 'sidney', 'interviews', 'tradition', 'needless', 'experiment', 'attacked', 'jail', 'originality', 'interpretation', 'aunt', 'hardy', 'lie', 'wave', 'wins', 'served', 'obsession', 'challenge', 'properly', 'elizabeth', 'arrives', 'jumps', 'contain', 'stops', 'navy', 'sold', 'exists', 'tight', 'remind', 'remote', 'sun', 'laura', 'reference', 'warner', 'graphics', 'breath', 'chilling', 'timing', 'goofy', 'trick', 'nowadays', 'burt', 'goodbr', 'dollar', 'india', 'oddly', 'fortunately', 'westerns', 'established', 'che', 'essential', 'nonexistent', 'drives', 'successfully', 'term', 'sum', 'revolves', 'refuses', 'busy', 'punch', 'alas', 'frequently', 'stanley', 'scripts', 'rival', 'horrific', 'flow', 'stylish', 'andrews', 'pet', 'warn', 'mentally', 'hills', 'costs', 'authentic', 'guard', 'jewish', 'oscars', 'flawed', 'hitchcock', 'hence', 'marvelous', 'struggles', 'h', 'manager', 'comedian', 'retarded', 'mindless', 'albeit', 'balance', 'ratings', 'nation', 'par', 'upset', 'intentions', 'wishes', 'suspects', 'tense', 'toy', 'philip', 'n', 'attacks', 'bridge', 'mob', \"'for\", 'greatly', 'roberts', 'intensity', 'mirror', 'inspector', 'thousands', 'cooper', 'spoken', 'sides', 'mansion', 'gods', 'lesser', 'overcome', 'tree', 'controversial', 'legs', 'ashamed', 'fbi', 'bitter', 'personalities', 'adapted', 'husbands', 'jay', 'opened', 'confusion', 'wasting', 'demon', 'buck', 'medical', 'glimpse', 'delight', 'titles', 'thrilling', 'suffered', 'seeking', 'expressions', \"again',\", 'poignant', 'lion', 'turkey', 'chan', 'scientists', 'holmes', 'dinner', 'riding', 'lucy', 'eg', 'shower', 'stomach', 'guessing', 'nazi', 'vacation', 'hundreds', 'internet', 'broke', 'happily', 'cynical', 'courage', 'wealthy', 'ps', 'lane', 'dubbing', 'o', 'storm', 'mass', 'perform', 'contact', 'hood', 'dislike', 'stranger', 'thief', 'stupidity', 'separate', 'text', 'advantage', 'bound', 'corner', 'whereas', 'patient', 'pride', 'infamous', 'madness', 'nonetheless', 'sings', 'gross', 'hint', 'tracy', 'topic', 'noble', 'chases', 'chair', 'presentation', 'physically', 'shorts', 'miscast', 'millions', 'miller', 'shines', 'shape', 'countries', 'suggests', 'trite', 'uncomfortable', 'helen', 'lessons', \"'ok\", 'womans', 'cameos', 'mouse', 'technique', 'innocence', 'sin', 'hundred', 'trial', 'consists', 'performers', 'east', 'letting', 'hole', 'atmospheric', 'cook', 'therebr', 'tied', 'racism', 'horses', 'reunion', 'risk', 'glass', 'youbr', 'badbr', 'gripping', 'ensemble', 'sexuality', 'lovable', 'reed', 'hanks', 'pg', 'pool', 'crisis', 'torn', 'bears', 'noted', 'stretch', 'develops', 'saves', 'holiday', 'bette', 'steps', 'troubled', 'lying', 'curse', 'credible', 'elvis', 'concert', 'searching', 'portrait', 'idiotic', 'weapon', 'rocks', 'credibility', 'screenwriter', 'plastic', 'ralph', 'bettie', 'exceptional', 'meaningful', 'attraction', 'dialogs', 'imaginative', 'fish', 'oneliners', 'catholic', 'host', 'toobr', 'nd', 'accepted', 'herbr', 'entry', 'drink', 'gain', 'grey', 'hiding', 'neat', 'shed', 'sends', 'vincent', 'solve', 'lincoln', 'aired', 'sandler', 'concerns', 'sentimental', 'hoped', 'spots', 'belongs', 'thrillers', 'pack', 'card', 'wwii', 'proof', 'franchise', 'guts', 'connected', 'achieved', 'assistant', 'arm', 'andrew', 'flaw', 'per', 'dig', 'closely', 'object', 'widmark', 'crimes', 'repeat', 'fortune', 'eerie', 'homeless', 'encounters', 'cousin', 'irony', 'annoyed', 'striking', 'dealt', 'aged', 'bo', 'christ', 'worry', 'succeed', 'believing', 'teach', 'complaint', 'checking', 'nine', 'sutherland', 'enjoyment', 'profound', 'italy', 'neighborhood', 'tour', 'dragged', 'covers', 'lucas', 'pat', 'colorful', 'tune', 'oil', 'unforgettable', 'virgin', 'appearances', 'stanwyck', 'battles', 'bag', 'civil', 'mstk', 'segments', 'tribute', 'thousand', 'equal', \"recommended',\", 'essence', 'videos', 'hang', 'factory', 'nelson', 'ourselves', 'hunting', 'quote', 'pointed', 'jake', 'dentist', 'charisma', 'cube', \"out',\", 'strikes', 'endearing', 'appearing', 'countless', 'moviesbr', 'surrounding', 'bat', 'persons', 'expensive', 'knife', 'shoots', 'rush', 'incoherent', 'seagal', 'pitch', 'miniseries', 'laid', 'chasing', 'stealing', 'surrounded', 'theyd', 'dorothy', 'competent', 'hearts', 'split', 'catherine', 'attempted', 'ha', 'stood', 'spending', 'hooked', 'workers', 'charismatic', 'slight', 'health', 'dancer', 'colour', 'specific', 'redemption', 'intention', 'baker', 'stunts', 'tons', 'grows', 'briefly', 'glory', 'unintentionally', 'aforementioned', 'lloyd', 'rushed', 'ripped', 'matthau', 'cheese', 'hamlet', 'wing', 'rochester', 'stronger', 'denzel', \"all',\", 'betterbr', 'crafted', 'sexually', 'zone', 'reactions', 'attached', 'bucks', 'associated', 'snow', 't', 'individuals', 'trade', 'kurt', 'terrifying', 'curtis', 'stan', 'sullivan', 'easier', 'dare', 'guilt', 'messages', 'setup', 'massacre', 'jeremy', 'library', 'tricks', 'birthday', 'fx', 'branagh', 'noise', 'shall', 'university', 'hip', 'condition', 'burning', 'wanna', 'corrupt', 'month', 'nights', 'nose', 'homage', 'drags', 'identify', 'beating', 'dropped', 'stated', 'stunt', 'silver', 'arnold', 'increasingly', 'le', 'requires', 'wake', 'represents', 'allowing', 'ian', 'faced', 'guest', 'revelation', 'neck', 'gag', 'creators', 'cardboard', 'vague', 'magazine', 'chances', 'dawn', 'forgive', 'importantly', 'techniques', 'performing', 'commit', 'kings', 'typically', 'gift', 'instantly', 'contract', 'chuck', 'enters', 'goal', 'kidnapped', 'importance', 'boredom', 'killings', 'cats', \"me',\", 'gothic', 'gotta', 'camerawork', 'luckily', 'strictly', 'horrendous', 'pushed', 'carefully', 'fifteen', 'exercise', 'handful', 'sophisticated', 'walls', 'relevant', \"'an\", 'chaplin', 'fired', 'dramas', 'presumably', 'winter', 'reynolds', 'medium', 'kicks', 'spike', 'virus', 'row', 'dear', 'painting', 'packed', 'perfection', 'flash', 'basement', 'realise', 'eva', 'admittedly', 'jesse', 'bobby', 'warned', 'doors', 'nuclear', 'partly', 'horrors', 'barry', 'reallife', 'brando', 'godfather', 'weight', 'mild', 'thumbs', 'letter', 'fitting', 'strip', 'disagree', 'buried', 'pie', 'notch', 'acceptable', 'press', 'occurs', 'wonders', 'overrated', 'destruction', 'talked', 'britain', 'hype', 'executive', 'korean', 'pleasantly', 'boll', 'heat', 'hitting', 'loser', 'sally', 'hudson', 'comics', 'persona', 'continued', 'fears', 'pleased', 'breasts', 'overlooked', 'silence', 'derek', 'brand', 'tremendous', 'arrested', 'secretary', 'toilet', 'returning', 'prevent', 'resolution', 'lab', 'wondered', 'superhero', 'strike', 'admire', 'accused', 'larger', 'evident', 'spell', 'beings', 'marks', 'boxing', 'bride', 'digital', 'attracted', 'kane', 'bullets', 'opposed', 'frustrated', 'listed', 'estate', 'shy', 'competition', 'shining', 'fatal', 'struck', 'flawless', 'jumping', 'carol', 'elsewhere', 'superbly', 'relative', 'root', 'nazis', 'stiff', 'inevitable', 'guide', 'outrageous', 'directorial', 'investigation', 'planning', 'bible', 'subplots', 'jamie', 'revealing', 'glover', 'picking', 'ward', 'genres', 'los', 'sole', 'characterization', 'bush', 'walken', 'subsequent', 'lacked', 'logical', 'ad', 'menacing', 'spiritual', 'closeups', 'inspiring', 'someones', 'ambitious', 'karloff', 'suits', 'spooky', 'rd', 'iii', 'mafia', 'union', 'regardless', 'remaining', 'splendid', 'watches', 'pulling', 'raped', 'canada', 'ken', 'elderly', 'reasonably', 'clues', 'depression', 'uninspired', 'photographed', 'highlights', 'burn', 'aimed', 'cup', 'creation', 'wannabe', 'twin', 'dvds', 'flynn', 'precious', 'mid', 'hire', 'heston', 'melodramatic', 'con', 'useless', 'masters', 'doc', 'neighbor', 'repetitive', 'appalling', 'poverty', 'rid', 'conspiracy', 'drunken', 'worldbr', 'projects', 'draws', 'response', 'slightest', 'theyll', 'citizen', 'smooth', 'samurai', 'm', 'convoluted', 'savage', 'screams', 'notably', 'providing', 'morality', 'thrills', 'francisco', 'wicked', 'spoiled', 'accomplished', 'duke', 'failing', 'reduced', 'explore', 'installment', 'minimal', 'spring', 'non', 'psychiatrist', 'worthless', 'souls', 'push', 'intrigued', 'timothy', 'overdone', 'repeatedly', 'futuristic', 'funnybr', 'border', 'definite', 'shortly', 'ironically', 'documentaries', 'gradually', 'bleak', 'notes', 'darker', 'distant', 'cared', 'jerk', 'streisand', 'jealous', 'cia', 'wes', 'filmsbr', 'mile', 'shadows', 'carpenter', 'adams', 'sticks', 'corpse', 'territory', 'tall', 'obscure', 'goldberg', 'afterwards', 'reasonable', 'piano', 'intent', 'dire', 'blob', 'emily', 'brilliance', 'shell', 'ticket', 'davies', 'laurel', 'outcome', 'motivation', 'gentle', 'insulting', 'meat', 'loosely', 'knock', 'elaborate', 'beaten', 'trap', 'mel', 'captivating', 'wells', 'curiosity', 'improved', 'tea', 'achievement', 'hatred', 'doctors', 'thirty', 'burton', 'disease', 'childish', 'em', 'argument', 'shoes', 'beer', 'et', 'explicit', 'cruise', 'grandmother', 'neil', 'connect', 'resembles', 'rap', 'liberal', 'absence', 'misses', 'kudos', 'nurse', 'indians', 'concerning', \"that',\", 'cameras', 'alexander', 'hardcore', 'blend', 'huh', 'unbelievably', 'spin', 'stole', 'norman', 'craig', 'blows', 'extended', 'psychotic', 'reached', 'horrid', 'builds', 'affected', 'string', 'cried', 'danes', 'manhattan', 'worried', 'fancy', 'sunshine', 'lou', 'brazil', 'throat', 'fisher', 'forbidden', 'warrior', 'vicious', 'ritter', 'tortured', 'shark', 'tunes', 'threat', 'displays', 'glenn', 'turner', 'threw', 'discussion', 'temple', 'idiots', 'charactersbr', 'timeless', 'pretend', 'arrive', 'eve', 'ought', 'demands', 'miserably', 'spirits', 'waters', 'returned', 'ignored', 'ranks', 'exaggerated', 'distance', 'diamond', 'upbr', 'cole', 'sloppy', 'complain', 'warren', 'farce', 'consequences', 'monkey', 'subjects', 'matthew', 'currently', 'pushing', 'dancers', 'dave', 'argue', 'ridiculously', 'enjoys', 'alltime', 'spielberg', 'overacting', 'beats', 'elvira', 'robots', 'restaurant', 'australia', 'broad', 'conversations', 'harder', 'movements', 'mitchell', 'kenneth', 'sacrifice', 'progress', 'hysterical', 'receive', 'houses', 'officers', 'burned', 'landscape', 'poster', 'photographer', 'farm', 'swedish', 'heroic', 'triumph', 'comfortable', 'jet', 'smoking', 'groups', 'trio', 'annie', 'dynamic', 'scientific', 'staying', 'disc', 'involvement', 'duo', 'recognized', 'wreck', 'scripted', 'upper', 'investigate', 'murderous', 'smoke', 'selling', 'carter', 'engaged', 'devoted', 'website', 'modesty', 'dignity', 'differences', 'greek', 'buddies', 'purple', 'anyways', 'prom', 'occur', 'exposed', 'critic', 'secrets', 'daring', 'vivid', 'styles', 'proceedings', 'brains', 'aging', 'drawing', 'size', 'dinosaurs', 'couples', 'machines', 'g', 'newspaper', 'journalist', 'titled', 'load', 'swear', 'incident', 'cusack', 'threatening', 'ireland', 'empire', 'producing', 'eyre', 'gray', 'cagney', 'apes', 'brosnan', 'joey', 'symbolism', 'carrey', 'hugh', 'fay', 'relies', 'drivel', 'superficial', 'selfish', 'margaret', 'bands', 'innovative', 'winters', 'explaining', 'bathroom', 'escaped', 'mountains', 'ruth', 'block', 'detailed', 'areas', 'translation', 'bite', 'orders', 'rural', \"'although\", 'plague', 'grab', 'tame', 'blank', 'kitchen', 'astaire', 'thugs', 'choreography', 'imagined', 'implausible', 'rage', 'lighthearted', 'uneven', 'dialogues', 'stiller', 'timesbr', 'deliberately', 'unpleasant', 'existed', \"good',\", 'wealth', 'mate', 'hollow', 'contrary', 'staff', 'focusing', 'occurred', 'editor', 'juvenile', 'dawson', 'intrigue', 'nearby', 'signs', 'ingredients', 'workbr', 'commercials', 'versus', 'soviet', 'causing', 'popcorn', 'audio', 'mustsee', 'generous', 'chain', 'fever', 'generic', 'combat', 'showbr', 'discovery', 'craft', 'pays', 'offering', 'folk', 'lips', 'sadistic', 'meaningless', 'removed', 'population', 'mildred', 'furthermore', 'resemblance', 'web', 'ex', 'sadness', 'watchbr', 'alike', 'broadcast', 'primary', 'defeat', 'perry', 'travels', 'catches', 'birds', 'lily', 'eccentric', 'maker', 'headed', 'lawrence', 'portion', 'devoid', 'clumsy', 'onscreen', 'conventional', 'sidekick', 'overwhelming', 'lifestyle', 'passes', \"'wow\", \"stars',\", 'trees', 'w', 'explosion', 'clothing', 'disturbed', 'discuss', 'felix', 'hollywoods', 'primarily', 'remarkably', 'kirk', 'pulp', 'ships', 'liking', 'afford', 'composed', 'secondly', 'highest', 'abilities', 'spare', 'damage', 'itll', 'settle', \"'while\", 'abc', 'financial', 'dozens', 'banned', 'unbearable', 'possibility', 'nightmares', 'undoubtedly', 'flies', 'winds', 'hates', 'react', 'dimensional', 'hitman', 'panic', 'official', 'bell', 'cuba', 'beneath', 'blatant', 'mickey', 'morebr', 'reaches', 'shine', 'narrator', 'consistently', 'scheme', 'models', 'chaos', 'twelve', 'unintentional', 'antics', 'bird', 'smaller', 'falk', 'enormous', 'kapoor', 'karen', 'explored', 'leg', 'maggie', 'fond', 'thrill', 'coherent', 'rank', 'wallace', 'fighter', 'props', 'represent', 'exotic', 'giallo', 'surviving', 'bold', 'jeffrey', 'notbr', 'mixture', 'neighbors', 'errors', 'describes', 'glorious', 'survival', 'urge', 'ups', 'rambo', 'hurts', 'dracula', 'ties', \"'just\", 'slap', 'adequate', 'outer', 'clint', 'notion', 'edie', 'hints', 'cheating', 'carl', 'hal', 'florida', 'mistaken', 'blew', 'altogether', 'seventies', 'everyones', 'contained', 'merit', 'tear', 'heartwarming', 'bedroom', 'freak', 'brady', 'impress', 'bin', 'disjointed', 'specifically', 'drops', 'backdrop', 'thick', 'dances', 'ideal', 'hideous', 'decisions', 'odds', 'vast', 'whale', 'holy', 'instant', 'uwe', 'scenebr', 'offended', 'monkeys', 'directs', 'clown', \"movies',\", 'gangsters', 'possessed', 'brooklyn', 'benefit', 'explosions', 'weakest', 'tommy', 'influenced', 'dedicated', 'divorce', 'kennedy', 'doomed', 'garden', 'rebel', 'etcbr', 'sport', 'voight', 'peters', 'guessed', 'distracting', 'screenbr', 'stellar', 'survivors', 'montage', 'cameron', 'loads', 'tap', 'april', 'subtlety', 'dating', 'frustration', 'commented', 'method', 'dutch', 'introduces', 'richards', 'sellers', 'simplistic', 'wolf', 'lasted', 'blake', 'seenbr', 'butt', 'relations', 'desperation', 'tender', 'classes', 'senseless', 'suited', 'rooms', 'occasion', 'depressed', 'trailers', 'amy', 'judging', 'paulie', 'countryside', 'topless', 'practice', 'developing', 'jazz', 'matches', 'emphasis', 'principal', 'gandhi', 'l', 'politically', 'arrogant', 'staged', 'soccer', 'loyal', 'performer', 'justify', 'revolutionary', 'cary', 'doll', 'ego', 'hammer', 'satan', 'walker', 'toys', 'involve', 'claimed', 'forms', 'motives', 'linda', 'enterprise', 'similarities', 'disappeared', 'transformation', 'backgrounds', 'hank', 'traveling', 'trashy', 'bone', 'kicked', 'adorable', 'crush', 'rick', 'interaction', 'wasbr', 'bare', 'tad', 'dickens', 'ruthless', 'solely', 'severe', 'philosophy', 'illogical', 'circle', 'hbo', 'diane', 'sits', 'eastwood', 'miserable', 'command', 'stress', 'careers', 'tracks', 'thoughtful', 'roman', 'recorded', 'chorus', 'disappear', 'wore', 'link', 'cards', 'facing', 'realizing', 'menace', 'funeral', 'angeles', 'aid', 'displayed', 'coffee', 'planned', 'companion', 'isolated', 'saga', 'stereotype', 'yesterday', 'hamilton', 'corruption', 'wrestling', 'synopsis', 'considerable', 'authority', 'todd', 'succeeded', \"'you\", 'lemmon', 'comparing', 'endings', 'lust', 'agrees', 'mysteries', 'ease', 'chased', 'melting', 'blues', 'photos', 'treats', 'scenesbr', 'unfolds', 'ginger', 'colonel', 'endure', 'swimming', 'formulaic', 'yellow', 'awake', 'waited', 'atlantis', 'jonathan', 'inventive', 'possibilities', 'unwatchable', 'donna', 'shelf', 'madefortv', 'e', 'harvey', 'honesty', 'switch', 'moody', 'goodness', 'immensely', 'taught', 'advance', 'passionate', 'preview', 'bonus', 'similarly', 'outfit', 'ellen', 'celebrity', 'tongue', 'measure', 'shirley', \"life',\", 'surfing', 'cure', 'quotes', 'leonard', 'holly', 'defend', 'kidding', 'combine', 'akshay', 'dolls', 'handed', 'consistent', 'report', 'cox', 'wished', 'cg', \"'not\", 'destiny', 'spoilersbr', 'delivering', 'widow', 'terrorist', 'onedimensional', \"'how\", 'lyrics', 'solo', 'amanda', 'behave', 'helicopter', 'riveting', 'charlotte', 'voiceover', 'vegas', 'duty', 'philosophical', 'represented', 'hunters', 'celluloid', 'oz', 'pages', 'closest', 'buildings', 'purchase', 'suitable', 'ears', 'fix', 'nervous', 'crack', 'valuable', 'carrie', 'eighties', 'blond', 'chess', 'global', 'avoided', 'orson', 'transfer', 'ignorant', 'relation', 'promised', 'myers', 'enemies', 'wives', 'prostitute', 'unhappy', 'hook', 'user', 'rocket', 'reads', 'faster', 'cliff', 'waves', 'painted', 'bebr', 'inane', 'motivations', 'scores', 'artificial', 'maintain', 'agents', 'horrifying', 'judy', 'engage', 'affect', 'closet', 'elegant', 'grasp', 'online', 'embarrassment', 'humble', 'unsettling', 'parent', 'scottish', 'reaching', 'destroying', 'march', 'blacks', 'stooges', 'nicholson', 'inbr', 'hart', 'education', 'godzilla', 'racial', 'earned', 'snl', 'iron', 'kingdom', 'rotten', 'splatter', 'conflicts', 'wet', 'flop', 'corporate', 'wed', 'pretending', 'lees', 'understandable', \"them',\", 'coach', 'yelling', 'staring', 'secretly', 'safety', 'shake', 'improve', 'airplane', \"'oh\", 'reflect', 'potentially', 'access', 'sappy', 'snake', 'centers', 'armed', 'buff', 'thru', 'cleverly', 'stevens', 'questionable', 'jumped', 'alongside', 'womens', 'slick', 'slave', 'campbell', 'inferior', 'intentionally', 'fooled', 'exploration', \"better',\", 'tonight', 'scope', 'wandering', 'bullet', 'concern', 'americas', 'useful', 'diana', 'depicts', 'mall', 'dinosaur', 'faults', 'amounts', 'advise', 'v', 'rex', 'seed', 'letters', 'plant', 'provoking', 'mario', 'brutally', 'finger', 'airport', 'museum', 'lay', 'tiresome', \"'okay\", 'scarecrow', 'hung', 'k', 'communist', 'civilization', 'virginia', 'remarks', 'trained', 'miike', 'germans', 'arrived', 'robbery', 'patients', 'blade', 'miracle', 'floating', 'arguably', 'rising', 'poetic', 'nicholas', 'sentence', 'dub', 'lengthy', 'greedy', 'proceeds', 'nomination', 'spoke', 'disneys', 'tie', 'joined', 'lena', 'sub', 'edgar', 'convincingly', 'september', 'advanced', 'plight', 'illegal', 'blunt', 'namely', 'troops', 'rendition', 'mini', 'alcoholic', 'fonda', 'francis', 'guarantee', 'wizard', 'nostalgic', 'abusive', 'survived', 'confidence', 'ethan', 'willis', 'gadget', 'familys', 'beatty', 'homosexual', 'cinematographer', \"'to\", 'showcase', 'peoplebr', 'vulnerable', 'lit', 'relatives', 'understated', 'ballet', 'fascinated', 'spread', 'porno', 'stinks', 'purchased', 'bath', 'visits', 'chicago', 'resort', 'sbr', 'satisfied', 'abysmal', 'accompanied', \"well',\", 'witches', 'steel', 'advertising', 'attitudes', 'streep', 'pig', 'designs', 'construction', 'agreed', 'stilted', 'grinch', 'parallel', 'punk', 'compelled', 'pops', 'li', 'frequent', 'wound', 'signed', 'nonstop', 'beliefs', 'wrapped', 'latin', 'classical', 'simplicity', 'balls', 'berlin', 'capturing', 'stinker', 'lowest', 'madonna', 'cave', 'junior', 'sandra', 'likewise', 'careful', 'cities', 'transition', 'christians', 'species', 'heartbreaking', 'niro', 'copies', 'carradine', 'ape', 'aids', 'hopper', 'eager', 'morris', 'opinions', 'complexity', 'intimate', 'nonsensical', 'lately', 'grandfather', 'taxi', 'downhill', 'nostalgia', 'tends', 'alternate', 'lone', 'paltrow', 'channels', 'mm', 'june', 'crucial', 'sue', 'losers', 'vengeance', 'challenging', 'prisoner', 'robinson', 'satisfy', 'edition', 'recognition', 'shirt', 'devils', 'elephant', 'georges', 'bottle', 'catchy', 'wellknown', 'jenny', 'limits', 'leo', 'khan', 'ruby', 'gundam', 'mundane', 'molly', 'macy', 'bakshi', 'pokemon', 'damon', 'mars', 'illness', 'chicks', 'seeks', 'conservative', 'appreciation', 'wishing', 'lively', 'writes', 'inappropriate', 'muchbr', 'rat', 'amitabh', 'choreographed', 'hilariously', 'montana', 'foul', 'demented', 'witnesses', 'exceptionally', 'equivalent', 'prisoners', 'chooses', 'excessive', 'suspicious', 'awe', 'buffs', 'widely', 'twilight', 'tomatoes', 'dreary', 'restored', 'homer', 'poetry', 'del', 'cake', 'chest', 'pursuit', 'overlook', 'shelley', 'worker', 'schools', 'manipulative', 'descent', 'terry', 'plotbr', \"bad',\", 'remakes', 'raising', 'suspend', 'olivier', 'elm', 'masterful', 'opportunities', 'awfully', 'belong', 'enthusiasm', 'da', 'raymond', 'cheated', 'paranoia', 'basketball', 'resources', 'eaten', 'robbins', 'plausible', 'phantom', 'domestic', 'ocean', 'daddy', 'simmons', \"watch',\", 'methods', 'doubts', 'calm', 'bang', 'nations', 'messed', 'legal', 'experiments', 'seriesbr', 'performs', 'gerard', 'landscapes', 'introduce', 'cinemas', 'capital', 'royal', 'nyc', 'brenda', 'bumbling', 'incomprehensible', 'crocodile', 'assault', 'kicking', 'misery', 'wisdom', 'eitherbr', 'trademark', 'justin', 'climactic', 'borrowed', 'assigned', 'responsibility', 'scooby', 'babe', 'creativity', 'distinct', 'earl', 'randomly', 'resist', 'laws', 'petty', 'vaguely', 'mentions', 'craven', 'polished', 'mechanical', 'wacky', 'recording', 'invasion', 'arrival', 'square', 'der', 'sincere', 'mummy', 'blowing', 'demand', 'prequel', 'tag', 'mayor', 'incompetent', 'prize', 'map', 'unit', 'operation', 'witnessed', 'solution', 'stones', 'parties', 'wounded', 'showdown', 'constructed', 'troubles', 'promises', 'expressed', 'gifted', 'wholly', \"story',\", 'desired', 'strangers', 'fields', 'scrooge', 'ruins', 'progresses', 'boot', 'receives', 'stale', 'underlying', 'terrorists', 'richardson', 'greed', 'resident', 'masterpieces', 'standout', 'sneak', 'heights', 'conceived', 'feed', 'attorney', \"instead',\", 'literature', 'icon', 'inevitably', 'attend', 'sink', 'fury', 'pearl', 'unaware', 'bacall', 'betty', 'unoriginal', 'assumed', 'visible', 'loaded', 'marty', 'mann', 'laughably', 'chapter', 'rats', 'edgy', 'lumet', 'warmth', 'polanski', 'spirited', 'randy', 'simpson', 'pot', 'punishment', 'activities', 'muslim', 'mentioning', 'businessman', 'contest', 'louise', 'gabriel', 'offbr', 'instinct', 'dust', 'pit', \"enjoy',\", 'property', 'straightforward', 'waitress', 'willie', 'closed', 'dalton', 'smiling', 'nuts', 'jaws', 'iran', 'kay', 'aboutbr', 'poem', 'iraq', 'popularity', 'teaching', 'spain', 'franco', 'swim', 'garbo', 'overlong', 'exposure', 'quit', 'voiced', 'wouldbe', 'generations', 'whoopi', 'rabbit', 'survivor', 'alert', 'tooth', 'pamela', 'disappoint', 'depicting', 'minutesbr', 'funbr', 'fashioned', 'warriors', 'suffice', 'acid', 'withbr', 'omen', 'minimum', 'catching', 'middleaged', 'mighty', 'psychic', 'moronic', 'historically', 'firstly', 'ya', 'keith', 'wendy', 'equipment', 'grabs', 'verhoeven', 'bull', 'christy', 'supported', 'imitation', 'tiger', 'tribe', 'timon', 'alfred', 'cannibal', 'household', 'accuracy', 'exchange', 'championship', 'fought', 'pink', 'bergman', 'cliche', 'compassion', 'mistress', 'kyle', 'definition', 'integrity', 'invented', 'testament', 'ramones', 'ashley', 'palace', 'pressure', 'angela', 'unpredictable', 'resulting', 'daybr', 'shaky', 'butler', 'directions', 'valley', 'females', 'sid', 'resemble', 'phony', 'disliked', 'eugene', 'noone', 'educational', 'sounding', 'stunned', \"'having\", 'twins', 'greg', 'spock', 'rangers', 'stretched', 'feelgood', 'viewings', 'subjected', \"'br\", 'teachers', 'metaphor', 'irrelevant', 'wifes', 'uplifting', 'ah', 'suggested', 'lackluster', 'austin', 'hopeless', 'creep', 'romero', 'otherbr', 'confrontation', 'boom', 'fulci', 'wretched', 'immediate', 'abraham', 'cd', 'inability', 'astonishing', 'defense', 'rocky', 'gather', 'domino', 'rubber', 'wrongbr', 'unseen', 'doom', 'heartfelt', 'actingbr', 'landing', 'defined', 'marketing', 'reflection', \"see',\", 'remained', 'expedition', 'grayson', 'orleans', 'confess', 'stumbled', 'drake', 'furious', 'retired', 'loyalty', 'ambiguous', 'album', 'shaw', 'bud', 'dee', 'technicolor', 'spacey', 'peak', 'difficulties', 'hears', 'trail', 'unreal', 'companies', 'biography', 'stargate', 'simultaneously', \"too',\", 'dixon', 'newly', 'musicians', 'composer', 'deceased', 'sopranos', 'significance', 'roommate', 'firm', 'patience', 'cringe', 'israel', 'unexpectedly', 'clip', 'pants', 'checked', 'require', 'monk', 'interests', 'sums', 'kubrick', 'costar', 'othello', 'objective', 'conditions', 'raises', 'fascination', 'kissing', 'eastern', 'nail', 'empathy', 'roots', 'adaptations', 'darren', 'unfair', 'rave', 'daniels', 'josh', 'mankind', 'frightened', 'meryl', 'creator', 'button', 'dolph', 'bay', 'ollie', 'merits', 'rolled', 'analysis', 'replace', 'unlikable', 'interactions', 'comfort', 'dana', 'closeup', 'experimental', 'favour', 'stark', 'sharon', 'improvement', 'vulgar', 'precisely', 'rates', 'farrell', 'respected', 'quietly', 'glasses', 'yearsbr', 'subpar', 'refused', 'nicole', 'underneath', 'watson', 'desires', 'casts', 'screens', 'shanghai', 'roth', 'pierce', 'raines', 'masses', 'joins', 'alec', 'owen', 'buffalo', 'maid', 'despair', 'primitive', 'discovering', 'abused', 'wakes', 'rises', 'coast', 'claus', 'pal', 'specially', 'comedians', 'softcore', 'reid', 'connery', 'maniac', 'sixties', 'lundgren', 'marion', 'andre', 'encourage', 'relax', 'thingbr', 'examination', 'rude', 'nowbr', 'reel', 'tastes', 'aspiring', 'provocative', 'min', 'karl', 'exposition', \"is',\", 'electric', 'slaughter', 'stuart', 'phil', 'correctly', 'graham', 'characterbr', 'appropriately', 'flair', 'literary', 'package', 'warming', 'widescreen', 'christianity', 'lands', 'seldom', 'sissy', 'dimension', 'julian', 'distribution', 'muddled', 'carell', 'behaviour', 'passable', 'framed', 'inexplicably', 'audiencebr', 'victory', 'ww', 'teaches', 'matched', 'griffith', 'pan', 'rely', 'walsh', 'photo', 'nerd', 'barrymore', 'blast', 'alcohol', 'adopted', 'ustinov', 'brutality', 'reeves', 'frustrating', 'les', 'dose', 'remade', 'shared', 'dresses', 'sunny', 'amused', 'dysfunctional', 'tank', 'parade', 'automatically', 'joel', 'purposes', 'grotesque', 'mode', 'gentleman', 'prepare', 'amusement', 'filling', 'lol', 'bela', 'deranged', 'invites', 'ordered', 'phrase', 'visiting', 'additional', 'assassin', 'downey', 'generated', 'knocked', 'wildly', 'yard', 'tracking', 'teams', 'presenting', 'referred', 'emperor', 'fingers', 'milk', 'antwone', 'musician', 'shoddy', 'charged', 'gender', 'femme', 'hyde', 'ross', 'shouldve', 'wang', 'absent', 'hopkins', 'positively', 'posters', 'deaf', 'fantasies', 'glowing', 'lock', 'morbid', 'nathan', 'complaining', 'respective', 'choppy', 'citizens', 'items', 'preposterous', 'murdering', 'bernard', 'travesty', 'mtv', 'translated', 'madebr', 'premiere', 'spark', 'ninja', 'scotland', 'biko', 'tacky', 'senses', 'sentiment', 'awhile', 'poison', 'vance', 'bunny', 'chicken', 'releases', 'refer', 'legacy', 'cattle', \"'with\", 'region', 'paradise', 'sung', 'mclaglen', 'sabrina', 'insurance', 'macarthur', 'rifle', 'moreover', 'marshall', 'loneliness', 'frankenstein', 'unfold', 'hawke', 'sentinel', 'fido', 'ignorance', 'realm', 'admirable', 'costars', 'infected', 'deserted', 'ladder', 'credited', 'tube', 'topnotch', 'eternal', 'lush', 'misleading', 'russia', 'babies', 'ss', 'naughty', 'shoulders', 'kansas', 'towns', 'alternative', 'invited', 'youngest', 'alicia', 'accomplish', 'fed', 'abrupt', 'shares', 'bargain', 'vice', 'function', \"end',\", 'skull', 'silliness', 'nephew', 'indication', 'hopelessly', 'wrap', 'hackneyed', 'guests', 'leon', 'objects', 'imaginable', 'beverly', 'forty', 'masks', 'alison', 'singers', 'preston', 'accepts', 'roof', 'bridget', 'uncut', 'handling', 'fi', 'drove', 'receiving', 'devices', 'active', \"'so\", 'reflects', 'cruelty', 'iconic', 'pro', 'threatens', 'oldest', 'wellwritten', 'wilderness', 'weakness', 'cope', 'phillips', 'pitiful', 'secondary', 'severely', 'grief', 'trend', 'complaints', 'insipid', 'absurdity', 'gambling', 'celebration', 'address', \"films',\", 'hk', 'ensues', 'noises', 'fest', 'suspension', 'tomorrow', 'swing', 'promote', 'servant', 'greatness', 'conveys', 'regarded', 'nod', 'chills', 'hitlers', 'pun', 'owners', 'skits', 'chainsaw', 'partners', 'crystal', 'asylum', 'demise', 'realised', 'heros', 'palance', 'sci', 'muppets', 'records', 'thoughtprovoking', 'recycled', 'understands', 'kumar', 'beside', 'strongest', 'heading', 'weaknesses', 'squad', 'affection', 'challenges', 'authors', 'obligatory', 'conscience', 'romp', 'portrayals', 'occasions', 'cue', 'posted', \"'yes\", 'policeman', 'mill', 'reluctant', 'acceptance', 'sympathize', 'prey', 'visited', 'investigating', 'fianc', 'jews', 'industrial', 'corpses', 'togetherbr', 'rita', 'burst', 'edit', 'affairs', 'standup', 'lifted', 'nolan', 'underworld', 'rooney', 'tyler', 'coincidence', 'harm', 'conventions', 'puppet', 'minus', 'comparisons', 'malone', 'minded', 'depending', 'laurence', 'venture', 'hammy', 'paramount', 'caliber', 'canyon', 'mccoy', 'deniro', \"'some\", 'suitably', \"disappointed',\", 'lois', 'counts', 'stores', 'hapless', \"here',\", 'previews', 'difficulty', 'belushi', 'designer', 'predict', 'reign', 'redeem', 'heist', 'demonstrates', 'hers', 'anywaybr', 'cassidy', 'freaks', 'crawford', 'bros', \"'spoilers\", 'murray', 'explores', 'terrified', 'ear', 'selection', 'respectively', 'steady', 'thread', 'locals', 'emerges', 'pointbr', 'elses', 'morally', 'interestingly', 'fog', 'aim', 'shades', 'outfits', 'baldwin', 'entitled', 'inconsistent', 'caricatures', 'tobr', 'studying', 'attract', 'conviction', 'misguided', 'damme', 'muppet', 'din', 'fishing', 'physics', 'vital', 'michaels', 'feminist', 'el', 'marries', 'filler', 'disappears', 'co', 'outing', \"more',\", 'slimy', 'banal', 'acclaimed', 'conclude', 'nicolas', 'shouting', 'snakes', 'sketch', 'dates', 'rome', 'buster', 'evidently', 'clock', 'eats', 'vibrant', 'rejected', 'betrayal', 'beatles', 'spinal', 'frankie', 'soup', 'reader', 'forcing', 'phenomenon', 'diehard', 'gems', 'palma', 'placebr', 'representation', 'communicate', 'clarke', 'worn', 'tasteless', 'orange', 'hippie', \"back',\", 'discussing', 'ho', 'vein', 'flashy', 'trivia', 'darn', 'commander', 'basinger', 'insists', 'sending', 'labor', 'psychology', 'ants', 'ratso', 'visions', 'stages', 'cancer', 'deleted', 'unexplained', 'prominent', 'someday', 'guitar', 'prejudice', 'slice', 'claustrophobic', 'shootout', 'housewife', 'transformed', 'mids', 'rhythm', 'champion', 'renaissance', 'sooner', \"'why\", 'harold', 'immature', 'assuming', 'claiming', 'tempted', 'mins', 'blatantly', 'flowers', 'dreck', 'danish', 'hughes', 'shakespeares', 'clan', 'delicate', 'martha', 'jacksons', 'befriends', 'considerably', 'despicable', 'millionaire', 'mentality', 'downbr', 'harmless', 'patricia', 'cream', 'unrelated', 'sirk', 'depends', 'pounds', 'circus', 'iv', 'melody', 'agenda', 'bike', 'vader', 'allens', 'springer', 'sox', 'casual', 'recognizable', 'bread', 'exploring', 'clueless', 'height', 'agency', 'glamorous', 'kungfu', 'inhabitants', 'billed', 'studies', 'tierney', 'kitty', 'hokey', 'awaybr', 'ethnic', 'tail', 'symbolic', 'detectives', 'smiles', 'addicted', 'quinn', 'recommendation', 'repeating', 'ton', 'dressing', 'dukes', 'mirrors', 'limit', 'inexplicable', 'challenged', 'altman', 'stumbles', 'coupled', 'rolebr', 'connections', 'route', 'voted', 'remove', 'meg', 'gregory', 'cannon', 'campaign', 'charlton', 'historic', 'adolescent', \"up',\", 'option', 'gina', 'grainy', 'sassy', 'penny', 'biased', 'towers', 'ingenious', 'crazed', 'paxton', 'rukh', 'defeated', 'legends', 'kolchak', 'lindsay', 'wwe', 'fuller', 'knight', 'lifeless', 'zombi', \"ever',\", 'departure', 'paintings', 'handles', 'rod', 'minority', 'gear', 'exceptions', 'childs', 'static', 'backs', 'novak', 'employed', 'continually', 'independence', 'priceless', 'wellmade', 'token', 'anticipation', 'uniformly', 'programs', 'hello', 'fifty', 'ambition', 'disgusted', 'vocal', 'computers', 'disguise', 'sht', 'firing', 'marvel', 'institution', 'familybr', 'incidentally', 'serving', 'rapist', 'audrey', 'assassination', 'satirical', 'keen', 'stairs', \"'no\", 'coup', 'pete', 'kathryn', 'swept', 'filth', 'nemesis', 'boyle', 'carla', 'foxx', \"costs',\", 'wings', 'screenwriters', 'fontaine', 'las', 'sorely', 'grudge', 'hangs', 'parsons', 'europa', 'shoulder', 'threatened', 'bacon', 'outright', 'girlfriends', 'shopping', 'camcorder', 'newer', 'colin', 'toronto', 'deserving', 'preferred', 'macho', 'dylan', 'disastrous', 'bowl', 'commenting', 'trials', 'destroys', 'guaranteed', 'neurotic', 'pacific', 'tip', 'p', 'earn', 'kidman', 'accurately', 'praised', 'firmly', 'natives', 'fluff', 'artsy', 'marlon', 'welldone', 'artwork', 'posey', 'nails', 'northern', 'bars', 'elite', 'boxer', 'duck', 'screwed', 'hearted', 'bondage', 'outdated', 'hack', 'farfetched', 'wax', 'messy', 'endingbr', 'boston', 'partially', 'couch', 'bates', 'ace', 'bogus', 'organized', 'sincerely', 'info', 'cheer', 'hilarity', 'leigh', 'mutual', 'fist', 'tunnel', 'speeches', 'item', 'offbeat', 'completed', 'demonic', 'unlikeable', 'bend', 'donebr', 'centre', 'bully', 'triangle', 'excess', 'sharing', 'thrilled', 'doo', \"'at\", 'hides', 'containing', 'traffic', 'feeding', 'thompson', 'steele', 'dirt', 'norm', 'debate', 'feat', 'readers', \"seen',\", 'soso', 'obtain', 'gate', 'drivein', 'shaking', 'arthouse', 'windows', 'cassavetes', 'vile', 'brooding', 'strings', 'kline', 'somethingbr', 'rooting', 'guinness', 'insightful', 'boringbr', 'curly', 'males', 'layers', 'boasts', 'tripe', 'disorder', \"'we\", 'describing', 'healthy', 'chavez', 'topics', 'concepts', 'liners', 'garner', 'harrison', 'controlled', 'evolution', 'audition', 'refuse', 'destined', 'charms', 'entered', 'esther', 'ripping', 'dj', 'cartoonish', 'duration', 'brendan', 'sleeps', 'shortcomings', 'inspire', 'refers', 'skit', 'stopping', 'helpless', 'seedy', 'predecessor', 'newman', 'hugely', 'deny', 'quaid', 'raj', 'guards', 'critique', 'chuckle', 'triple', 'vastly', 'frances', 'punches', 'undead', 'mannerisms', 'sugar', 'affects', 'woo', 'saint', 'subtly', 'surgery', 'bridges', \"classic',\", \"money',\", 'leaders', 'hires', 'rope', 'masterfully', 'wheres', 'injured', 'des', 'anyones', 'hungry', 'wig', 'suggestion', 'elevator', 'uma', 'damaged', 'rendered', 'relentless', 'christine', 'ta', 'bulk', 'mayhem', 'applaud', 'bent', 'authorities', 'sobr', 'wanders', 'politician', 'centered', 'mercy', 'pole', 'winchester', 'hartley', 'exploits', 'tower', 'fade', 'akin', 'unsuspecting', 'lasting', 'proving', 'rides', 'statue', 'racing', 'emerge', 'freddys', 'jess', 'fifth', 'knightley', 'weaker', 'alley', 'preachy', 'mixing', 'error', 'reruns', 'cbs', 'insults', 'tops', 'internal', 'crashes', 'contempt', 'knowbr', 'luis', 'stunningly', 'gillian', 'lifes', 'owes', 'detract', 'gal', 'gained', 'preparing', 'duvall', 'residents', 'stare', 'scariest', 'dudley', 'lukas', 'dazzling', 'backwards', 'storys', 'stack', 'carey', 'passengers', 'cliches', 'itselfbr', 'choosing', 'exquisite', 'schlock', 'anton', 'melissa', 'alvin', 'realities', 'demanding', 'lift', 'election', 'genie', 'startling', 'yeti', 'goodbye', 'profession', 'profanity', 'lasts', 'loretta', 'strengths', 'stallone', 'compete', 'restrained', 'expertly', 'located', 'suburban', 'net', 'factors', 'grounds', 'btw', 'heels', 'activity', 'everbr', 'casino', 'lovebr', 'origin', 'motive', 'misfortune', 'banter', 'bronson', 'publicity', 'breakfast', 'approaches', 'users', \"'and\", 'modest', 'fifties', 'insights', 'disappointedbr', 'galaxy', 'minister', 'mutant', 'myth', 'riot', 'confront', \"did',\", 'kent', 'spree', 'bitch', 'youthful', 'servants', 'disguised', 'inaccurate', 'breed', 'poker', 'conrad', 'behold', 'stalker', 'weather', 'excellently', 'promptly', \"'another\", 'fastpaced', 'buys', 'convinces', 'authenticity', 'sg', 'rapidly', 'screw', 'elsebr', 'vain', 'confronted', 'dubious', 'mesmerizing', 'shorter', 'miami', 'forbr', 'hulk', 'iq', 'anil', 'fools', 'helpful', 'engrossing', 'joker', 'radical', 'advertised', 'jaw', 'candidate', 'vanessa', 'cerebral', 'abruptly', 'wendigo', 'bow', 'didbr', 'entering', 'sometime', 'macabre', 'ingrid', 'nut', 'limitations', 'zizek', 'bachelor', 'tenant', 'dropping', 'neatly', 'nolte', 'contribution', 'referring', 'tokyo', 'puerto', 'ariel', 'wardrobe', 'sf', 'originals', 'depths', 'supply', 'approaching', 'biblical', 'lend', 'definitive', 'differently', 'landed', 'endlessly', 'derivative', 'toni', 'timberlake', 'sniper', 'crapbr', 'tossed', 'perception', 'jarring', 'sticking', 'unsure', 'justified', 'sinking', 'nope', 'interact', 'expects', 'gimmick', 'comedybr', 'origins', 'undeniably', 'downs', 'growth', 'dandy', 'sleaze', 'salvation', 'jared', 'jordan', 'formed', 'pale', 'homes', 'principals', 'owns', 'attenborough', 'votes', 'cracking', 'eventual', 'bmovies', 'bitten', 'rampage', 'fords', 'continuing', 'globe', 'phillip', 'wander', 'giants', 'carmen', 'lowkey', 'painter', 'braveheart', 'confident', 'insanity', 'underwater', 'highway', 'dud', 'colours', 'inherent', 'lauren', 'ol', 'chronicles', 'alexandre', 'vividly', 'convicted', 'repulsive', 'conan', 'nina', 'rookie', 'mitch', 'belt', 'tara', 'repressed', 'mol', 'greatbr', 'austen', 'thunderbirds', 'antonio', 'incapable', 'concentrate', \"much',\", 'handheld', 'flashes', 'natalie', 'nominations', 'mail', 'juliet', 'published', 'pc', 'bruno', 'runner', 'stranded', \"'from\", 'evelyn', 'altered', 'dobr', 'eleven', 'glued', 'reward', 'outline', 'immortal', 'dismal', 'boris', 'spies', 'exploit', 'tormented', 'jules', 'scriptbr', 'adore', 'flimsy', 'letdown', 'gates', 'gere', 'label', 'unattractive', 'polly', 'heavyhanded', 'homicide', 'depict', 'damned', 'vehicles', 'cries', 'meandering', \"fun',\", 'fatale', 'overblown', 'siblings', \"way',\", 'beforebr', 'ham', 'angst', 'playboy', 'judd', 'goodlooking', 'decidedly', 'jedi', 'monty', 'godawful', 'mathieu', 'assured', 'randolph', 'witchcraft', 'peck', 'marc', 'photographs', 'exterior', 'conveyed', 'janes', 'energetic', 'tarantino', 'sensible', \"dvd',\", 'frames', 'separated', 'pray', 'respectable', 'intricate', 'cultures', 'crossing', 'crippled', 'overbr', 'simpsons', 'crisp', 'unimaginative', 'cushing', 'appeals', 'reviewing', 'devastating', 'enthusiastic', 'owned', 'heavens', 'thoughbr', 'colleagues', 'hindi', 'oldfashioned', 'psychopath', 'salt', 'arguing', 'reports', 'contribute', 'principle', 'puppets', 'reminder', 'dread', 'cleaning', 'performancebr', 'accessible', 'caricature', 'zane', 'ensure', 'reliable', 'divine', 'demonstrate', 'terminator', 'survives', 'dragons', 'cons', 'grateful', 'bones', 'niece', 'africanamerican', 'quantum', 'moe', 'exit', 'ohara', 'soderbergh', 'improbable', 'subway', 'chopped', 'promoted', 'filthy', 'delicious', 'sale', 'addict', \"'dont\", 'lex', 'stalking', 'entirety', 'combines', 'ebert', 'hats', 'mice', 'irene', 'rivers', 'papers', 'mobile', 'ally', 'sophie', 'errol', 'harriet', 'arab', 'tapes', 'valentine', 'implied', 'sand', 'longest', 'farmer', 'pattern', 'accounts', 'beowulf', 'expose', 'disabled', 'lance', 'wisely', 'assembled', 'scoop', 'drinks', 'creek', 'volume', 'bug', 'mermaid', 'enhanced', 'kidnapping', 'fragile', 'walt', 'switched', 'ominous', 'sidewalk', 'pin', \"fans',\", 'characteristics', 'butch', 'wagner', 'senior', 'pleasing', 'possess', 'collect', 'mindbr', 'noticeable', \"'theres\", 'distract', 'nerves', 'uniform', 'whining', 'affleck', 'payoff', 'victorian', 'attacking', 'aided', 'nightclub', 'pickford', 'missile', 'netflix', 'parallels', 'sublime', 'miranda', 'fairbanks', 'penn', 'beware', 'reeve', 'homosexuality', 'immense', 'lester', 'inspirational', 'wtf', 'butcher', 'leather', 'ultimatum', 'identical', 'severed', 'lighter', 'popping', 'steam', 'amrita', 'embrace', 'salman', 'deer', 'answered', 'pursue', 'seeming', 'rainy', 'disgrace', 'packs', 'buzz', 'astounding', 'regards', 'cyborg', 'dustin', 'whiny', 'excruciatingly', 'cemetery', 'bsg', 'gunga', 'bloom', 'soylent', 'boyer', 'mitchum', 'tendency', 'yokai', 'estranged', 'pound', 'selected', 'wellacted', 'divorced', 'rounded', 'jaded', 'theories', 'chill', 'bills', 'wilder', 'werewolves', 'deliberate', 'alleged', 'cecil', 'voyage', 'manbr', 'postwar', 'resulted', 'remembering', 'glaring', 'begging', 'magician', 'lola', 'swallow', 'precode', 'aiming', 'holocaust', 'approached', 'budgets', 'rescued', 'juliette', 'ny', 'copied', 'conveniently', 'habit', 'sergeant', 'rebellious', 'collective', 'foolish', 'earnest', 'virtual', 'amazon', 'whites', 'imo', 'crashing', 'pirate', 'absorbing', 'hippies', 'demonstrated', 'isolation', 'decline', 'wire', 'denis', 'contestants', 'literal', 'casper', 'daysbr', 'havoc', 'clash', 'hackman', 'wounds', 'christina', 'knocks', 'truman', 'scarface', 'escaping', 'bach', 'christie', 'turmoil', 'stardom', 'cliffhanger', 'paula', 'sought', 'exorcist', 'avoiding', 'classy', 'dame', 'spaghetti', 'gable', 'ritchie', 'toby', 'fills', 'peculiar', 'jodie', 'messing', 'dashing', 'dilemma', 'expectation', 'garland', 'youtube', 'longtime', 'stewarts', 'morals', 'grass', 'logan', 'pickup', 'quentin', 'coat', 'admired', 'eternity', 'arriving', 'brainless', 'poses', 'contributed', 'clara', 'dump', 'jobbr', 'celebrated', 'verdict', 'subtext', 'odyssey', 'snuff', 'mum', 'karate', 'settled', 'vanilla', 'corporation', 'scotts', 'indiana', 'experiencing', 'enhance', \"show',\", 'bittersweet', 'deliverance', 'erika', 'liu', \"avoid',\", 'define', 'keatons', 'judgment', 'peaceful', 'disgust', 'forgiven', 'ghetto', 'sentimentality', 'spit', 'longing', 'jealousy', 'hayworth', 'spectacle', 'debt', 'cinemabr', 'asia', 'slapped', 'arc', 'cheaply', 'wartime', 'climb', 'liveaction', 'planets', 'samantha', 'goldblum', 'dramatically', 'romeo', 'delighted', 'accepting', 'seymour', 'lavish', 'vega', 'establish', 'jacket', 'rehash', 'swearing', 'laurie', 'acquired', 'suspected', 'crown', 'barrel', 'jill', 'gentlemen', 'tremendously', 'antonioni', 'diverse', 'liam', 'plotting', 'achieves', 'excuses', \"d',\", 'cher', 'cal', 'judged', 'cents', 'traits', 'pad', 'slaves', 'morons', 'slip', 'pirates', 'cypher', 'executives', 'resolved', 'rear', 'mystical', 'span', 'vince', 'commits', 'kellys', 'borders', 'tourist', 'ronald', 'worms', 'burke', 'tonys', 'rowlands', 'quarter', 'sydney', 'thelma', 'feast', 'ritual', 'predictably', 'horny', 'sarcastic', 'bounty', 'lunch', 'ranch', 'pumbaa', 'breakdown', 'cookie', 'preminger', 'exploding', 'frontier', 'commitment', 'dealer', 'posing', \"there',\", 'bestbr', 'bw', 'defies', 'comprehend', 'worsebr', 'seductive', 'goods', 'taped', 'delightfully', 'leap', 'populated', 'ultra', 'strict', 'wiped', 'furniture', 'addiction', 'wonderland', 'pocket', 'planes', 'readily', 'reviewed', 'fluid', 'pause', \"'before\", 'covering', 'bombs', 'trains', 'skilled', 'attending', 'immigrant', 'unsatisfying', 'circles', 'sucker', 'flavor', 'remembers', 'cliched', 'hepburn', 'courtroom', 'amidst', 'vintage', 'races', 'psychologist', 'spice', 'nbc', 'tax', 'intentional', 'relentlessly', 'potter', 'basket', 'axe', \"today',\", 'seasoned', 'explosive', 'shepherd', 'scratch', 'jersey', 'cohen', 'novelty', 'deliciously', 'seebr', 'underwear', 'inmates', 'expense', 'tolerable', 'taboo', 'likeable', 'loy', 'serials', 'thieves', 'spencer', 'lightning', 'slugs', 'anyhow', 'legitimate', 'backbr', 'freaky', 'gamera', 'mouths', 'lends', 'unsympathetic', 'stroke', 'mysteriously', 'festivals', 'wider', 'encountered', 'pans', 'meantime', 'cape', 'steer', \"'despite\", 'suggesting', 'sells', 'aussie', 'optimistic', 'branaghs', 'actorsbr', 'newcomer', 'jury', 'graveyard', 'cigarette', 'watchingbr', 'cuban', 'experiencebr', 'parking', 'attended', 'consist', 'canceled', 'clive', 'insist', 'wine', 'ricky', 'poe', 'shockingly', 'incorrect', 'clerk', 'politicians', 'pedestrian', 'deciding', 'introducing', 'medieval', 'gielgud', 'produces', 'tool', 'slide', 'mason', 'pushes', 'uh', 'europeans', 'arrest', 'jacques', 'beg', 'updated', 'establishing', 'wastes', 'gilbert', 'possession', 'adrian', 'dads', 'dominated', 'awakening', 'stylized', 'anxious', 'phenomenal', 'mortal', 'informed', 'cheek', 'phase', 'nuances', 'lucille', 'lean', 'caron', 'drab', 'korea', 'additionally', 'romances', 'tongueincheek', 'melvyn', 'consideration', 'firstrate', 'corbett', 'stephanie', 'kinnear', 'arranged', 'vanity', 'possesses', 'symbol', 'robbers', 'pilots', 'daylewis', 'charlies', 'july', 'q', 'foundation', 'redneck', 'einstein', 'guinea', 'gypo', 'olivia', 'unusually', 'stella', 'roughly', 'incidents', 'abandon', 'scored', 'trace', 'flickbr', 'franklin', 'misunderstood', 'anthology', 'kazan', 'indicate', 'anticipated', 'exploited', \"best',\", 'gwyneth', 'obsessive', 'keys', 'sgt', 'longoria', 'bachchan', 'aftermath', 'pursued', 'groundbreaking', 'overboard', \"cinema',\", 'mute', 'rejects', 'ordeal', 'moron', \"watching',\", 'instincts', 'controlling', 'yawn', 'viewpoint', 'salesman', 'xfiles', 'flock', 'queens', 'rational', 'unanswered', 'huston', 'screwball', \"made',\", 'begs', 'compliment', 'redundant', 'neglected', 'narrow', 'degrees', 'respects', 'jewel', 'hop', 'distracted', 'polish', 'arty', 'cindy', 'laterbr', 'penelope', 'distress', 'freaking', 'clone', \"though',\", 'thirties', 'tactics', 'stabbed', 'mens', 'kathy', 'routines', 'forgetting', 'busey', 'explodes', 'feeble', 'dumbest', 'lethal', 'horrified', 'herbert', 'session', 'embarrassingly', 'document', 'daisy', 'sparks', \"years',\", 'deathbr', 'blandings', 'kurosawa', 'denise', 'invite', 'rider', 'excruciating', 'sixth', 'tickets', 'stating', 'hybrid', 'kubricks', 'haines', 'crosby', 'passage', 'pfeiffer', 'adaption', 'dumped', 'indifferent', 'reverse', 'mcqueen', 'revolt', 'milo', 'followup', 'cannes', 'sarandon', 'monologue', 'eagerly', 'motions', 'rambling', 'translate', 'frantic', 'en', 'ofbr', 'verbal', 'carnage', 'niven', 'enigmatic', 'freeze', \"'like\", 'grandma', 'debbie', 'rewarding', 'puzzle', 'duel', 'informative', 'porter', 'belly', 'flower', 'hannah', 'serum', 'uncanny', 'marilyn', 'noteworthy', 'gloria', \"'very\", 'apply', 'sensebr', 'breathing', 'mormon', 'hateful', 'invention', 'arguments', 'email', 'grabbed', 'rosemarys', 'upcoming', 'feminine', 'debra', 'depictions', 'warns', 'ches', 'varied', 'sickening', 'aggressive', 'ira', 'arquette', 'diary', 'psyche', 'combs', 'pointing', 'stations', 'tvs', 'goals', 'participants', 'thurman', 'targets', 'cooking', 'cunningham', 'mama', 'minnelli', 'historybr', 'sundance', 'angie', 'yep', 'armstrong', 'gangs', 'obstacles', 'veterans', 'jenna', 'regularly', 'iranian', 'mythology', 'scorsese', 'corey', 'counter', 'rightbr', 'yours', 'darth', 'predator', 'fright', 'relevance', 'fiance', 'moss', 'pixar', 'generate', 'corn', 'casablanca', 'murky', \"now',\", 'glance', 'gooding', 'daylight', 'services', 'evans', 'goldie', 'realistically', 'juan', 'starters', 'seats', 'intro', 'parks', 'lurking', 'overbearing', 'headache', 'masterson', 'tcm', 'employee', 'kidnap', 'relating', 'instances', 'manners', 'flames', 'august', 'click', 'void', 'lions', 'dumber', 'corman', 'paints', 'sources', 'forties', 'lip', 'midst', 'tuned', 'fishburne', 'fanatic', 'jose', 'nerve', 'tomei', 'deputy', \"'now\", 'lionel', 'carpenters', 'shifts', 'jolie', 'widowed', 'meal', 'shift', \"'all\", 'admitted', 'replies', 'policy', 'martian', 'exclusively', 'biopic', 'stance', 'whore', 'spiderman', 'interestingbr', 'statements', 'spine', 'update', 'bubble', 'glimpses', 'sanders', 'anytime', 'naschy', 'grip', 'phones', 'swinging', 'dismiss', 'blamed', 'releasing', 'intensely', 'products', 'criticize', 'somethings', 'economic', 'discussed', 'controversy', 'rounds', 'resembling', 'upside', 'columbia', 'launch', 'harlow', 'herman', 'suspicion', 'lowe', 'followers', 'ambitions', 'heath', 'claude', 'wong', 'plodding', 'centuries', 'un', 'traps', \"do',\", 'sang', 'gallery', 'starsbr', 'dillinger', 'skinny', 'substantial', 'ruining', 'sunrise', 'paths', 'capacity', 'idol', 'pathos', 'fleshed', 'reunite', 'platform', 'convention', 'comeback', 'alot', 'otto', 'periods', 'pros', 'offscreen', 'consequently', 'deed', 'maintains', 'apt', 'selfindulgent', 'moneybr', 'maureen', 'afterward', 'enoughbr', 'ample', 'begun', 'deanna', 'sentences', 'rosario', 'avid', 'chamber', 'scenarios', 'ownbr', \"work',\", 'saloon', 'popped', 'cycle', 'hinted', 'imaginary', 'stream', 'gloomy', 'bosses', 'consequence', 'inclusion', 'funding', 'county', 'realization', 'stalked', 'uniforms', \"day',\", 'battlestar', 'lo', 'ignores', 'angelina', 'qualify', 'barbra', 'haunt', 'reiser', 'smash', 'extensive', 'stuffbr', 'gigantic', 'agony', 'safely', 'murderers', 'kathleen', 'necessity', 'snipes', 'inaccuracies', 'ambiguity', 'factual', 'educated', 'abortion', 'shepard', 'pains', 'meteor', 'moms', 'biker', 'motorcycle', 'cheadle', 'foremost', 'hyped', 'lastly', 'frog', 'dreamy', 'mates', 'narrated', 'warden', 'stiles', 'ignoring', 'zorro', 'applied', 'dominic', \"'ill\", 'dynamics', 'whybr', 'linked', 'reflected', 'backed', 'troma', 'bogart', 'miyazaki', 'hadley', 'berkeley', 'brides', 'edith', 'sweden', 'chamberlain', 'enchanted', 'awfulbr', 'genrebr', 'marisa', 'z', 'october', 'bleed', 'witnessing', 'tones', 'arkin', 'castbr', 'frozen', 'sights', 'gap', 'nuanced', 'valid', 'invested', 'sketches', 'observe', 'scripting', 'stereotyped', 'alliance', 'israeli', 'applies', 'protest', 'assure', 'sheets', 'distraction', 'shore', 'clay', 'frontal', 'omar', 'rupert', 'reunited', 'unfolding', 'coffin', 'medicine', 'investigator', 'momentum', 'sly', 'curiously', 'homicidal', 'surroundings', 'babes', 'sondra', 'revolving', 'sins', 'schedule', 'collins', 'rips', 'mick', 'gestures', 'blaise', 'gaps', 'bonnie', 'eli', 'precise', 'unstable', 'foil', 'benefits', 'repeats', 'assignment', 'bikini', 'robertson', 'muslims', 'diner', 'sailor', 'biting', 'cab', 'daytime', 'therapy', 'beckinsale', 'replacement', 'breast', 'scarecrows', 'characterizations', 'turd', 'array', 'trier', 'clunky', 'acknowledge', 'fried', 'arrow', 'wayans', 'kris', 'bats', 'islands', 'campus', 'momentsbr', 'knights', 'resistance', 'graduate', 'brooke', 'schneider', 'stardust', 'characterisation', 'pose', 'laputa', 'moviemaking', 'sterling', 'mabel', 'jacks', 'du', 'sebastian', 'entrance', 'displaying', 'sonny', 'chiba', 'hysterically', 'retelling', 'smell', 'commanding', 'artistry', 'sour', 'ernie', 'snowman', 'shotgun', 'famed', 'sherlock', 'collette', 'russ', 'rodriguez', 'tomb', 'spider', 'seduce', 'talky', 'mustve', 'marked', \"else',\", 'pm', 'studied', 'gus', 'moviegoers', 'gathering', 'tire', 'pivotal', 'cow', 'rebels', 'balanced', 'bauer', 'pegg', 'landmark', 'hines', 'needing', 'lynchs', 'supreme', 'raging', 'villainous', 'stadium', 'childlike', 'vivian', 'interrupted', 'inadvertently', 'skeptical', 'admits', 'clooney', 'sheen', 'bias', 'weekly', 'johns', 'geisha', 'prophecy', 'slim', 'georgia', 'cap', \"seeing',\", 'reserved', 'hooker', 'coke', 'revival', 'iturbi', 'waking', 're', 'fundamental', 'entertainingbr', 'intact', 'moviei', 'throughbr', 'paranoid', 'lopez', 'parrot', 'realises', 'thereby', 'wheel', 'fuzzy', 'mandy', 'johansson', 'crushed', 'deemed', 'blockbusters', 'shocks', 'stern', 'rightly', 'hayes', 'laboratory', 'kells', 'questioning', 'silverman', 'shaggy', 'denouement', 'substitute', 'criticized', 'fruit', 'ala', 'janet', 'roses', 'sensibility', 'anita', 'progressed', 'evokes', 'accompanying', 'courtesy', 'arebr', 'chew', 'enduring', 'northam', 'vargas', 'pornography', 'maximum', 'chaotic', 'beckham', 'hardened', 'ajay', 'announced', 'cheerful', 'hoot', 'handicapped', 'fleet', 'diversity', 'frombr', 'stake', 'addressed', 'se', 'finishing', 'unnatural', 'puppy', 'similarity', 'observations', 'arrogance', 'disco', 'bc', 'confined', 'reluctantly', 'understandably', 'scheming', 'shred', 'hitchcocks', 'charges', 'olsen', 'sitcoms', 'fart', 'harrowing', 'unclear', 'convent', 'district', 'interviewed', 'psychedelic', 'despise', 'usbr', 'enchanting', 'brett', 'subsequently', 'boogie', 'stumble', 'bait', 'abound', 'rolls', 'fassbinder', 'resume', 'customers', 'gackt', 'bravo', 'awareness', 'insert', 'subgenre', 'finishes', 'smug', 'reminding', 'divided', 'forgets', 'jude', 'wash', 'complications', 'soprano', 'shameless', 'coworker', 'trivial', 'vignettes', 'rice', 'determination', 'offend', \"s',\", 'bakshis', 'caretaker', 'drowned', 'worldwide', 'penned', 'sammo', 'fuel', 'boots', 'doug', 'egyptian', 'interior', 'detroit', 'accidental', 'madeleine', 'upstairs', 'myrna', 'envy', 'fortunate', 'washed', 'colored', 'unfamiliar', 'fairytale', 'relying', 'caprica', 'syndrome', 'phantasm', 'controls', 'demille', 'quintessential', 'sweat', 'hostel', 'lil', 'baddies', 'lens', 'burial', 'hawn', 'dynamite', 'kindly', 'spotlight', 'whimsical', 'composition', 'whod', 'hostage', 'targeted', 'earliest', 'epics', 'injury', 'blackandwhite', 'joking', 'laying', 'guardian', \"away',\", 'titular', 'trauma', 'celebrities', 'programme', 'himselfbr', 'hiphop', 'musicbr', 'aroundbr', 'affecting', 'verge', 'visitor', 'bonds', 'monotonous', 'sufficient', 'orchestra', 'thrust', 'gut', 'relaxed', 'randall', 'networks', 'interpretations', 'cain', 'wright', 'brat', 'bust', 'commendable', 'license', 'hunted', 'semblance', 'sarcasm', 'engine', 'meadows', 'monks', 'magically', 'antagonist', 'hostile', 'camping', 'gorilla', 'playwright', 'spoiling', 'cutter', 'truths', 'perverted', 'baron', 'yell', 'temper', 'annoy', 'surround', 'participate', 'boundaries', 'hallmark', 'devotion', 'republic', 'summed', 'captivated', 'sincerity', 'lunatic', 'sunset', 'flows', 'nauseating', 'considers', 'martians', 'adele', 'thailand', 'testing', 'convenient', 'transparent', 'python', 'deeds', 'judges', 'phoenix', 'cameraman', 'tho', 'carlos', 'brent', 'characteristic', 'rewarded', 'travis', 'sylvia', 'professionals', 'explode', 'bye', 'unnecessarily', 'scarlett', 'comparable', 'madsen', 'inserted', 'seth', 'occult', 'howling', 'timmy', 'krueger', 'galactica', 'backstory', 'dragging', 'almighty', 'robbed', 'olds', 'underdeveloped', 'flashing', 'outlandish', 'committing', 'nightmarish', 'othersbr', 'preaching', \"funny',\", 'sporting', 'excels', 'borrow', 'rampant', 'pigs', 'recover', 'searched', 'shannon', 'whove', 'achievements', 'taut', 'bearing', 'kinski', 'complained', 'wholesome', 'compensate', 'portuguese', 'delirious', 'nun', 'kirsten', 'owl', 'article', 'bonanza', 'chuckles', 'bs', 'inclined', 'remark', 'exploitative', 'manipulation', 'happenbr', 'scoobydoo', 'thunder', 'melancholy', 'intend', 'elsa', 'dangerously', 'crosses', 'stepmother', 'variation', 'novelist', 'adapt', 'aesthetic', 'drift', 'dvdbr', 'eyesbr', 'unappealing', 'toned', 'um', 'understatement', 'jagger', 'misty', 'wrestler', 'traditions', 'satisfaction', 'macdonald', 'communication', 'battlefield', 'drowning', 'openly', 'avoids', 'stuffed', 'cancelled', 'rivals', 'cocaine', 'walmart', 'fetish', 'spoilerbr', 'listened', 'gypsy', 'awaiting', 'herd', 'mccarthy', 'unconventional', 'tide', 'faded', 'infinitely', 'insomnia', 'colleague', 'finney', 'orphan', 'raunchy', 'creasy', 'suzanne', 'entries', 'tashan', 'cena', 'rea', 'constraints', 'banks', 'motel', 'incestuous', 'destination', 'miikes', 'fascist', 'unhinged', 'crooks', 'partbr', 'smiths', 'resolve', 'sho', 'dafoe', 'transport', 'ghastly', 'salvage', 'permanent', 'jj', 'implies', 'palm', 'impending', 'deepest', 'avenge', 'henchmen', 'recreate', 'practical', 'fritz', 'distinction', 'blazing', 'sholay', 'conductor', 'fairness', 'observation', 'turkish', \"'let\", 'rolesbr', 'distributed', 'assumes', 'elephants', 'stabbing', 'enormously', 'cheering', 'ghostly', 'proceed', 'sanity', 'clarity', 'frat', 'oblivious', 'protection', 'juice', 'bashing', 'facility', 'lennon', 'apocalypse', 'warrant', 'serbian', 'coma', 'coolest', 'vapid', 'everett', 'sane', 'desk', 'circa', 'drivers', 'lookalike', 'joining', 'burnt', 'carlitos', 'remainder', 'confuse', 'shoe', 'ealing', 'fires', 'fashions', \"crap',\", 'aunts', 'sinks', 'toxic', 'locke', 'plate', 'crossed', 'watcher', 'jan', 'seattle', 'mock', 'dallas', 'overtones', 'hometown', 'evoke', 'mentor', 'classmates', 'possiblebr', 'rendering', 'ruled', 'gretchen', 'contestant', 'irritated', 'sections', 'wherever', 'pretends', 'presidential', 'glossy', 'robotic', 'elliott', 'moores', 'shahid', 'progression', 'counting', 'mister', 'traumatic', 'admiration', 'dwight', \"'even\", 'originalbr', 'govinda', 'clouds', 'absorbed', 'grin', 'homebr', 'climbing', 'shah', 'gilliam', 'wesley', 'sunk', 'sales', 'jar', 'clad', 'spontaneous', 'garfield', 'reasonbr', 'tools', 'runaway', 'peggy', 'wheelchair', 'automatic', 'beard', 'aaron', 'favourites', 'outrageously', 'isabelle', 'flag', 'abundance', 'slower', 'epitome', 'je', 'senator', 'battling', 'chong', 'marcel', 'hooper', 'satanic', 'ideabr', 'buttons', 'plug', 'upbeat', 'benjamin', 'busby', 'admission', 'brashear', 'defending', 'samuel', 'employees', 'qualifies', 'slashers', 'rivalry', 'ambiance', \"'watching\", 'gena', 'betrayed', 'distinctive', 'creations', 'antihero', 'masked', 'electronic', 'meyer', 'nutshell', 'warehouse', 'organization', 'apple', 'bimbo', \"off',\", 'fades', 'dc', 'screened', 'caper', 'prop', 'ram', \"'saw\", 'auto', 'ninety', 'restraint', 'dominate', 'vcr', 'incest', 'celebrate', 'riff', 'courageous', 'demeanor', 'notices', 'picturebr', 'pizza', 'sheep', 'spiral', 'labeled', 'unleashed', 'rourke', 'sickness', 'greene', 'eagle', 'philo', \"entertainment',\", 'respond', 'transforms', 'uneasy', 'prologue', 'encouraged', 'paz', 'espionage', 'deathtrap', 'solved', 'shaped', 'garage', 'saints', 'sexist', 'awarded', 'chip', 'effortlessly', 'beers', 'selfcentered', 'conveying', 'gig', 'thingsbr', 'colony', 'tits', 'giovanna', 'marines', 'cursed', 'clyde', 'deadpan', 'realbr', 'linear', 'cedric', 'experts', 'magazines', 'stab', 'overshadowed', 'chloe', 'secure', 'reported', 'bout', 'razor', 'convict', 'file', 'sophia', 'fraud', 'carpet', 'voodoo', 'versionbr', 'marijuana', 'bookbr', 'sharks', 'quaint', 'jo', 'priests', 'duh', 'miraculously', 'winners', 'dreaming', 'raid', 'ernest', 'meredith', 'advised', 'bernsen', 'projected', 'plotline', 'suave', 'roller', 'macmurray', 'ferrell', 'pauline', 'informer', 'feinstone', 'occupied', 'slater', 'coburn', 'bert', 'myrtle', 'digging', 'chops', 'submarine', 'capote', 'middleclass', 'russo', 'idealistic', 'admirer', 'ongoing', 'spoofs', 'criticisms', 'jigsaw', 'malden', 'sober', 'mills', 'prostitution', 'shameful', 'detached', 'candle', 'superstar', 'dahmer', 'choir', 'tightly', 'rebellion', 'worrying', 'boobs', 'discipline', 'playful', 'prostitutes', 'noting', 'prank', 'badness', 'fiend', 'combining', \"him',\", 'vigilante', 'pompous', 'sandy', 'alonebr', 'associate', 'lampoon', 'screenplays', 'drawings', 'bloodbath', 'edges', 'monroe', 'er', 'lifelong', 'symbols', \"not',\", 'highschool', 'signature', 'cmon', 'informs', 'liberty', 'barnes', 'tess', 'incidental', 'tended', 'budding', 'meek', 'gandolfini', 'ads', \"ending',\", 'annoyance', 'strung', 'blames', 'manipulated', 'goat', 'lara', 'artemisia', 'failures', 'crashed', 'voyager', 'theodore', 'theatres', 'barney', 'predecessors', 'scriptwriter', 'confines', 'influential', 'socially', 'brazilian', 'yells', 'davids', 'framing', 'reject', 'slept', 'tolerance', 'hum', 'responds', 'woefully', 'inform', 'mira', 'ideals', 'sensitivity', 'snap', 'blondell', 'sustain', 'lindy', 'joint', 'motivated', 'officially', 'influences', 'patty', 'disregard', 'revolver', 'slavery', 'principles', 'switching', 'bodyguard', 'tackle', 'zelah', 'interiors', 'pierre', 'managing', 'jackman', 'burgess', 'zodiac', 'outset', 'pursuing', 'cohesive', 'mole', 'takashi', 'brandon', 'assistance', 'harron', 'farmers', 'croc', 'gershwin', 'bennett', 'colman', 'pornographic', 'starship', 'boards', 'mustache', 'diving', 'concentration', 'midget', 'uncertain', 'conscious', 'dern', 'stabs', 'grating', 'pressed', 'vincenzo', 'directtovideo', 'parodies', 'bites', 'cheech', 'surrender', 'buffy', 'cannibals', 'norris', 'echoes', 'throwaway', 'rewrite', 'disappearance', 'shoved', 'fixed', 'dictator', 'dreyfuss', 'cells', 'acclaim', 'sailors', 'nearest', 'marine', 'spade', 'frost', 'geek', 'lingering', 'damsel', 'gi', 'cody', \"world',\", 'warners', 'cracks', 'cringing', 'geoffrey', 'sacrifices', 'scratching', 'berenger', 'vet', 'ostensibly', 'programming', 'protective', 'closure', 'identified', 'polar', 'believability', 'madison', 'dunst', 'advances', 'depend', 'manic', 'monica', 'fabric', 'pairing', 'diego', 'egg', 'facebr', 'sites', 'lays', 'weirdness', 'marrying', 'riders', 'peers', 'spaceship', 'excellence', 'happenings', 'division', 'mae', 'varying', 'superfluous', 'ali', 'policemen', 'perverse', 'bart', 'gadgets', 'coworkers', 'gruff', 'unravel', 'anguish', 'mythical', 'mines', 'grandpa', 'offense', 'jurassic', 'reagan', 'alexandra', 'flavia', 'waynes', 'cravens', 'breathe', 'determine', 'englund', 'irving', 'transported', 'seriousness', 'fodder', 'edison', 'shootouts', 'grease', 'goodman', 'tramp', 'crowded', 'pen', 'chans', 'holt', 'turtle', 'mixes', 'inconsistencies', 'morse', 'bean', 'captive', 'replacing', 'loren', 'stupidbr', 'perspectives', 'ang', 'seuss', 'maintaining', 'clinic', 'obscurity', 'palmas', 'doyle', 'interplay', 'distorted', 'boyfriends', 'britney', \"'being\", 'amid', 'collapse', 'sara', 'warhols', 'inexperienced', 'tech', 'marcus', 'cunning', 'dim', 'awry', 'emphasize', 'derived', 'hallucinations', 'imitate', 'conclusions', 'vomit', 'griffiths', 'shield', \"be',\", 'slam', 'beetle', 'cowardly', 'drummer', 'elected', 'officials', 'paycheck', 'functions', 'bon', 'bastard', 'staging', 'gasp', 'portions', 'kareena', 'identities', 'switches', 'flowing', 'ugh', 'lifts', 'natali', 'censorship', 'gathered', 'torment', 'temptation', 'mobster', 'henchman', 'hairy', 'profoundly', 'rousing', 'downfall', 'plagued', 'significantly', 'inhabit', 'faint', 'condemned', 'borrows', 'bartender', 'locale', 'sammy', 'steaming', 'alarm', 'val', 'marvin', 'counterparts', 'representing', 'dish', 'blessed', 'slut', \"on',\", 'mack', 'sergio', 'allan', \"great',\", 'grossly', 'economy', 'paired', 'monologues', 'padding', 'representative', 'consciousness', 'outlaw', 'torturing', 'locate', 'lords', 'spelled', 'hardboiled', 'hans', 'federal', 'beforehand', 'examine', 'overwrought', 'genetic', 'categories', 'continuously', 'liberties', 'dedication', 'stares', 'faye', 'heroines', 'uptight', 'funky', 'showcases', 'jewelry', 'animations', 'groove', 'coward', 'forgiveness', 'decency', 'tolerate', 'existing', 'egypt', 'justification', 'fiery', 'confronts', 'gibson', 'forrest', 'flew', 'nest', 'actionbr', 'downbeat', 'seduction', 'sorrow', 'subtitled', 'russians', 'sensual', 'lurid', 'adultery', 'widower', 'oprah', 'denying', 'manga', 'filmography', 'pals', 'connie', 'deck', 'engineer', 'dash', 'kidnaps', 'earns', 'czech', 'muni', 'linebr', 'opposition', 'luxury', 'graces', 'longbr', 'structured', 'weary', 'butchered', 'brush', 'reckless', 'animators', 'benny', 'lightweight', 'dom', 'merry', 'kristofferson', 'shelter', 'depardieu', 'sensibilities', 'han', 'asset', 'investment', 'spelling', 'placement', 'yearbr', 'stoned', 'altmans', 'theirs', 'orlando', 'travolta', 'foreboding', 'cloak', 'mcadams', 'booth', 'stink', 'obrien', 'contributes', 'mercifully', 'ninjas', 'abomination', 'cages', 'cheesiness', 'radiation', 'pia', 'systems', 'cousins', 'katie', 'hartleys', 'gino', 'troopers', 'hanzo', 'underused', 'accomplishment', 'boost', 'fence', 'allies', 'optimism', 'halfhour', 'alter', 'extraordinarily', 'modernday', 'preferably', 'intellectually', 'boogeyman', 'hobgoblins', 'impressions', 'dealers', 'hugo', 'glow', 'knocking', 'brit', 'undercover', 'bless', 'sensation', 'standpoint', 'messbr', 'maurice', 'massey', 'abstract', 'threads', 'latino', 'shrill', 'villa', 'prefers', 'billing', 'redford', 'intelligently', 'cheers', 'thug', 'imprisoned', 'straighttovideo', 'register', 'crooked', 'dreamlike', 'fellini', 'sweeping', 'confirmed', 'lds', 'ledger', 'strained', 'tsui', 'duchovny', 'consumed', 'wielding', 'fierce', 'abroad', 'rapes', 'tricked', 'warbr', 'apollo', 'sykes', 'distinctly', 'anti', 'defy', 'heather', 'correctness', 'owe', 'entertains', 'snowy', 'thereafter', 'transplant', 'ceiling', 'cockney', 'fewer', 'developments', 'sixteen', 'tasty', 'establishment', 'sensational', 'rockets', 'gently', 'ceremony', 'client', 'cowritten', 'aura', 'shiny', 'expresses', 'surgeon', 'transitions', 'scattered', 'trigger', 'pepper', 'chemical', 'capitalism', 'byron', 'loner', 'shaun', 'sucking', 'knees', 'cloth', 'likebr', 'clarence', 'applause', 'conniving', 'spells', 'fuss', 'romania', 'clutter', 'supportive', 'hypnotic', 'collaboration', 'golf', 'abu', 'visconti', 'il', 'monday', 'youngsters', 'eyed', 'surf', 'madman', 'goldsworthy', 'illusion', 'clockwork', 'oscarwinning', 'sophistication', 'reasoning', 'nuns', 'supermarket', 'freaked', 'echo', 'keanu', 'cradle', 'liotta', 'fanning', 'communism', 'sasquatch', 'ewoks', 'spotted', 'vaughn', 'uninspiring', 'rogue', 'icons', 'lawn', 'dodgy', 'belle', 'illustrate', 'taime', 'engagement', 'premiered', 'fallon', 'drum', 'loony', 'laser', 'bothers', 'darkly', 'puzzled', 'crypt', 'erabr', 'presume', 'shrek', 'coop', 'ogre', 'lindsey', 'fighters', 'friendsbr', 'lt', 'analyze', 'data', 'barton', \"yourself',\", 'willingly', 'heap', 'maturity', 'hunky', 'bliss', 'sleepy', 'thereof', 'romeros', 'grisly', 'trendy', 'cynicism', 'astronauts', 'lorre', 'elder', 'recovering', 'retrieve', \"either',\", 'manipulate', 'promoting', 'satisfactory', 'comprised', 'amoral', 'harilal', 'christensen', 'emmy', 'aircraft', 'stirring', 'proudly', 'grandparents', 'protecting', 'leaps', 'bloke', 'breakthrough', 'todaybr', 'simpler', 'deborah', 'relates', 'romanian', \"'anyone\", 'mutants', 'limp', 'retirement', 'yourselfbr', 'mishmash', 'potent', 'simons', 'inch', 'fulfill', 'shocker', 'brick', 'strain', 'lansbury', 'operating', 'lists', 'nerdy', 'subdued', 'attic', 'languages', 'roads', 'fagin', 'zany', 'yarn', 'lure', 'ballroom', 'oneill', 'defining', 'countrys', 'disappoints', 'prolific', 'imply', 'unwilling', 'fastforward', 'backdrops', 'attendant', 'rhyme', 'godard', 'geniuses', 'luthor', 'blackmail', 'photograph', 'freed', 'scarlet', 'chevy', 'ebay', 'brennan', 'regime', 'moderately', 'operate', 'ravishing', 'injustice', 'atrocity', 'nora', 'myra', 'slaughtered', 'denver', 'sinatras', 'robbing', 'slips', \"'on\", 'dunne', 'cowrote', 'notwithstanding', 'legion', 'periodbr', 'forbes', 'natasha', 'conflicted', 'forsythe', 'shawn', 'rapid', 'prone', 'increase', 'perceived', 'melbourne', 'vertigo', 'pleasures', 'appalled', \"people',\", 'tina', 'bitchy', 'censors', 'traveled', 'lawyers', 'collector', 'anxiety', 'trusted', 'drastically', 'overtly', \"warned',\", 'grendel', \"anyone',\", 'wrongly', 'drain', 'edmund', 'succession', 'fur', 'zu', 'mediocrity', 'cinematographic', 'muriel', 'virtue', 'anythingbr', 'flamboyant', 'baddie', 'governments', 'glenda', 'astonishingly', 'peterson', 'deservedly', 'taker', 'predictability', 'nifty', 'airing', 'slowmotion', 'shady', 'mud', 'reportedly', 'fleeing', 'plummer', 'artistically', 'springs', 'encourages', 'preacher', 'mockery', 'gobr', 'aboard', 'atlantic', 'gardens', 'supports', 'alcoholism', 'visceral', 'arnie', 'knives', 'chandler', 'bing', 'ossessione', 'daria', 'lars', 'shout', 'ensue', 'sibling', 'annoyingly', 'grady', 'behaves', 'virginity', 'compassionate', 'richly', 'aniston', 'liar', 'nutty', 'fleeting', 'unnerving', 'believablebr', 'crass', 'prolonged', 'ridden', 'lubitsch', 'passions', 'bloodshed', 'interspersed', 'needlessly', 'civilians', 'meyers', 'inhabited', 'gosh', 'exgirlfriend', 'lesbians', 'treating', 'continuous', 'largest', 'borderline', 'patriotic', 'jolly', 'heavenly', 'irresistible', 'increasing', 'quirks', 'anchors', 'percent', 'kilmer', 'cheat', 'doris', 'inducing', \"'of\", 'fetched', 'wee', 'gusto', 'notions', 'fulfilling', 'iti', 'ma', 'launched', 'gravity', 'unconscious', 'irresponsible', 'proportions', 'joshua', 'enthralling', 'temporary', 'herrings', 'upbringing', 'overwhelmed', 'dive', 'henderson', 'elisha', 'farnsworth', \"'lets\", 'overused', 'mastermind', 'stereotyping', \"audience',\", 'fitzgerald', 'associates', 'wwi', 'predicted', 'cassie', 'imitating', 'dukakis', 'attributes', 'electricity', 'concentrated', 'pour', 'vibe', 'gladiator', 'dangers', 'feared', 'diaz', 'bombed', 'eastwoods', 'martino', 'icy', 'coppola', 'sm', 'behaving', 'athletic', 'padded', 'girlbr', 'semi', 'autobiography', 'tables', 'penguin', 'hector', 'confession', 'armor', 'expressing', 'helena', 'redgrave', 'verhoevens', 'recurring', 'tango', 'helmet', 'levy', 'innuendo', 'urgency', 'castro', 'expand', 'bleeding', 'illustrated', 'steamy', 'aztec', 'gays', 'brunette', 'superiors', 'assortment', \"comedy',\", 'clubs', 'archer', 'placing', 'peaks', 'distinguished', 'bullies', 'haha', 'missions', 'cheung', 'shamelessly', 'heartless', 'auteur', 'management', 'sheridan', 'destructive', 'bigfoot', 'immigrants', 'muscular', 'mcdowell', 'burden', 'pistol', 'zhang', 'shatner', 'hurry', 'violently', 'brilliantbr', 'sleeper', 'alba', 'honey', 'observed', 'harbor', 'benoit', 'booker', 'seventh', 'payne', 'della', 'tacked', 'neverending', 'counted', 'alienation', 'jerky', 'denial', 'heir', 'episodebr', 'wolves', 'climbs', 'rudd', 'terrorism', 'climate', 'sore', 'reno', 'tasks', 'miyazakis', 'unlucky', 'dwarf', 'dillon', 'marx', 'counterpart', 'academic', 'kenny', 'dodge', 'swords', 'sematary', 'ranger', 'kornbluth', 'poke', 'coal', 'ratio', 'azumi', 'consisted', 'vulnerability', 'princes', 'vienna', 'gimmicks', 'stalks', 'beth', 'casually', 'enhances', 'chop', 'inherited', 'existential', 'intellect', 'scarier', 'concludes', 'darling', 'featurelength', 'cocktail', 'stupidest', 'coverage', 'opponents', 'melt', 'conquest', 'lowbrow', 'spitting', 'mcdermott', 'saddest', 'lang', 'compositions', 'disappearing', 'celine', 'roommates', 'yearning', 'bishop', 'explanations', 'mandatory', 'rant', 'embarrass', 'traumatized', \"fan',\", 'aweigh', 'jam', 'shelves', 'companions', 'crowds', 'stumbling', 'relaxing', 'sequelbr', 'psychiatric', 'seal', 'concentrates', 'wrath', 'nailed', 'goofs', 'hale', 'stretches', \"viewing',\", 'afghanistan', 'practices', 'reese', 'dani', 'nightbr', 'hopeful', 'bursts', 'idiocy', 'purse', 'screamed', 'discernible', 'alienate', 'hesitate', 'classicbr', 'neglect', 'stripper', 'pond', 'dickinson', 'spinning', 'casebr', 'improvised', 'expanded', 'roach', 'antichrist', 'agobr', 'cortez', 'outs', 'slew', 'worm', 'torch', 'footsteps', 'rapture', 'supremacy', 'valerie', 'swiss', 'midler', 'whip', 'prices', 'rusty', 'joanna', 'rene', 'imho', 'mindset', 'drugged', 'sessions', 'honeymoon', 'buildup', 'gannon', 'flipping', 'anonymous', \"rating',\", 'approximately', 'exwife', 'customs', 'muted', 'knack', 'y', 'finely', 'frenzy', 'relied', 'holland', 'reincarnation', 'collecting', 'curtain', 'theo', \"'good\", 'perceive', 'nerds', 'keitel', 'meanings', 'truthful', 'mechanic', 'incompetence', 'lightly', 'restless', 'elevate', 'judgement', 'pertwee', 'tourists', 'hmm', 'disdain', 'disasters', 'midway', 'profile', 'poet', 'regrets', 'lin', \"'warning\", 'irrational', 'rodney', 'itd', 'lecture', 'overacts', 'thorn', 'dogma', \"'once\", 'doses', 'neeson', 'hustler', 'italians', 'prophet', 'zabriskie', 'paragraph', 'hilton', 'maguire', 'vaudeville', 'rotting', 'guru', 'prejudices', 'giggle', \"screen',\", 'woke', \"'most\", 'peril', 'sammi', 'marathon', 'crenna', 'smarmy', 'contemplate', 'transformers', 'segal', 'adequately', 'efficient', 'vera', 'fable', 'pub', 'corbin', 'confronting', 'dopey', 'billion', 'ursula', 'noam', 'palestinian', 'floriane', 'sarne', 'braindead', 'chock', 'slipped', 'liz', 'performancesbr', 'toss', 'chapters', 'immersed', 'dreadfully', 'hitchhiker', 'wisecracking', 'sack', 'diabolical', \"picture',\", 'chocolate', 'duryea', 'dyke', 'metropolis', 'citys', 'strikingly', 'preteen', 'posh', 'apartheid', 'fatherson', 'tensions', 'daisies', 'btk', 'firsttime', 'sparse', 'farewell', 'worship', 'norton', 'lyrical', 'flip', 'murphys', 'rko', 'walters', 'fulllength', 'ripoffs', 'rosenstrasse', 'mourning', 'alternately', 'wills', 'pranks', 'cowriter', 'premises', 'looney', 'shootings', 'kerr', 'michel', 'custody', 'montages', 'revive', 'coleman', 'vets', 'rugged', 'sloane', 'postmodern', 'islam', 'insanely', 'slows', 'victorias', 'subtleties', 'locales', 'replay', 'lange', 'choke', 'stepped', 'bury', 'penalty', 'backwoods', 'durbin', 'versatile', 'throats', 'snippets', 'listing', 'surpasses', 'grain', 'thatll', 'harlem', 'acknowledged', 'adopt', 'guided', 'jock', 'thumb', 'bombing', 'shaolin', 'chewing', 'versa', 'rebecca', 'rests', 'undeveloped', 'oddball', 'partial', 'submit', 'garcia', 'bolivia', 'planted', 'zealand', 'sleuth', 'passenger', 'ecstasy', 'brink', 'suggestive', 'impeccable', \"'john\", 'association', 'vengeful', 'luzhin', 'architect', 'bothering', 'micheal', 'weaver', 'squeeze', 'bald', 'welcomed', 'supporters', 'everybodys', 'prevented', 'regain', 'insects', 'waits', 'january', 'garnered', 'converted', 'unemployed', 'recipe', 'comebr', 'camps', 'conception', 'delve', 'balloon', 'lung', 'snappy', 'harrys', \"'who\", 'shakespearean', 'awfulness', 'volumes', 'corky', 'downtown', 'naval', 'compromise', 'mostel', 'hilariousbr', 'skipping', \"stuff',\", 'flame', 'bonding', 'happier', 'rizzo', 'rehearsal', 'spectacularly', 'rushes', 'tested', 'themselvesbr', 'empathize', 'betrays', 'bash', 'ahmad', 'proverbial', 'pecker', 'vault', 'teddy', 'condescending', \"'though\", 'conduct', 'wipe', 'maiden', 'eh', 'rightfully', 'ash', 'uncredited', 'atomic', 'dental', 'conclusionbr', 'keeler', 'documents', 'regal', 'discussions', 'kaufman', 'lovingly', 'darius', 'kiddie', 'apprentice', 'recreation', 'scandal', 'adventurous', 'coaster', 'astronaut', 'cocky', 'oppressive', 'goodnatured', 'hazzard', 'gage', 'wits', 'tobe', 'smarter', 'prevalent', 'izzard', 'productionbr', 'collar', 'friendships', 'architecture', 'lucio', 'carole', 'melinda', 'kamal', 'horn', 'rico', 'branch', 'elmer', 'callahan', 'fugitive', 'sentenced', 'dimwitted', 'assassins', 'daphne', 'penis', 'spectrum', 'healing', 'distributors', 'mpaa', 'cbc', 'telly', 'assist', 'achieving', 'creeps', 'smoothly', 'comicbook', 'sciencefiction', 'philadelphia', 'voiceovers', 'mischievous', 'variations', 'harmony', 'equals', 'connecting', 'cillian', 'lizard', 'thankful', 'grips', 'insteadbr', 'societies', 'carnival', 'practicing', 'marred', 'tucker', 'presumed', 'directorbr', 'granger', 'stir', 'wondrous', 'backyard', 'darkest', 'throughoutbr', 'farrah', 'retain', 'hardest', 'mocking', 'swamp', 'gesture', 'suspended', 'anyonebr', 'exposing', 'profit', 'babysitter', 'janitor', 'limbs', 'duties', 'allison', 'throne', 'expertise', 'stubborn', 'duff', 'locks', 'ella', 'believer', 'revelations', \"genre',\", 'nineties', 'universally', 'palette', 'jessie', 'sacrificed', 'exhibit', 'millennium', 'render', 'fiasco', 'guevara', 'stature', 'wheels', 'graves', 'tepid', 'pauses', 'allegedly', 'gamut', 'connolly', 'hedy', 'benson', 'grumpy', 'andersons', 'tenants', 'eponymous', 'anchor', 'desolate', 'kinky', 'matching', 'witless', 'hockey', 'carson', 'chore', 'apologize', 'stripped', 'intruder', 'welch', 'hurting', 'basil', 'december', 'fatherbr', 'honorable', 'heroin', 'disgruntled', 'gen', 'november', 'smitten', 'shinae', 'administration', 'cathy', 'kalifornia', 'viggo', 'sorvino', 'pavarotti', 'eliminate', 'unborn', 'episodic', 'futurebr', 'gaining', 'candidates', 'dusty', 'mac', 'overt', 'spielbergs', 'careerbr', 'mutated', 'bucket', 'strangest', 'irs', 'rainer', 'kindness', 'haired', 'menbr', 'kentucky', 'requisite', 'straw', 'hungarian', 'sans', 'snatch', 'cheaper', 'cloud', 'intestines', 'satellite', 'monstrous', 'kramer', 'barbarian', 'carface', 'illiterate', 'oriental', 'rollercoaster', 'bets', 'cruella', 'pita', 'hating', 'celebrating', 'shouts', 'dense', 'rack', 'gamebr', 'illustrates', 'til', 'layered', \"flick',\", \"b',\", 'elliot', 'insignificant', 'continent', 'nuance', 'ranging', 'norwegian', 'woven', 'rigid', 'psychologically', 'plotted', 'amok', 'untrue', 'lamas', 'caroline', 'forgivable', 'undertaker', 'outrage', \"future',\", 'outtakes', 'edits', 'hisher', 'batwoman', 'outta', 'truebr', 'singin', 'mold', 'villagers', 'hoods', 'hispanic', 'confirm', 'barker', 'examined', 'classified', 'whipped', 'recalls', 'pam', 'connor', 'unimpressive', 'capt', 'casted', 'unrated', 'marquis', 'livesbr', 'pauls', 'interpreted', 'shack', 'floors', 'norma', 'democracy', 'fs', 'surrogate', 'crow', 'directionbr', 'hogan', 'siege', 'surfers', 'stoic', 'morgana', 'austens', 'willem', 'blaxploitation', 'platoon', 'twodimensional', 'everythingbr', 'participation', 'logo', 'hug', 'napoleon', 'exhausted', 'secluded', 'insulted', 'usage', 'patch', 'grounded', 'goo', 'extremes', 'exudes', 'voters', 'greta', 'lieutenant', 'ensuing', 'fulcis', \"disappointment',\", 'monstrosity', 'unfairly', 'colourful', 'weaves', 'clumsily', \"right',\", 'osullivan', 'coarse', 'unsuccessful', 'spaces', 'talentless', 'pursues', 'holidays', 'abominable', 'operas', 'draft', 'bgrade', 'chat', 'malcolm', 'miracles', 'emerged', 'redeemed', 'brits', 'obscene', 'deathstalker', 'jackass', 'retrospect', 'blink', 'badass', 'texture', \"'every\", 'indulge', 'soles', 'denied', 'addressing', 'hiring', 'smalltown', 'employ', 'olympic', 'capitalize', 'organs', 'admirably', 'chains', 'crop', 'poppins', 'pokes', 'delia', 'orphanage', 'streisands', 'goers', 'spreading', 'glee', 'lap', 'lineup', 'answering', 'hosts', 'faux', 'tedium', 'orgy', 'polite', 'documented', 'unnamed', 'insisted', 'integrated', 'drifter', 'evolved', 'preserved', 'fanatics', 'plants', 'mining', 'irwin', 'puzzling', 'stimulating', 'monastery', 'soulless', 'criminally', 'unfinished', 'request', 'instruments', 'vanishing', 'smallest', 'prevents', 'gilligans', 'supplies', 'dw', 'corridors', 'bathing', 'swat', 'booze', 'flamenco', 'hmmm', 'inc', 'bogdanovich', 'terriblebr', 'gladly', 'hamill', 'ounce', 'maverick', 'beau', 'bonham', 'voting', 'liza', \"a',\", 'transform', 'acquire', 'atrocities', 'jew', 'teds', 'bens', 'rerun', 'aiello', 'jed', 'crawl', 'adapting', 'ferry', 'transcends', 'allied', 'attributed', 'affections', 'lotr', \"series',\", 'arizona', 'culminating', 'yetbr', 'tasteful', 'leno', 'gifts', \"down',\", 'wtc', 'itchy', 'interpret', 'shrink', 'imdbs', 'anchorman', 'aims', 'seinfeld', 'misplaced', 'wicker', 'chef', 'positions']\n"
          ],
          "name": "stdout"
        }
      ]
    },
    {
      "cell_type": "code",
      "metadata": {
        "id": "gKBRgc4UYfjf"
      },
      "source": [
        "def vectorize(review_string, vocab):\n",
        "  ### Answer starts here ###\n",
        "  review_list = review_string.split(\" \")\n",
        "  binary_list = np.zeros(10000,dtype=int)\n",
        "# for the word in vocabulary, it will be 1 and the rest 10000-i is 0\n",
        "# it should be in correct order\n",
        " \n",
        "  for i in range(len(review_list)):\n",
        "    if review_list[i] in vocab:\n",
        "      index = vocab.index(review_list[i]) # get the index of the word in the vocabulary \n",
        "      binary_list[index] = 1\n",
        "      \n",
        "  return binary_list\n",
        "  ### Answer ends here ###"
      ],
      "execution_count": null,
      "outputs": []
    },
    {
      "cell_type": "markdown",
      "metadata": {
        "id": "A7UHbv8SLiz7"
      },
      "source": [
        "Test your function with the following input. The vector should have four \"1\"s."
      ]
    },
    {
      "cell_type": "code",
      "metadata": {
        "id": "7ohyWmFCeknM",
        "colab": {
          "base_uri": "https://localhost:8080/",
          "height": 51
        },
        "outputId": "c3609c89-3706-4a7d-ff0b-6f7ed9777e20"
      },
      "source": [
        "vector = vectorize(\"the and a of zyxw\", vocabulary)\n",
        "print(vector)\n",
        "print(sum(vector))\n",
        "#print(len(vector))"
      ],
      "execution_count": null,
      "outputs": [
        {
          "output_type": "stream",
          "text": [
            "[1 1 1 ... 0 0 0]\n",
            "4\n"
          ],
          "name": "stdout"
        }
      ]
    },
    {
      "cell_type": "markdown",
      "metadata": {
        "id": "Nn4UER2SL96P"
      },
      "source": [
        "Now, vectorize the whole dataset. "
      ]
    },
    {
      "cell_type": "code",
      "metadata": {
        "id": "gUU0n_zsMvfv"
      },
      "source": [
        "### Answer starts here ###\n",
        "# each element in X_train is a string of review\n",
        "# hence X_train_vect is an array of list that contains binary elements \n",
        "X_train_vect = []\n",
        "for i in X_train: \n",
        "  X_train_vect.append(vectorize(i,vocabulary))\n",
        "### Answer ends here ###"
      ],
      "execution_count": null,
      "outputs": []
    },
    {
      "cell_type": "code",
      "metadata": {
        "id": "N4U6rj0PQUjE",
        "colab": {
          "base_uri": "https://localhost:8080/",
          "height": 357
        },
        "outputId": "8c7e49e4-2764-447d-b0b7-b5ded84d5f62"
      },
      "source": [
        "for i in range(5):\n",
        "  print_review(X_train_vect[i], y_train[i])"
      ],
      "execution_count": null,
      "outputs": [
        {
          "output_type": "stream",
          "text": [
            "--------------- Review with score of -1 ---------------\n",
            "[1 1 1 ... 0 0 0]\n",
            "------------------------------------------------------\n",
            "\n",
            "--------------- Review with score of 1 ---------------\n",
            "[1 1 1 ... 0 0 0]\n",
            "------------------------------------------------------\n",
            "\n",
            "--------------- Review with score of -1 ---------------\n",
            "[1 1 1 ... 0 0 0]\n",
            "------------------------------------------------------\n",
            "\n",
            "--------------- Review with score of -1 ---------------\n",
            "[1 1 1 ... 0 0 0]\n",
            "------------------------------------------------------\n",
            "\n",
            "--------------- Review with score of 1 ---------------\n",
            "[1 1 1 ... 0 0 0]\n",
            "------------------------------------------------------\n",
            "\n"
          ],
          "name": "stdout"
        }
      ]
    },
    {
      "cell_type": "markdown",
      "metadata": {
        "id": "hzNo-5oNRXz6"
      },
      "source": [
        "For convenience, we will write a function called `preprocess_sample_point` which takes as input a single raw review and ouputs its binary bag-of-words representation."
      ]
    },
    {
      "cell_type": "code",
      "metadata": {
        "id": "BO9Ge_lwMwEP"
      },
      "source": [
        "def preprocess_sample_point(review, vocab):\n",
        "  return vectorize(clean(review), vocab)"
      ],
      "execution_count": null,
      "outputs": []
    },
    {
      "cell_type": "code",
      "metadata": {
        "id": "4-Wg-6UKrH8t",
        "colab": {
          "base_uri": "https://localhost:8080/",
          "height": 51
        },
        "outputId": "f2f2dc1a-2581-4d62-f44e-b6bdc399c134"
      },
      "source": [
        "vectorized_review = preprocess_sample_point(\n",
        "    'The movie was not bad, it was really good!', vocabulary)\n",
        "print(sum(vectorized_review))\n",
        "print(vectorized_review)"
      ],
      "execution_count": null,
      "outputs": [
        {
          "output_type": "stream",
          "text": [
            "8\n",
            "[1 0 0 ... 0 0 0]\n"
          ],
          "name": "stdout"
        }
      ]
    },
    {
      "cell_type": "markdown",
      "metadata": {
        "id": "co54Ubd5QJDN"
      },
      "source": [
        "### Question 2.3 Preparing the test set\n",
        "\n",
        "Now that we have defined a cleaning function and extracted the features from the train set, we are ready to preprocess the test set. Implement the `preprocess` function below such that it:\n",
        "\n",
        "1. Loads the raw data from a csv file \n",
        "2. Cleans and vectorizes the reviews\n",
        "3. Converts the scores to `int`\n",
        "4. Returns the data into a  `(X_test, y_test)` tuple"
      ]
    },
    {
      "cell_type": "code",
      "metadata": {
        "id": "TBoumQUSMvXD"
      },
      "source": [
        "def preprocess(csv_filename, vocab):\n",
        "  ### Answer starts here ###\n",
        "  with open(csv_filename) as csv_file:\n",
        "    csv_reader = csv.reader(csv_file)\n",
        "    colnames = next(csv_reader)  # skip column names\n",
        "    data = list(csv_reader)\n",
        "  \n",
        "  X = []\n",
        "  y = []\n",
        "  for review, score in data:\n",
        "    X.append(vectorize(clean(review), vocab))\n",
        "    y.append(int(score))\n",
        "\n",
        "  return (X, y)\n",
        "  ### Answer ends here ###"
      ],
      "execution_count": null,
      "outputs": []
    },
    {
      "cell_type": "code",
      "metadata": {
        "id": "t84s9ir_ekgA",
        "colab": {
          "base_uri": "https://localhost:8080/",
          "height": 204
        },
        "outputId": "4f4a560c-fedb-4af5-cfd8-ff746f11f875"
      },
      "source": [
        "!wget https://raw.githubusercontent.com/McGillAISociety/BootcampAssignmentDatasets/master/data/assignment2/test_reviews.csv"
      ],
      "execution_count": null,
      "outputs": [
        {
          "output_type": "stream",
          "text": [
            "--2020-10-24 17:16:21--  https://raw.githubusercontent.com/McGillAISociety/BootcampAssignmentDatasets/master/data/assignment2/test_reviews.csv\n",
            "Resolving raw.githubusercontent.com (raw.githubusercontent.com)... 151.101.0.133, 151.101.64.133, 151.101.128.133, ...\n",
            "Connecting to raw.githubusercontent.com (raw.githubusercontent.com)|151.101.0.133|:443... connected.\n",
            "HTTP request sent, awaiting response... 200 OK\n",
            "Length: 32551850 (31M) [text/plain]\n",
            "Saving to: ‘test_reviews.csv’\n",
            "\n",
            "test_reviews.csv    100%[===================>]  31.04M  39.2MB/s    in 0.8s    \n",
            "\n",
            "2020-10-24 17:16:22 (39.2 MB/s) - ‘test_reviews.csv’ saved [32551850/32551850]\n",
            "\n"
          ],
          "name": "stdout"
        }
      ]
    },
    {
      "cell_type": "code",
      "metadata": {
        "id": "FYdinHq9UYWU"
      },
      "source": [
        "X_test, y_test = preprocess('test_reviews.csv', vocabulary)"
      ],
      "execution_count": null,
      "outputs": []
    },
    {
      "cell_type": "code",
      "metadata": {
        "id": "RGKPj6iozEtS",
        "colab": {
          "base_uri": "https://localhost:8080/",
          "height": 357
        },
        "outputId": "11ee455b-1f06-4dad-c685-a1df18514b9c"
      },
      "source": [
        "for i in range(5):\n",
        "  print_review(X_test[i], y_test[i])"
      ],
      "execution_count": null,
      "outputs": [
        {
          "output_type": "stream",
          "text": [
            "--------------- Review with score of -1 ---------------\n",
            "[1 1 1 ... 0 0 0]\n",
            "------------------------------------------------------\n",
            "\n",
            "--------------- Review with score of -1 ---------------\n",
            "[1 0 1 ... 0 0 0]\n",
            "------------------------------------------------------\n",
            "\n",
            "--------------- Review with score of 1 ---------------\n",
            "[1 1 1 ... 0 0 0]\n",
            "------------------------------------------------------\n",
            "\n",
            "--------------- Review with score of -1 ---------------\n",
            "[1 1 1 ... 0 0 0]\n",
            "------------------------------------------------------\n",
            "\n",
            "--------------- Review with score of 1 ---------------\n",
            "[1 1 1 ... 0 0 0]\n",
            "------------------------------------------------------\n",
            "\n"
          ],
          "name": "stdout"
        }
      ]
    },
    {
      "cell_type": "markdown",
      "metadata": {
        "id": "hEIhyms7N3oo"
      },
      "source": [
        "\n",
        "##3. Naive Bayes\n",
        "Later in this assignment, we will use pre-existing implementations of two types of models: random forests and support vector machines. However, we will start first by implementing from sratch a third type of classifier: naive Bayes classifers. Unfortunately, Naives Bayes performs poorly on this dataset and you should expect accuracies around ~40%. Regardless, implementing it from scratch will be a good learning experience. \n",
        "\n",
        "Naive Bayes classifiers are part of a larger family of classifiers which are called 'probabilistic classifiers': not only do they try to predict classes given features, but they also estimate probability distributions over a set of classes.\n",
        "\n",
        "First, let's will go over some definitions:\n",
        "\n",
        "**Definition:** A *prior probability* is the likelihood of an event given no further assumptions. For instance, the probability that it's raining is relatively low.\n",
        "\n",
        "**Definiton:** A *posterior probability* or *conditional probability* is the likelihood of an event given that some other event has occurred. For instance, the probability that it's raining given that there are clouds is higher than if we don't make that assumption.\n",
        "\n",
        "Now we will go over some motivation:\n",
        "\n",
        "For the purpose of argument, imagine we had access to the probability distribution $\\Pr$. That is, we know how likely features and classes are. For example, $\\Pr(x_1 = 1)$ is the probability that the most common word, i.e. \"the\", is in a random movie review. Presumably, this probability is relatively high. As a second example, $\\Pr(y = 1)$ is the probability that a random movie review is 'good'. In our case, this would be somewhere close to 0.67.\n",
        "\n",
        "Since we hypothetically have access to the whole probability distribution, we also know conditional probabilities. For instance, we would know $\\Pr(y = 0 \\; \\vert \\; x_1 = 0)$, which is the probability that a random review is 'bad', given that it does not contain the word \"the\".\n",
        "\n",
        "Given a probability distribution, we can find an optimal classifier which simply picks the class which maximizes the probability that we will see that class given the observed features, in other words our classifier $f: \\B^n \\to \\B$ is given by:\n",
        "\n",
        "$$ f(x_1, \\ldots, x_n) = \\argmax_{c \\in \\B} \\Pr(y = c \\given x_1, \\ldots, x_n ).$$\n",
        "\n",
        "Where $\\argmax$ returns the element in $\\B$ which maximizes the expression to its right, and $\\B$ is the set with two elements, $\\{0, 1\\}$. For example, we have\n",
        "$$ \\argmax_{x \\in \\R} (x - x^2) = \\frac 1 2, $$\n",
        "since $\\frac 1 2$ maximizes the expression $x - x^2$.\n",
        "\n",
        "It would be great if we had access to the probability distribution $\\Pr$, but unfortunately we don't in almost every case. This means we wish to try to estimate it given some samples, i.e. the training data.\n",
        "\n",
        "However, we run into another issue: estimating the probability distribution is computionally expensive. Therefore, we assume that the different features are independent from one another. This is called the *naive conditional independence assumption*. In other words, we assume that\n",
        "\n",
        "$$ \\forall i \\in \\{1, \\ldots, n\\} : \\Pr (x_i \\given y, x_1, \\ldots, x_{i-1}, x_{i+1}, \\ldots, x_n) = \\Pr(x_i \\given y).$$\n",
        "\n",
        "Using Bayes' Theorem, we can simplify the conditional independence assumption to:\n",
        "\n",
        "$$\\Pr(y \\given x_1, \\ldots, x_n) = \\frac{\\Pr(y) \\prod_{i=1}^n \\Pr(x_i \\given y)}{\\Pr(x_1, \\ldots, x_n)}.$$\n",
        "\n",
        "However, we can observe that the denominator is constant for a given input, so it's not actually necesarry to estimate it if all we want is to find the class with the maximum posterior probability. In other words,\n",
        "\n",
        "$$ \\Pr(y \\given x_1, \\ldots, x_n) \\propto \\Pr(y) \\prod_{i=1}^n \\Pr(x_i \\given y), $$\n",
        "\n",
        "so, our classification rule becomes\n",
        "\n",
        "$$ f(x_1, \\ldots, x_n) = \\argmax_{y \\in \\B} \\Pr(y) \\prod _{i=1}^n \\Pr(x_i \\given y).$$\n",
        "\n",
        "Where $\\propto$ means \"proportional to\" and  $\\prod_{i = 1}^n g(i)$ is like summation $\\left(\\sum_{i=1}^n g(i)\\right)$, except that addition is replaced with multiplication. For example,\n",
        "\n",
        "$$\\prod_{i = 1}^5 i^2 = 1^2 \\cdot 2^2 \\cdot 3^2 \\cdot 4^2 \\cdot 5^2.$$\n",
        "\n",
        "**Note**: To estimate prior and conditional probabilities, we use the ratios of occurence counts found in the dataset. For example, to estimate $\\Pr(x_1 = 0 \\; \\vert \\; y = 0)$, we have to calculate the number of instances of class zero for which $x_1 = 0$ and divide them by the number of instances of class 0.\n",
        "\n",
        "**Note**: The naive independence assumption is usually false in practice for most features. Therefore, the resulting estimated probability distribution is usually a bad approximation of the true distribution. However, the resulting classifier often has a good performance, depending on the dataset."
      ]
    },
    {
      "cell_type": "markdown",
      "metadata": {
        "id": "fN-dse1NBQnk"
      },
      "source": [
        "### Quesiton 3.1 Estimating the Probability Distribution\n",
        "\n",
        "It would be expensive to re-estimate prior and posterior probabilities every time, so we should save probabilities in memory.\n",
        "\n",
        "Thus, you will need to save\n",
        "1. $\\Pr(y)$ for each $y \\in \\B$, and\n",
        "2. $\\Pr(x_i = u \\; \\vert \\; y)$ for each $ i \\in \\{1, \\ldots, n\\}$, $u \\in \\mathbb{B}$ and $y \\in \\mathbb{B}$.\n",
        "\n",
        "Remember that you are *estimating* the probabilities using the training set only."
      ]
    },
    {
      "cell_type": "code",
      "metadata": {
        "id": "6qdQiGk9J0J7",
        "colab": {
          "base_uri": "https://localhost:8080/",
          "height": 51
        },
        "outputId": "85860196-11b9-475f-82dd-3d0162ed483c"
      },
      "source": [
        "print(len(X_train_vect))\n",
        "print(len(X_train_vect[0]))"
      ],
      "execution_count": null,
      "outputs": [
        {
          "output_type": "stream",
          "text": [
            "24999\n",
            "10000\n"
          ],
          "name": "stdout"
        }
      ]
    },
    {
      "cell_type": "code",
      "metadata": {
        "id": "9-KrWs3DER_R"
      },
      "source": [
        "### Answer starts here ###\n",
        "# Pr(y) contains proportion of negative review and positive review \n",
        "positive_rev = 0\n",
        "negative_rev = 0\n",
        "number_rev = 0\n",
        "for i in y_train:\n",
        "  if i > 0:\n",
        "    positive_rev += 1\n",
        "    number_rev += 1\n",
        "  if i < 0:\n",
        "    negative_rev += 1\n",
        "    number_rev += 1\n",
        "review = [positive_rev,negative_rev]\n",
        "Pr_y = [positive_rev/number_rev, negative_rev/number_rev]\n",
        "feature_list_1 = [] # the study of each x_i when y = 1\n",
        "feature_list_2 = [] # the study of each x_i when y = -1 \n",
        "label_list = [0,0]\n",
        "\n",
        "# This is my code\n",
        "number_xj_1_if_y_neg = [0] * 10000\n",
        "number_xj_0_if_y_neg = [0] * 10000\n",
        "number_xj_1_if_y_pos = [0] * 10000\n",
        "number_xj_0_if_y_pos = [0] * 10000\n",
        "#\n",
        "\n",
        "for i in range(24999): \n",
        "  if y_train[i] == 1: \n",
        "    # count x_i that is in good review\n",
        "    for j in range(10000):\n",
        "      if X_train_vect[i][j] == 1 : # the word is there and review is good \n",
        "        # Added this line below too \n",
        "        number_xj_1_if_y_pos[j] += X_train_vect[i][j]\n",
        "      if X_train_vect[i][j] == 0:\n",
        "        number_xj_0_if_y_pos[j] += X_train_vect[i][j]\n",
        "\n",
        "  if y_train[i] == -1:\n",
        "\n",
        "    for j in range(len(X_train_vect[0])):\n",
        "      if X_train_vect[i][j] == 1 : # the word is there and review is good \n",
        "        number_xj_1_if_y_neg[j] += X_train_vect[i][j]\n",
        "      if X_train_vect[i][j] == 0:\n",
        "        number_xj_0_if_y_neg[j] += X_train_vect[i][j]\n",
        "\n",
        "cond_xj_0_if_y_neg = [xj/negative_rev for xj in number_xj_0_if_y_neg]\n",
        "cond_xj_1_if_y_neg = [xj/negative_rev for xj in number_xj_1_if_y_neg]\n",
        "cond_xj_0_if_y_pos = [xj/positive_rev for xj in number_xj_0_if_y_pos]\n",
        "cond_xj_1_if_y_pos = [xj/positive_rev for xj in number_xj_1_if_y_pos]\n",
        "\n",
        "Pr_x_given_y = [0,0]\n",
        "Pr_x_given_y[0] = [cond_xj_1_if_y_pos, cond_xj_0_if_y_pos]\n",
        "Pr_x_given_y[1] = [cond_xj_1_if_y_neg, cond_xj_0_if_y_neg]\n",
        "# this is to stay consistent with my Pr_y as at index 0, it is probablity of positive review and Pr_y at index 1 is probablity of negative review \n",
        "\n",
        "### Answer ends here ###"
      ],
      "execution_count": null,
      "outputs": []
    },
    {
      "cell_type": "markdown",
      "metadata": {
        "id": "wfCjr-JrEJya"
      },
      "source": [
        "### Question 3.2 Creating the Naive Bayes Classifier\n",
        "\n",
        "Create a function called `naive_bayes` which will take as input a list of features $x_1, \\ldots, x_n$ and outputs the class with the largest posterior probability given the input features."
      ]
    },
    {
      "cell_type": "code",
      "metadata": {
        "id": "oFabjt-76hmj",
        "colab": {
          "base_uri": "https://localhost:8080/",
          "height": 68
        },
        "outputId": "1e4601f9-5831-418c-e149-1aff3a49c8ba"
      },
      "source": [
        "\n",
        "print(len(Pr_x_given_y))\n",
        "print(len(Pr_x_given_y[0]))"
      ],
      "execution_count": null,
      "outputs": [
        {
          "output_type": "stream",
          "text": [
            "2\n",
            "12499\n",
            "12499\n"
          ],
          "name": "stdout"
        }
      ]
    },
    {
      "cell_type": "code",
      "metadata": {
        "id": "sfKW9cZs4x-N"
      },
      "source": [
        "def naive_bayes(X_vector):\n",
        "  ### Answer starts here ###\n",
        "  result = np.array([1,1])\n",
        "  for j in range(2):\n",
        "    product = 1\n",
        "    for i in range(len(X_vector)):\n",
        "      if X_vector[i] == 1:\n",
        "        product *= Pr_x_given_y[j][0][i]\n",
        "      if X_vector[i] == 0:\n",
        "        product *= Pr_x_given_y[j][1][i]\n",
        "    result[j] = Pr_y[j] * product \n",
        "  result = np.argmax(result)\n",
        "\n",
        "  if result == 0:\n",
        "    return 1  # the review is good\n",
        "  if result == 1:\n",
        "    return -1 # the review is bad \n",
        "\n",
        "  \n",
        "  ### Answer ends here ###"
      ],
      "execution_count": null,
      "outputs": []
    },
    {
      "cell_type": "markdown",
      "metadata": {
        "id": "l1iGVZtkE5fF"
      },
      "source": [
        "### Question 3.3 Measuring Performance\n",
        "\n",
        "Using the naive Bayes classifier, predict the classes for each sample point in the training set as well as the test set and print accuracies.\n",
        "\n",
        "**Note:** You should get train and test accuracies of about 40-45%.\n",
        "\n",
        "**Hint:** You can use the `accuracy_score` function provided by `sklearn.metrics`"
      ]
    },
    {
      "cell_type": "code",
      "metadata": {
        "id": "7SjmIjYPSW10",
        "colab": {
          "base_uri": "https://localhost:8080/",
          "height": 351
        },
        "outputId": "c89a0437-2580-49c5-ab2b-6c340141ba03"
      },
      "source": [
        "### Answer starts here ##\n",
        "y_pred = []\n",
        "for i in range(len(X_test)):\n",
        "  y_pred.append(naive_bayes(X_test[i]))\n",
        "y_pred = np.array(y_pred)\n",
        "accuracy = accuracy_score(np.array(y_test), y_pred)\n",
        "print(accuracy) \n",
        "### Answer ends here ###"
      ],
      "execution_count": null,
      "outputs": [
        {
          "output_type": "error",
          "ename": "KeyboardInterrupt",
          "evalue": "ignored",
          "traceback": [
            "\u001b[0;31m---------------------------------------------------------------------------\u001b[0m",
            "\u001b[0;31mKeyboardInterrupt\u001b[0m                         Traceback (most recent call last)",
            "\u001b[0;32m<ipython-input-61-86852d8e7539>\u001b[0m in \u001b[0;36m<module>\u001b[0;34m()\u001b[0m\n\u001b[1;32m      2\u001b[0m \u001b[0my_pred\u001b[0m \u001b[0;34m=\u001b[0m \u001b[0;34m[\u001b[0m\u001b[0;34m]\u001b[0m\u001b[0;34m\u001b[0m\u001b[0;34m\u001b[0m\u001b[0m\n\u001b[1;32m      3\u001b[0m \u001b[0;32mfor\u001b[0m \u001b[0mi\u001b[0m \u001b[0;32min\u001b[0m \u001b[0mrange\u001b[0m\u001b[0;34m(\u001b[0m\u001b[0mlen\u001b[0m\u001b[0;34m(\u001b[0m\u001b[0mX_test\u001b[0m\u001b[0;34m)\u001b[0m\u001b[0;34m)\u001b[0m\u001b[0;34m:\u001b[0m\u001b[0;34m\u001b[0m\u001b[0;34m\u001b[0m\u001b[0m\n\u001b[0;32m----> 4\u001b[0;31m   \u001b[0my_pred\u001b[0m\u001b[0;34m.\u001b[0m\u001b[0mappend\u001b[0m\u001b[0;34m(\u001b[0m\u001b[0mnaive_bayes\u001b[0m\u001b[0;34m(\u001b[0m\u001b[0mX_test\u001b[0m\u001b[0;34m[\u001b[0m\u001b[0mi\u001b[0m\u001b[0;34m]\u001b[0m\u001b[0;34m)\u001b[0m\u001b[0;34m)\u001b[0m\u001b[0;34m\u001b[0m\u001b[0;34m\u001b[0m\u001b[0m\n\u001b[0m\u001b[1;32m      5\u001b[0m \u001b[0my_pred\u001b[0m \u001b[0;34m=\u001b[0m \u001b[0mnp\u001b[0m\u001b[0;34m.\u001b[0m\u001b[0marray\u001b[0m\u001b[0;34m(\u001b[0m\u001b[0my_pred\u001b[0m\u001b[0;34m)\u001b[0m\u001b[0;34m\u001b[0m\u001b[0;34m\u001b[0m\u001b[0m\n\u001b[1;32m      6\u001b[0m \u001b[0maccuracy\u001b[0m \u001b[0;34m=\u001b[0m \u001b[0maccuracy_score\u001b[0m\u001b[0;34m(\u001b[0m\u001b[0mnp\u001b[0m\u001b[0;34m.\u001b[0m\u001b[0marray\u001b[0m\u001b[0;34m(\u001b[0m\u001b[0my_test\u001b[0m\u001b[0;34m)\u001b[0m\u001b[0;34m,\u001b[0m \u001b[0my_pred\u001b[0m\u001b[0;34m)\u001b[0m\u001b[0;34m\u001b[0m\u001b[0;34m\u001b[0m\u001b[0m\n",
            "\u001b[0;32m<ipython-input-56-6f57dbdae314>\u001b[0m in \u001b[0;36mnaive_bayes\u001b[0;34m(X_vector)\u001b[0m\n\u001b[1;32m      7\u001b[0m       \u001b[0;32mif\u001b[0m \u001b[0mX_vector\u001b[0m\u001b[0;34m[\u001b[0m\u001b[0mi\u001b[0m\u001b[0;34m]\u001b[0m \u001b[0;34m==\u001b[0m \u001b[0;36m1\u001b[0m\u001b[0;34m:\u001b[0m\u001b[0;34m\u001b[0m\u001b[0;34m\u001b[0m\u001b[0m\n\u001b[1;32m      8\u001b[0m         \u001b[0mproduct\u001b[0m \u001b[0;34m*=\u001b[0m \u001b[0mPr_x_given_y\u001b[0m\u001b[0;34m[\u001b[0m\u001b[0mj\u001b[0m\u001b[0;34m]\u001b[0m\u001b[0;34m[\u001b[0m\u001b[0;36m0\u001b[0m\u001b[0;34m]\u001b[0m\u001b[0;34m[\u001b[0m\u001b[0mi\u001b[0m\u001b[0;34m]\u001b[0m\u001b[0;34m\u001b[0m\u001b[0;34m\u001b[0m\u001b[0m\n\u001b[0;32m----> 9\u001b[0;31m       \u001b[0;32mif\u001b[0m \u001b[0mX_vector\u001b[0m\u001b[0;34m[\u001b[0m\u001b[0mi\u001b[0m\u001b[0;34m]\u001b[0m \u001b[0;34m==\u001b[0m \u001b[0;36m0\u001b[0m\u001b[0;34m:\u001b[0m\u001b[0;34m\u001b[0m\u001b[0;34m\u001b[0m\u001b[0m\n\u001b[0m\u001b[1;32m     10\u001b[0m         \u001b[0mproduct\u001b[0m \u001b[0;34m*=\u001b[0m \u001b[0mPr_x_given_y\u001b[0m\u001b[0;34m[\u001b[0m\u001b[0mj\u001b[0m\u001b[0;34m]\u001b[0m\u001b[0;34m[\u001b[0m\u001b[0;36m1\u001b[0m\u001b[0;34m]\u001b[0m\u001b[0;34m[\u001b[0m\u001b[0mi\u001b[0m\u001b[0;34m]\u001b[0m\u001b[0;34m\u001b[0m\u001b[0;34m\u001b[0m\u001b[0m\n\u001b[1;32m     11\u001b[0m     \u001b[0mresult\u001b[0m\u001b[0;34m[\u001b[0m\u001b[0mj\u001b[0m\u001b[0;34m]\u001b[0m \u001b[0;34m=\u001b[0m \u001b[0mPr_y\u001b[0m\u001b[0;34m[\u001b[0m\u001b[0mj\u001b[0m\u001b[0;34m]\u001b[0m \u001b[0;34m*\u001b[0m \u001b[0mproduct\u001b[0m\u001b[0;34m\u001b[0m\u001b[0;34m\u001b[0m\u001b[0m\n",
            "\u001b[0;31mKeyboardInterrupt\u001b[0m: "
          ]
        }
      ]
    },
    {
      "cell_type": "code",
      "metadata": {
        "id": "s2ZbGmYj2WnZ",
        "colab": {
          "base_uri": "https://localhost:8080/",
          "height": 51
        },
        "outputId": "2e1489e8-1cf1-4c9c-fe39-29fd70ffe7fc"
      },
      "source": [
        "print(naive_bayes(preprocess_sample_point(\n",
        "    'Terrible. Horrible. Boring. This movie is bad', vocabulary)))\n",
        "\n",
        "print(naive_bayes(preprocess_sample_point(\n",
        "    'This movie was pretty good', vocabulary)))"
      ],
      "execution_count": null,
      "outputs": [
        {
          "output_type": "stream",
          "text": [
            "1\n",
            "1\n"
          ],
          "name": "stdout"
        }
      ]
    },
    {
      "cell_type": "markdown",
      "metadata": {
        "id": "D-azU55RKk-s"
      },
      "source": [
        "## 4. Support Vector Machines\n",
        "\n",
        "Quick recap of SVM: A support vector classifier tries to find the best separating hyperplane through the data. If the data is linearly separable, it finds a hyperplane that maximizes the margin. If it isn't, the classifier tries to minimize the cost associated with misclassifying points.\n",
        "\n"
      ]
    },
    {
      "cell_type": "markdown",
      "metadata": {
        "id": "YKLBuWjmAKoJ"
      },
      "source": [
        "### Question 4.1 Creating a Support Vector Classifier\n",
        "Using `scikit-learn`, create a support vector classifier for our review data.\n",
        "\n",
        "1. Use `scikit-learn` to create a linear support vector classifer (name it `svm_clf`)\n",
        "2. Fit the model to our training set\n",
        "3. Print training accuracy\n",
        "4. Print test accuracy"
      ]
    },
    {
      "cell_type": "code",
      "metadata": {
        "id": "11h5qZgArCLb",
        "colab": {
          "base_uri": "https://localhost:8080/",
          "height": 85
        },
        "outputId": "0ebca185-f037-4fb9-ee0d-b890e4bd055d"
      },
      "source": [
        "### Answer starts here ###\n",
        "svm_clf = LinearSVC()\n",
        "svm_clf.fit(np.array(X_train_vect), np.array(y_train))\n",
        "#\\svm_clf.predict(X_test)\n",
        "accuracy_test = accuracy_score(np.array(y_test), svm_clf.predict(np.array(X_test)))\n",
        "print(\"The test accuracy is  \", accuracy_test)\n",
        "\n",
        "accuracy_training = accuracy_score(np.array(y_train),svm_clf.predict(np.array(X_train_vect)))\n",
        "print(\"The training accuracy is \",accuracy_training)"
      ],
      "execution_count": null,
      "outputs": [
        {
          "output_type": "stream",
          "text": [
            "/usr/local/lib/python3.6/dist-packages/sklearn/svm/_base.py:947: ConvergenceWarning: Liblinear failed to converge, increase the number of iterations.\n",
            "  \"the number of iterations.\", ConvergenceWarning)\n"
          ],
          "name": "stderr"
        },
        {
          "output_type": "stream",
          "text": [
            "The test accuracy is   0.8299931997279891\n",
            "The training accuracy is  0.99979999199968\n"
          ],
          "name": "stdout"
        }
      ]
    },
    {
      "cell_type": "code",
      "metadata": {
        "id": "SRk2DxHptzmE",
        "colab": {
          "base_uri": "https://localhost:8080/",
          "height": 51
        },
        "outputId": "3095c76d-aea0-4055-8572-9baef34e27db"
      },
      "source": [
        "print(svm_clf.predict([preprocess_sample_point(\n",
        "    'Boring. Such a bad movie. It was terrible and predictable', vocabulary)]))\n",
        "\n",
        "print(svm_clf.predict([preprocess_sample_point(\n",
        "    'I really liked this movie, it\\'s great!', vocabulary)]))"
      ],
      "execution_count": null,
      "outputs": [
        {
          "output_type": "stream",
          "text": [
            "[-1]\n",
            "[1]\n"
          ],
          "name": "stdout"
        }
      ]
    },
    {
      "cell_type": "markdown",
      "metadata": {
        "id": "z_9sFSUNKscM"
      },
      "source": [
        "## 5. Random Forests\n",
        "\n",
        "Random forests are a type of ensemble classifier, i.e. they are made up of a number of 'weak' learners where the final classification is a combination of the classifications of each learner. \n",
        "\n"
      ]
    },
    {
      "cell_type": "markdown",
      "metadata": {
        "id": "Myn-42J9ACsH"
      },
      "source": [
        "### Question 5.1 Creating a Random Forest Classifier\n",
        "Using `scikit-learn`, create a radom forest classifier for our review data.\n",
        "\n",
        "1. Use `scikit-learn` to create a random forest classifier (name it `rfc`)\n",
        "2. Fit the model to our training set\n",
        "3. Print training accuracy\n",
        "4. Print test accuracy\n",
        "\n",
        "\n",
        "\n",
        "Be sure to check the [documentation](http://scikit-learn.org/stable/modules/generated/sklearn.ensemble.RandomForestClassifier.html). Try to play around with the hyperparameters to see if you can get higher accuracy. Specifically, try finding good values for `n_estimators`, `min_samples_split`, `max_depth` and `max_features`. Try to get accuracies close to the SVM's!"
      ]
    },
    {
      "cell_type": "code",
      "metadata": {
        "id": "Ddm3xZiNZkXu",
        "colab": {
          "base_uri": "https://localhost:8080/",
          "height": 68
        },
        "outputId": "686a195d-4f95-43b6-f872-1630068bbe2b"
      },
      "source": [
        "### Answer starts here ###\n",
        "rfc = RandomForestClassifier(max_depth= 30)\n",
        "rfc.fit(np.array(X_train_vect), np.array(y_train))\n",
        "rfc.predict(X_test)\n",
        "accuracy_test_rfc = accuracy_score(np.array(y_test), rfc.predict(np.array(X_test)))\n",
        "print(\"The test accuracy is  \", accuracy_test_rfc)\n",
        "\n",
        "accuracy_training_rfc = accuracy_score(np.array(y_train),rfc.predict(np.array(X_train_vect)))\n",
        "print(\"The training accuracy is \",accuracy_training_rfc)\n",
        "\n",
        "### Answer ends here ###"
      ],
      "execution_count": null,
      "outputs": [
        {
          "output_type": "stream",
          "text": [
            "0.8371934877395096\n",
            "The test accuracy is   0.8371934877395096\n",
            "The training accuracy is  0.9711588463538542\n"
          ],
          "name": "stdout"
        }
      ]
    },
    {
      "cell_type": "code",
      "metadata": {
        "id": "hPcnt6mI2g5e",
        "colab": {
          "base_uri": "https://localhost:8080/",
          "height": 51
        },
        "outputId": "e168db34-5f57-4a38-a86f-0985d38ae566"
      },
      "source": [
        "print(rfc.predict([preprocess_sample_point(\n",
        "    'Boring. This movie is terrible', vocabulary)]))\n",
        "\n",
        "print(rfc.predict([preprocess_sample_point(\n",
        "    'This movie was pretty good', vocabulary)]))"
      ],
      "execution_count": null,
      "outputs": [
        {
          "output_type": "stream",
          "text": [
            "[-1]\n",
            "[1]\n"
          ],
          "name": "stdout"
        }
      ]
    },
    {
      "cell_type": "markdown",
      "metadata": {
        "id": "1LAqa9be_3vR"
      },
      "source": [
        "### Question 5.2 Manual hyperparameter tuning\n",
        "\n",
        "Tell us about your hyperparamter tuning in a few sentences! What was your approach? Which paramters did you try changing? Were you able to improve your accuracies? (no right answer, just tell us what you experiemented with!)\n",
        "\n",
        "#############\n",
        "\n",
        "I have chosen max_depth of my tree to be 30 since i want to avoid over fitting of my training data. By doing so, my training accuracy is not 1 and when I changed the max_depth to 30, my training accuracy is 0.97 \n",
        "\n",
        "#############"
      ]
    },
    {
      "cell_type": "markdown",
      "metadata": {
        "id": "TP4D-1PjSVfA"
      },
      "source": [
        "## 6. [Optional] Tuning hyperparameters with GridSearchCV\n",
        "In this **optional** section, we will explore how to exhaustively tune the hyperparameters of a new classifier using `sklearn's` [GridSearchCV](https://scikit-learn.org/stable/modules/generated/sklearn.model_selection.GridSearchCV.html)."
      ]
    },
    {
      "cell_type": "markdown",
      "metadata": {
        "id": "C144CYOeYPca"
      },
      "source": [
        "### Question 6.1 Creating an Adaboost classifier\n",
        "In this section, we will be tuning the hyperparameters of an `adaboost` model. \n",
        "\n",
        "As its `sklearn` [documentation](https://scikit-learn.org/stable/modules/generated/sklearn.ensemble.AdaBoostClassifier.html) mentions, this classifier \"begins by fitting a classifier on the original dataset and then fits additional copies of the classifier on the same dataset but where the weights of incorrectly classified instances are adjusted such that subsequent classifiers focus more on difficult cases.\" \n",
        "\n",
        "For this question, simply create an instance of the classifer and name it `abc`."
      ]
    },
    {
      "cell_type": "code",
      "metadata": {
        "id": "rhuzkrzfZitf"
      },
      "source": [
        "### Answer starts here ###\n",
        "\n",
        "### Answer ends here ###"
      ],
      "execution_count": null,
      "outputs": []
    },
    {
      "cell_type": "markdown",
      "metadata": {
        "id": "rnIbpGe-Z52z"
      },
      "source": [
        "### Question 6.2 Finding the best parameters\n",
        "In order to use GridSearchCV, we need to provide it with a classifier (here, `abc`) and lists of different values for the hyperparameters we want to tune. GridSearchCV will run a fit using each possible parameter and get crossvalidation scores. \n",
        "\n",
        "For this question, use the GridSearchCV documentation to:\n",
        "1. Create a dict of parameters to tune with their respective list of values\n",
        "2. Create an instance of GridSearchCV with `abc` as the estimator and the following arguments: `cv=5, refit=False, verbose=3`\n",
        "3. Print the resulting scores and determine which parameters are best!\n"
      ]
    },
    {
      "cell_type": "code",
      "metadata": {
        "id": "1CZJsxsqa1bC"
      },
      "source": [
        "### Answer starts here ###\n",
        "\n",
        "### Answer ends here ###"
      ],
      "execution_count": null,
      "outputs": []
    },
    {
      "cell_type": "markdown",
      "metadata": {
        "id": "W6CdJGpjcK2r"
      },
      "source": [
        "### Question 6.3 Final result with best parameters\n",
        "Using the best parameters found in the previous question, reinstantiate an `adaboost` classifier, fit it to the train data, and print the the accuracy score on the test set. "
      ]
    },
    {
      "cell_type": "code",
      "metadata": {
        "id": "acx0uXvpeycS"
      },
      "source": [
        "### Answer starts here ####\n",
        "\n",
        "### Answer ends here ####"
      ],
      "execution_count": null,
      "outputs": []
    },
    {
      "cell_type": "markdown",
      "metadata": {
        "id": "aOsnRc2Q6ytj"
      },
      "source": [
        "## 7. Recap and conclusion\n",
        "Congratulations on reaching the end of Assignment 2! We hope you enjoyed it. \n",
        "\n",
        "Here's a recap of tasks and concepts explored in this assignment:\n",
        "\n",
        "\n",
        "1.   **Preprocessing**\n",
        "*   Cleaning train data: removing punctuation and HTML tags\n",
        "*   Basic feature engineering: vectorizing data, bag-of-words representation \n",
        "*   Using learned vocabulary to preprocess test data\n",
        "\n",
        "Preprocessing and data representation are very important in Natural Language Processing (NLP) projects. For more advanced preprocessing techniques, we highly recommend checking online the concepts of **stemming**, **n-gramming**, **stopwords removal**!\n",
        "\n",
        "2.   **Naive Bayes**\n",
        "*   Naive Bayes: recap of theory\n",
        "*   Implementing model from scratch\n",
        "\n",
        "Find out more about Naive Bayes implementations in `sklearn`: [GaussianNB](http://scikit-learn.org/stable/modules/generated/sklearn.naive_bayes.GaussianNB.html), [MultinomialNB](http://scikit-learn.org/stable/modules/generated/sklearn.naive_bayes.MultinomialNB.html), and more!\n",
        "\n",
        "3.   **Support Vector Machine**\n",
        "*   SVM: brief recap of theory and testing\n",
        "*   First introduction to `sklearn`: using already implemented models to classify data\n",
        "\n",
        "4.   **Random Forests**\n",
        "*   Random Forests: brief recap of theory and testing\n",
        "*   Introduction to hyperparameter tuning\n",
        "\n",
        "The default parameters are not always good enough! Find out more about how to tune hyperparameters in `sklearn` [here](https://scikit-learn.org/stable/modules/grid_search.html) or do the optional section 6 of this assignment. \n",
        "\n",
        "5.   **Tuning Adaboost with GridSearchCV**\n",
        "*   Adaboost: bried recap of theory and testing \n",
        "*   Tuning hyperparameters using GridSearchCV"
      ]
    },
    {
      "cell_type": "markdown",
      "metadata": {
        "id": "J7okgCQqFnxm"
      },
      "source": [
        "## 8. Submission\n",
        "\n",
        "To submit your work, please download as a .py file and upload it to its respective okpy assignment."
      ]
    }
  ]
}